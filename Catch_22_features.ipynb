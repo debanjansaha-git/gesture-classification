{
  "cells": [
    {
      "cell_type": "markdown",
      "metadata": {
        "id": "i4OJFxBDX1GP"
      },
      "source": [
        "**EMG Pattern Classification**\n",
        "\n",
        "For recording patterns, the author used a MYO Thalmic bracelet worn on a user’s forearm, and a PC with a Bluetooth receiver. The bracelet is equipped with **eight sensors** equally spaced around the forearm that simultaneously acquire myographic signals. The signals are sent through a Bluetooth interface to a PC. \n",
        "\n",
        "\n",
        "    Author: Debanjan Saha\n",
        "    College: Northeastern University\n",
        "    Group: Project Group 7\n",
        "    Batch: Wednesday\n",
        "    Course: IE 7300\n",
        "    Professor: Ramin M.\n",
        "\n",
        "This dataset contains raw EMG data for **36** subjects while they performed series of static hand gestures.The subject performs two series, each of which consists of **six (seven) basic gestures**. Each gesture was **performed for 3 seconds** with a **pause** of **3 seconds between gestures**.\n",
        "\n",
        "Relevant Paper:\n",
        "Lobov S., Krilova N., Kastalskiy I., Kazantsev V., Makarov V.A. Latent Factors Limiting the Performance of sEMG-Interfaces. Sensors. 2018;18(4):1122. doi: 10.3390/s18041122"
      ]
    },
    {
      "cell_type": "code",
      "execution_count": null,
      "metadata": {
        "colab": {
          "base_uri": "https://localhost:8080/"
        },
        "id": "AWVnn_ptXwj2",
        "outputId": "c13adb4f-f602-46a5-84ad-3db3cd24d556"
      },
      "outputs": [
        {
          "name": "stdout",
          "output_type": "stream",
          "text": [
            "Looking in indexes: https://pypi.org/simple, https://us-python.pkg.dev/colab-wheels/public/simple/\n",
            "Collecting pycatch22\n",
            "  Downloading pycatch22-0.4.2.tar.gz (49 kB)\n",
            "\u001b[2K     \u001b[90m━━━━━━━━━━━━━━━━━━━━━━━━━━━━━━━━━━━━━━━━\u001b[0m \u001b[32m49.0/49.0 KB\u001b[0m \u001b[31m2.0 MB/s\u001b[0m eta \u001b[36m0:00:00\u001b[0m\n",
            "\u001b[?25h  Installing build dependencies ... \u001b[?25l\u001b[?25hdone\n",
            "  Getting requirements to build wheel ... \u001b[?25l\u001b[?25hdone\n",
            "  Installing backend dependencies ... \u001b[?25l\u001b[?25hdone\n",
            "  Preparing metadata (pyproject.toml) ... \u001b[?25l\u001b[?25hdone\n",
            "Building wheels for collected packages: pycatch22\n",
            "  Building wheel for pycatch22 (pyproject.toml) ... \u001b[?25l\u001b[?25hdone\n",
            "  Created wheel for pycatch22: filename=pycatch22-0.4.2-cp39-cp39-linux_x86_64.whl size=118675 sha256=24d6d474a88d40bfaaf5ac1deb278bd9127a383933e45490ef45c327c07c7904\n",
            "  Stored in directory: /root/.cache/pip/wheels/c0/84/da/f210e9de22c6265163dac19287b0674e040605dfc519d83ca5\n",
            "Successfully built pycatch22\n",
            "Installing collected packages: pycatch22\n",
            "Successfully installed pycatch22-0.4.2\n"
          ]
        }
      ],
      "source": [
        "#!pip install nolds\n",
        "!pip install pycatch22\n",
        "#!pip install torchsummary\n",
        "# !pip install pyeeg"
      ]
    },
    {
      "cell_type": "code",
      "execution_count": null,
      "metadata": {
        "id": "V4l-e_ntX6Dd"
      },
      "outputs": [],
      "source": [
        "# import warnings\n",
        "import os\n",
        "from tqdm import tqdm\n",
        "import numpy as np\n",
        "import pandas as pd\n",
        "import matplotlib.pyplot as plt\n",
        "import seaborn as sns\n",
        "# import pywt\n",
        "# import librosa\n",
        "# import nolds\n",
        "# import pyeeg\n",
        "# warnings.filterwarnings('ignore')\n",
        "sns.set_style('darkgrid')\n",
        "pd.set_option('display.max_columns', 100)\n",
        "pd.set_option('display.max_colwidth', 500)"
      ]
    },
    {
      "cell_type": "code",
      "execution_count": null,
      "metadata": {
        "id": "CxPOLjWaX8pw"
      },
      "outputs": [],
      "source": [
        "# from scipy import stats\n",
        "import pycatch22\n",
        "# import tensorflow as tf\n",
        "# import torch\n",
        "# import torch.nn as nn\n",
        "# import torch.nn.functional as F\n",
        "# from torch.utils.data import TensorDataset, DataLoader\n",
        "# from torchsummary import summary\n",
        "from sklearn.model_selection import train_test_split"
      ]
    },
    {
      "cell_type": "code",
      "execution_count": null,
      "metadata": {
        "colab": {
          "base_uri": "https://localhost:8080/"
        },
        "id": "ggxJRWC0X_HJ",
        "outputId": "9a19285f-a20f-4d10-b60e-d802139b9cd3"
      },
      "outputs": [
        {
          "name": "stdout",
          "output_type": "stream",
          "text": [
            "Mounted at /content/drive\n"
          ]
        }
      ],
      "source": [
        "from google.colab import drive, files\n",
        "drive.mount('/content/drive', force_remount=True)"
      ]
    },
    {
      "cell_type": "code",
      "execution_count": null,
      "metadata": {
        "colab": {
          "base_uri": "https://localhost:8080/"
        },
        "id": "8Uua_aBuYAgS",
        "outputId": "543a6061-02d7-4305-8e7a-b878c3e5a601"
      },
      "outputs": [
        {
          "name": "stdout",
          "output_type": "stream",
          "text": [
            "/content/drive/MyDrive/Northeastern/Projects/IE7300 Project/EMG_data_for_gestures-master\n",
            "total 146\n",
            "-rw------- 1 root root 1453 Dec  7  2018 README.txt\n",
            "drwx------ 2 root root 4096 Apr  2 17:32 25\n",
            "drwx------ 2 root root 4096 Apr  2 17:32 24\n",
            "drwx------ 2 root root 4096 Apr  2 17:32 23\n",
            "drwx------ 2 root root 4096 Apr  2 17:32 22\n",
            "drwx------ 2 root root 4096 Apr  2 17:32 15\n",
            "drwx------ 2 root root 4096 Apr  2 17:32 14\n",
            "drwx------ 2 root root 4096 Apr  2 17:32 13\n",
            "drwx------ 2 root root 4096 Apr  2 17:32 12\n",
            "drwx------ 2 root root 4096 Apr  2 17:32 06\n",
            "drwx------ 2 root root 4096 Apr  2 17:32 01\n",
            "drwx------ 2 root root 4096 Apr  2 17:32 36\n",
            "drwx------ 2 root root 4096 Apr  2 17:32 31\n",
            "drwx------ 2 root root 4096 Apr  2 17:32 30\n",
            "drwx------ 2 root root 4096 Apr  2 17:32 26\n",
            "drwx------ 2 root root 4096 Apr  2 17:32 21\n",
            "drwx------ 2 root root 4096 Apr  2 17:32 19\n",
            "drwx------ 2 root root 4096 Apr  2 17:32 10\n",
            "drwx------ 2 root root 4096 Apr  2 17:32 09\n",
            "drwx------ 2 root root 4096 Apr  2 17:32 08\n",
            "drwx------ 2 root root 4096 Apr  2 17:32 07\n",
            "drwx------ 2 root root 4096 Apr  2 17:32 29\n",
            "drwx------ 2 root root 4096 Apr  2 17:32 28\n",
            "drwx------ 2 root root 4096 Apr  2 17:32 27\n",
            "drwx------ 2 root root 4096 Apr  2 17:32 20\n",
            "drwx------ 2 root root 4096 Apr  2 17:32 18\n",
            "drwx------ 2 root root 4096 Apr  2 17:32 17\n",
            "drwx------ 2 root root 4096 Apr  2 17:32 16\n",
            "drwx------ 2 root root 4096 Apr  2 17:32 11\n",
            "drwx------ 2 root root 4096 Apr  2 17:32 05\n",
            "drwx------ 2 root root 4096 Apr  2 17:32 02\n",
            "drwx------ 2 root root 4096 Apr  2 17:32 35\n",
            "drwx------ 2 root root 4096 Apr  2 17:32 34\n",
            "drwx------ 2 root root 4096 Apr  2 17:32 33\n",
            "drwx------ 2 root root 4096 Apr  2 17:32 32\n",
            "drwx------ 2 root root 4096 Apr  2 17:32 04\n",
            "drwx------ 2 root root 4096 Apr  2 17:32 03\n"
          ]
        }
      ],
      "source": [
        "%cd '/content/drive/MyDrive/Northeastern/Projects/IE7300 Project/EMG_data_for_gestures-master'\n",
        "!ls -lrt"
      ]
    },
    {
      "cell_type": "code",
      "execution_count": null,
      "metadata": {
        "id": "mR7v_AEhYAeD"
      },
      "outputs": [],
      "source": [
        "# List out all the available files in the project's environment\n",
        "files_path = set()\n",
        "for dirname, _, filenames in os.walk('/content/drive/MyDrive/Northeastern/Projects/IE7300 Project/EMG_data_for_gestures-master/'):\n",
        "    for filename in filenames:\n",
        "        f_path = os.path.join(dirname, filename)\n",
        "        files_path.add(f_path)"
      ]
    },
    {
      "cell_type": "code",
      "execution_count": null,
      "metadata": {
        "colab": {
          "base_uri": "https://localhost:8080/"
        },
        "id": "QDtYIafqYAbt",
        "outputId": "8ef3b4da-c857-4e65-b71c-edcacd105727"
      },
      "outputs": [
        {
          "data": {
            "text/plain": [
              "{'/content/drive/MyDrive/Northeastern/Projects/IE7300 Project/EMG_data_for_gestures-master/01/1_raw_data_13-12_22.03.16.txt',\n",
              " '/content/drive/MyDrive/Northeastern/Projects/IE7300 Project/EMG_data_for_gestures-master/01/2_raw_data_13-13_22.03.16.txt',\n",
              " '/content/drive/MyDrive/Northeastern/Projects/IE7300 Project/EMG_data_for_gestures-master/02/1_raw_data_14-19_22.03.16.txt',\n",
              " '/content/drive/MyDrive/Northeastern/Projects/IE7300 Project/EMG_data_for_gestures-master/02/2_raw_data_14-21_22.03.16.txt',\n",
              " '/content/drive/MyDrive/Northeastern/Projects/IE7300 Project/EMG_data_for_gestures-master/03/1_raw_data_09-32_11.04.16.txt',\n",
              " '/content/drive/MyDrive/Northeastern/Projects/IE7300 Project/EMG_data_for_gestures-master/03/2_raw_data_09-34_11.04.16.txt',\n",
              " '/content/drive/MyDrive/Northeastern/Projects/IE7300 Project/EMG_data_for_gestures-master/04/1_raw_data_18-02_24.04.16.txt',\n",
              " '/content/drive/MyDrive/Northeastern/Projects/IE7300 Project/EMG_data_for_gestures-master/04/2_raw_data_18-03_24.04.16.txt',\n",
              " '/content/drive/MyDrive/Northeastern/Projects/IE7300 Project/EMG_data_for_gestures-master/05/1_raw_data_10-28_30.03.16.txt',\n",
              " '/content/drive/MyDrive/Northeastern/Projects/IE7300 Project/EMG_data_for_gestures-master/05/2_raw_data_10-29_30.03.16.txt',\n",
              " '/content/drive/MyDrive/Northeastern/Projects/IE7300 Project/EMG_data_for_gestures-master/06/1_raw_data_10-38_11.04.16.txt',\n",
              " '/content/drive/MyDrive/Northeastern/Projects/IE7300 Project/EMG_data_for_gestures-master/06/2_raw_data_10-40_11.04.16.txt',\n",
              " '/content/drive/MyDrive/Northeastern/Projects/IE7300 Project/EMG_data_for_gestures-master/07/1_raw_data_18-48_22.03.16.txt',\n",
              " '/content/drive/MyDrive/Northeastern/Projects/IE7300 Project/EMG_data_for_gestures-master/07/2_raw_data_18-50_22.03.16.txt',\n",
              " '/content/drive/MyDrive/Northeastern/Projects/IE7300 Project/EMG_data_for_gestures-master/08/1_raw_data_12-14_23.03.16.txt',\n",
              " '/content/drive/MyDrive/Northeastern/Projects/IE7300 Project/EMG_data_for_gestures-master/08/2_raw_data_12-16_23.03.16.txt',\n",
              " '/content/drive/MyDrive/Northeastern/Projects/IE7300 Project/EMG_data_for_gestures-master/09/1_raw_data_12-41_23.03.16.txt',\n",
              " '/content/drive/MyDrive/Northeastern/Projects/IE7300 Project/EMG_data_for_gestures-master/09/2_raw_data_12-43_23.03.16.txt',\n",
              " '/content/drive/MyDrive/Northeastern/Projects/IE7300 Project/EMG_data_for_gestures-master/10/1_raw_data_11-08_21.03.16.txt',\n",
              " '/content/drive/MyDrive/Northeastern/Projects/IE7300 Project/EMG_data_for_gestures-master/10/2_raw_data_11-10_21.03.16.txt',\n",
              " '/content/drive/MyDrive/Northeastern/Projects/IE7300 Project/EMG_data_for_gestures-master/11/1_raw_data_13-11_18.03.16.txt',\n",
              " '/content/drive/MyDrive/Northeastern/Projects/IE7300 Project/EMG_data_for_gestures-master/11/2_raw_data_13-13_18.03.16.txt',\n",
              " '/content/drive/MyDrive/Northeastern/Projects/IE7300 Project/EMG_data_for_gestures-master/12/1_raw_data_11-35_28.03.16.txt',\n",
              " '/content/drive/MyDrive/Northeastern/Projects/IE7300 Project/EMG_data_for_gestures-master/12/2_raw_data_11-36_28.03.16.txt',\n",
              " '/content/drive/MyDrive/Northeastern/Projects/IE7300 Project/EMG_data_for_gestures-master/13/1_raw_data_13-26_21.03.16.txt',\n",
              " '/content/drive/MyDrive/Northeastern/Projects/IE7300 Project/EMG_data_for_gestures-master/13/2_raw_data_13-29_21.03.16.txt',\n",
              " '/content/drive/MyDrive/Northeastern/Projects/IE7300 Project/EMG_data_for_gestures-master/14/1_raw_data_09-50_15.04.16.txt',\n",
              " '/content/drive/MyDrive/Northeastern/Projects/IE7300 Project/EMG_data_for_gestures-master/14/2_raw_data_09-51_15.04.16.txt',\n",
              " '/content/drive/MyDrive/Northeastern/Projects/IE7300 Project/EMG_data_for_gestures-master/15/1_raw_data_08-49_13.04.16.txt',\n",
              " '/content/drive/MyDrive/Northeastern/Projects/IE7300 Project/EMG_data_for_gestures-master/15/2_raw_data_08-51_13.04.16.txt',\n",
              " '/content/drive/MyDrive/Northeastern/Projects/IE7300 Project/EMG_data_for_gestures-master/16/1_raw_data_12-12_25.04.16.txt',\n",
              " '/content/drive/MyDrive/Northeastern/Projects/IE7300 Project/EMG_data_for_gestures-master/16/2_raw_data_12-14_25.04.16.txt',\n",
              " '/content/drive/MyDrive/Northeastern/Projects/IE7300 Project/EMG_data_for_gestures-master/17/1_raw_data_11-19_23.03.16.txt',\n",
              " '/content/drive/MyDrive/Northeastern/Projects/IE7300 Project/EMG_data_for_gestures-master/17/2_raw_data_11-20_23.03.16.txt',\n",
              " '/content/drive/MyDrive/Northeastern/Projects/IE7300 Project/EMG_data_for_gestures-master/18/1_raw_data_12-35_21.03.16.txt',\n",
              " '/content/drive/MyDrive/Northeastern/Projects/IE7300 Project/EMG_data_for_gestures-master/18/2_raw_data_12-37_21.03.16.txt',\n",
              " '/content/drive/MyDrive/Northeastern/Projects/IE7300 Project/EMG_data_for_gestures-master/19/1_raw_data_12-10_26.04.16.txt',\n",
              " '/content/drive/MyDrive/Northeastern/Projects/IE7300 Project/EMG_data_for_gestures-master/19/2_raw_data_12-11_26.04.16.txt',\n",
              " '/content/drive/MyDrive/Northeastern/Projects/IE7300 Project/EMG_data_for_gestures-master/20/1_raw_data_11-41_22.03.16.txt',\n",
              " '/content/drive/MyDrive/Northeastern/Projects/IE7300 Project/EMG_data_for_gestures-master/20/2_raw_data_11-43_22.03.16.txt',\n",
              " '/content/drive/MyDrive/Northeastern/Projects/IE7300 Project/EMG_data_for_gestures-master/21/1_raw_data_20-28_24.04.16.txt',\n",
              " '/content/drive/MyDrive/Northeastern/Projects/IE7300 Project/EMG_data_for_gestures-master/21/2_raw_data_20-30_24.04.16.txt',\n",
              " '/content/drive/MyDrive/Northeastern/Projects/IE7300 Project/EMG_data_for_gestures-master/22/1_raw_data_12-37_28.03.16.txt',\n",
              " '/content/drive/MyDrive/Northeastern/Projects/IE7300 Project/EMG_data_for_gestures-master/22/2_raw_data_12-39_28.03.16.txt',\n",
              " '/content/drive/MyDrive/Northeastern/Projects/IE7300 Project/EMG_data_for_gestures-master/23/1_raw_data_13-18_05.04.16.txt',\n",
              " '/content/drive/MyDrive/Northeastern/Projects/IE7300 Project/EMG_data_for_gestures-master/23/2_raw_data_13-19_05.04.16.txt',\n",
              " '/content/drive/MyDrive/Northeastern/Projects/IE7300 Project/EMG_data_for_gestures-master/24/1_raw_data_10-16_12.04.16.txt',\n",
              " '/content/drive/MyDrive/Northeastern/Projects/IE7300 Project/EMG_data_for_gestures-master/24/2_raw_data_10-17_12.04.16.txt',\n",
              " '/content/drive/MyDrive/Northeastern/Projects/IE7300 Project/EMG_data_for_gestures-master/25/1_raw_data_14-51_24.04.16.txt',\n",
              " '/content/drive/MyDrive/Northeastern/Projects/IE7300 Project/EMG_data_for_gestures-master/25/2_raw_data_14-53_24.04.16.txt',\n",
              " '/content/drive/MyDrive/Northeastern/Projects/IE7300 Project/EMG_data_for_gestures-master/26/1_raw_data_10-22_29.03.16.txt',\n",
              " '/content/drive/MyDrive/Northeastern/Projects/IE7300 Project/EMG_data_for_gestures-master/26/2_raw_data_10-23_29.03.16.txt',\n",
              " '/content/drive/MyDrive/Northeastern/Projects/IE7300 Project/EMG_data_for_gestures-master/27/1_raw_data_12-19_06.04.16.txt',\n",
              " '/content/drive/MyDrive/Northeastern/Projects/IE7300 Project/EMG_data_for_gestures-master/27/2_raw_data_12-20_06.04.16.txt',\n",
              " '/content/drive/MyDrive/Northeastern/Projects/IE7300 Project/EMG_data_for_gestures-master/28/1_raw_data_12-10_15.04.16.txt',\n",
              " '/content/drive/MyDrive/Northeastern/Projects/IE7300 Project/EMG_data_for_gestures-master/28/2_raw_data_12-11_15.04.16.txt',\n",
              " '/content/drive/MyDrive/Northeastern/Projects/IE7300 Project/EMG_data_for_gestures-master/29/1_raw_data_10-17_15.04.16.txt',\n",
              " '/content/drive/MyDrive/Northeastern/Projects/IE7300 Project/EMG_data_for_gestures-master/29/2_raw_data_10-18_15.04.16.txt',\n",
              " '/content/drive/MyDrive/Northeastern/Projects/IE7300 Project/EMG_data_for_gestures-master/30/1_raw_data_09-49_21.03.16.txt',\n",
              " '/content/drive/MyDrive/Northeastern/Projects/IE7300 Project/EMG_data_for_gestures-master/30/2_raw_data_09-50_21.03.16.txt',\n",
              " '/content/drive/MyDrive/Northeastern/Projects/IE7300 Project/EMG_data_for_gestures-master/31/1_raw_data_11-15_11.04.16.txt',\n",
              " '/content/drive/MyDrive/Northeastern/Projects/IE7300 Project/EMG_data_for_gestures-master/31/2_raw_data_11-16_11.04.16.txt',\n",
              " '/content/drive/MyDrive/Northeastern/Projects/IE7300 Project/EMG_data_for_gestures-master/32/1_raw_data_12-04_27.04.16.txt',\n",
              " '/content/drive/MyDrive/Northeastern/Projects/IE7300 Project/EMG_data_for_gestures-master/32/2_raw_data_12-06_27.04.16.txt',\n",
              " '/content/drive/MyDrive/Northeastern/Projects/IE7300 Project/EMG_data_for_gestures-master/33/1_raw_data_09-49_12.04.16.txt',\n",
              " '/content/drive/MyDrive/Northeastern/Projects/IE7300 Project/EMG_data_for_gestures-master/33/2_raw_data_09-50_12.04.16.txt',\n",
              " '/content/drive/MyDrive/Northeastern/Projects/IE7300 Project/EMG_data_for_gestures-master/34/1_raw_data_10-51_07.04.16.txt',\n",
              " '/content/drive/MyDrive/Northeastern/Projects/IE7300 Project/EMG_data_for_gestures-master/34/2_raw_data_10-53_07.04.16.txt',\n",
              " '/content/drive/MyDrive/Northeastern/Projects/IE7300 Project/EMG_data_for_gestures-master/35/1_raw_data_10-03_13.04.16.txt',\n",
              " '/content/drive/MyDrive/Northeastern/Projects/IE7300 Project/EMG_data_for_gestures-master/35/2_raw_data_10-05_13.04.16.txt',\n",
              " '/content/drive/MyDrive/Northeastern/Projects/IE7300 Project/EMG_data_for_gestures-master/36/1_raw_data_13-03_15.04.16.txt',\n",
              " '/content/drive/MyDrive/Northeastern/Projects/IE7300 Project/EMG_data_for_gestures-master/36/2_raw_data_13-04_15.04.16.txt'}"
            ]
          },
          "execution_count": 7,
          "metadata": {},
          "output_type": "execute_result"
        }
      ],
      "source": [
        "files_path.discard('/content/drive/MyDrive/Northeastern/Projects/IE7300 Project/EMG_data_for_gestures-master/README.txt')\n",
        "files_path.discard('/content/drive/MyDrive/Northeastern/Projects/IE7300 Project/EMG_data_for_gestures-master/all_ext_features_data.csv')\n",
        "files_path.discard('/content/drive/MyDrive/Northeastern/Projects/IE7300 Project/EMG_data_for_gestures-master/.DS_Store')\n",
        "files_path"
      ]
    },
    {
      "cell_type": "code",
      "execution_count": null,
      "metadata": {
        "colab": {
          "base_uri": "https://localhost:8080/"
        },
        "id": "PJFe0N_zYAY8",
        "outputId": "9d634f16-8975-460a-c85d-da47951170fe"
      },
      "outputs": [
        {
          "name": "stderr",
          "output_type": "stream",
          "text": [
            "\r  0%|          | 0/72 [00:00<?, ?it/s]"
          ]
        },
        {
          "name": "stdout",
          "output_type": "stream",
          "text": [
            "01\n"
          ]
        },
        {
          "name": "stderr",
          "output_type": "stream",
          "text": [
            "\r  1%|▏         | 1/72 [00:00<00:31,  2.28it/s]"
          ]
        },
        {
          "name": "stdout",
          "output_type": "stream",
          "text": [
            "\tSubject Id: \t 1 \tShape:  (63196, 1)\n",
            "01\n"
          ]
        },
        {
          "name": "stderr",
          "output_type": "stream",
          "text": [
            "\r  3%|▎         | 2/72 [00:00<00:28,  2.46it/s]"
          ]
        },
        {
          "name": "stdout",
          "output_type": "stream",
          "text": [
            "\tSubject Id: \t 1 \tShape:  (57974, 1)\n",
            "02\n"
          ]
        },
        {
          "name": "stderr",
          "output_type": "stream",
          "text": [
            "\r  4%|▍         | 3/72 [00:01<00:31,  2.16it/s]"
          ]
        },
        {
          "name": "stdout",
          "output_type": "stream",
          "text": [
            "\tSubject Id: \t 2 \tShape:  (72322, 1)\n",
            "02\n"
          ]
        },
        {
          "name": "stderr",
          "output_type": "stream",
          "text": [
            "\r  6%|▌         | 4/72 [00:01<00:32,  2.08it/s]"
          ]
        },
        {
          "name": "stdout",
          "output_type": "stream",
          "text": [
            "\tSubject Id: \t 2 \tShape:  (64104, 1)\n",
            "03\n"
          ]
        },
        {
          "name": "stderr",
          "output_type": "stream",
          "text": [
            "\r  7%|▋         | 5/72 [00:02<00:28,  2.31it/s]"
          ]
        },
        {
          "name": "stdout",
          "output_type": "stream",
          "text": [
            "\tSubject Id: \t 3 \tShape:  (56568, 1)\n",
            "03\n"
          ]
        },
        {
          "name": "stderr",
          "output_type": "stream",
          "text": [
            "\r  8%|▊         | 6/72 [00:02<00:29,  2.26it/s]"
          ]
        },
        {
          "name": "stdout",
          "output_type": "stream",
          "text": [
            "\tSubject Id: \t 3 \tShape:  (49217, 1)\n",
            "04\n"
          ]
        },
        {
          "name": "stderr",
          "output_type": "stream",
          "text": [
            "\r 10%|▉         | 7/72 [00:03<00:27,  2.37it/s]"
          ]
        },
        {
          "name": "stdout",
          "output_type": "stream",
          "text": [
            "\tSubject Id: \t 4 \tShape:  (59107, 1)\n",
            "04\n"
          ]
        },
        {
          "name": "stderr",
          "output_type": "stream",
          "text": [
            "\r 11%|█         | 8/72 [00:03<00:25,  2.49it/s]"
          ]
        },
        {
          "name": "stdout",
          "output_type": "stream",
          "text": [
            "\tSubject Id: \t 4 \tShape:  (55091, 1)\n",
            "05\n"
          ]
        },
        {
          "name": "stderr",
          "output_type": "stream",
          "text": [
            "\r 12%|█▎        | 9/72 [00:03<00:25,  2.50it/s]"
          ]
        },
        {
          "name": "stdout",
          "output_type": "stream",
          "text": [
            "\tSubject Id: \t 5 \tShape:  (57118, 1)\n",
            "05\n"
          ]
        },
        {
          "name": "stderr",
          "output_type": "stream",
          "text": [
            "\r 14%|█▍        | 10/72 [00:04<00:24,  2.56it/s]"
          ]
        },
        {
          "name": "stdout",
          "output_type": "stream",
          "text": [
            "\tSubject Id: \t 5 \tShape:  (50130, 1)\n",
            "06\n"
          ]
        },
        {
          "name": "stderr",
          "output_type": "stream",
          "text": [
            "\r 15%|█▌        | 11/72 [00:04<00:22,  2.68it/s]"
          ]
        },
        {
          "name": "stdout",
          "output_type": "stream",
          "text": [
            "\tSubject Id: \t 6 \tShape:  (51078, 1)\n",
            "06\n"
          ]
        },
        {
          "name": "stderr",
          "output_type": "stream",
          "text": [
            "\r 17%|█▋        | 12/72 [00:04<00:22,  2.70it/s]"
          ]
        },
        {
          "name": "stdout",
          "output_type": "stream",
          "text": [
            "\tSubject Id: \t 6 \tShape:  (48541, 1)\n",
            "07\n"
          ]
        },
        {
          "name": "stderr",
          "output_type": "stream",
          "text": [
            "\r 18%|█▊        | 13/72 [00:05<00:26,  2.22it/s]"
          ]
        },
        {
          "name": "stdout",
          "output_type": "stream",
          "text": [
            "\tSubject Id: \t 7 \tShape:  (68697, 1)\n",
            "07\n"
          ]
        },
        {
          "name": "stderr",
          "output_type": "stream",
          "text": [
            "\r 19%|█▉        | 14/72 [00:05<00:25,  2.25it/s]"
          ]
        },
        {
          "name": "stdout",
          "output_type": "stream",
          "text": [
            "\tSubject Id: \t 7 \tShape:  (63943, 1)\n",
            "08\n"
          ]
        },
        {
          "name": "stderr",
          "output_type": "stream",
          "text": [
            "\r 21%|██        | 15/72 [00:06<00:24,  2.37it/s]"
          ]
        },
        {
          "name": "stdout",
          "output_type": "stream",
          "text": [
            "\tSubject Id: \t 8 \tShape:  (60280, 1)\n",
            "08\n"
          ]
        },
        {
          "name": "stderr",
          "output_type": "stream",
          "text": [
            "\r 22%|██▏       | 16/72 [00:06<00:23,  2.39it/s]"
          ]
        },
        {
          "name": "stdout",
          "output_type": "stream",
          "text": [
            "\tSubject Id: \t 8 \tShape:  (57668, 1)\n",
            "09\n"
          ]
        },
        {
          "name": "stderr",
          "output_type": "stream",
          "text": [
            "\r 24%|██▎       | 17/72 [00:07<00:22,  2.43it/s]"
          ]
        },
        {
          "name": "stdout",
          "output_type": "stream",
          "text": [
            "\tSubject Id: \t 9 \tShape:  (62770, 1)\n",
            "09\n"
          ]
        },
        {
          "name": "stderr",
          "output_type": "stream",
          "text": [
            "\r 25%|██▌       | 18/72 [00:07<00:22,  2.42it/s]"
          ]
        },
        {
          "name": "stdout",
          "output_type": "stream",
          "text": [
            "\tSubject Id: \t 9 \tShape:  (64877, 1)\n",
            "10\n"
          ]
        },
        {
          "name": "stderr",
          "output_type": "stream",
          "text": [
            "\r 26%|██▋       | 19/72 [00:07<00:22,  2.33it/s]"
          ]
        },
        {
          "name": "stdout",
          "output_type": "stream",
          "text": [
            "\tSubject Id: \t 10 \tShape:  (61641, 1)\n",
            "10\n"
          ]
        },
        {
          "name": "stderr",
          "output_type": "stream",
          "text": [
            "\r 28%|██▊       | 20/72 [00:08<00:21,  2.38it/s]"
          ]
        },
        {
          "name": "stdout",
          "output_type": "stream",
          "text": [
            "\tSubject Id: \t 10 \tShape:  (61448, 1)\n",
            "11\n"
          ]
        },
        {
          "name": "stderr",
          "output_type": "stream",
          "text": [
            "\r 29%|██▉       | 21/72 [00:08<00:21,  2.33it/s]"
          ]
        },
        {
          "name": "stdout",
          "output_type": "stream",
          "text": [
            "\tSubject Id: \t 11 \tShape:  (74681, 1)\n",
            "11\n"
          ]
        },
        {
          "name": "stderr",
          "output_type": "stream",
          "text": [
            "\r 31%|███       | 22/72 [00:09<00:22,  2.27it/s]"
          ]
        },
        {
          "name": "stdout",
          "output_type": "stream",
          "text": [
            "\tSubject Id: \t 11 \tShape:  (72645, 1)\n",
            "12\n"
          ]
        },
        {
          "name": "stderr",
          "output_type": "stream",
          "text": [
            "\r 32%|███▏      | 23/72 [00:09<00:22,  2.19it/s]"
          ]
        },
        {
          "name": "stdout",
          "output_type": "stream",
          "text": [
            "\tSubject Id: \t 12 \tShape:  (65920, 1)\n",
            "12\n"
          ]
        },
        {
          "name": "stderr",
          "output_type": "stream",
          "text": [
            "\r 33%|███▎      | 24/72 [00:10<00:21,  2.18it/s]"
          ]
        },
        {
          "name": "stdout",
          "output_type": "stream",
          "text": [
            "\tSubject Id: \t 12 \tShape:  (62631, 1)\n",
            "13\n"
          ]
        },
        {
          "name": "stderr",
          "output_type": "stream",
          "text": [
            "\r 35%|███▍      | 25/72 [00:10<00:23,  2.01it/s]"
          ]
        },
        {
          "name": "stdout",
          "output_type": "stream",
          "text": [
            "\tSubject Id: \t 13 \tShape:  (75676, 1)\n",
            "13\n"
          ]
        },
        {
          "name": "stderr",
          "output_type": "stream",
          "text": [
            "\r 36%|███▌      | 26/72 [00:11<00:23,  1.96it/s]"
          ]
        },
        {
          "name": "stdout",
          "output_type": "stream",
          "text": [
            "\tSubject Id: \t 13 \tShape:  (77564, 1)\n",
            "14\n"
          ]
        },
        {
          "name": "stderr",
          "output_type": "stream",
          "text": [
            "\r 38%|███▊      | 27/72 [00:11<00:22,  2.04it/s]"
          ]
        },
        {
          "name": "stdout",
          "output_type": "stream",
          "text": [
            "\tSubject Id: \t 14 \tShape:  (52821, 1)\n",
            "14\n"
          ]
        },
        {
          "name": "stderr",
          "output_type": "stream",
          "text": [
            "\r 39%|███▉      | 28/72 [00:12<00:19,  2.21it/s]"
          ]
        },
        {
          "name": "stdout",
          "output_type": "stream",
          "text": [
            "\tSubject Id: \t 14 \tShape:  (48182, 1)\n",
            "15\n"
          ]
        },
        {
          "name": "stderr",
          "output_type": "stream",
          "text": [
            "\r 40%|████      | 29/72 [00:12<00:18,  2.33it/s]"
          ]
        },
        {
          "name": "stdout",
          "output_type": "stream",
          "text": [
            "\tSubject Id: \t 15 \tShape:  (53553, 1)\n",
            "15\n"
          ]
        },
        {
          "name": "stderr",
          "output_type": "stream",
          "text": [
            "\r 42%|████▏     | 30/72 [00:12<00:16,  2.48it/s]"
          ]
        },
        {
          "name": "stdout",
          "output_type": "stream",
          "text": [
            "\tSubject Id: \t 15 \tShape:  (51843, 1)\n",
            "16\n"
          ]
        },
        {
          "name": "stderr",
          "output_type": "stream",
          "text": [
            "\r 43%|████▎     | 31/72 [00:13<00:17,  2.39it/s]"
          ]
        },
        {
          "name": "stdout",
          "output_type": "stream",
          "text": [
            "\tSubject Id: \t 16 \tShape:  (55489, 1)\n",
            "16\n"
          ]
        },
        {
          "name": "stderr",
          "output_type": "stream",
          "text": [
            "\r 44%|████▍     | 32/72 [00:13<00:16,  2.45it/s]"
          ]
        },
        {
          "name": "stdout",
          "output_type": "stream",
          "text": [
            "\tSubject Id: \t 16 \tShape:  (50012, 1)\n",
            "17\n"
          ]
        },
        {
          "name": "stderr",
          "output_type": "stream",
          "text": [
            "\r 46%|████▌     | 33/72 [00:14<00:15,  2.45it/s]"
          ]
        },
        {
          "name": "stdout",
          "output_type": "stream",
          "text": [
            "\tSubject Id: \t 17 \tShape:  (65227, 1)\n",
            "17\n"
          ]
        },
        {
          "name": "stderr",
          "output_type": "stream",
          "text": [
            "\r 47%|████▋     | 34/72 [00:14<00:15,  2.46it/s]"
          ]
        },
        {
          "name": "stdout",
          "output_type": "stream",
          "text": [
            "\tSubject Id: \t 17 \tShape:  (66858, 1)\n",
            "18\n"
          ]
        },
        {
          "name": "stderr",
          "output_type": "stream",
          "text": [
            "\r 49%|████▊     | 35/72 [00:14<00:15,  2.47it/s]"
          ]
        },
        {
          "name": "stdout",
          "output_type": "stream",
          "text": [
            "\tSubject Id: \t 18 \tShape:  (62354, 1)\n",
            "18\n"
          ]
        },
        {
          "name": "stderr",
          "output_type": "stream",
          "text": [
            "\r 50%|█████     | 36/72 [00:15<00:14,  2.42it/s]"
          ]
        },
        {
          "name": "stdout",
          "output_type": "stream",
          "text": [
            "\tSubject Id: \t 18 \tShape:  (66958, 1)\n",
            "19\n"
          ]
        },
        {
          "name": "stderr",
          "output_type": "stream",
          "text": [
            "\r 51%|█████▏    | 37/72 [00:15<00:14,  2.43it/s]"
          ]
        },
        {
          "name": "stdout",
          "output_type": "stream",
          "text": [
            "\tSubject Id: \t 19 \tShape:  (58818, 1)\n",
            "19\n"
          ]
        },
        {
          "name": "stderr",
          "output_type": "stream",
          "text": [
            "\r 53%|█████▎    | 38/72 [00:16<00:14,  2.41it/s]"
          ]
        },
        {
          "name": "stdout",
          "output_type": "stream",
          "text": [
            "\tSubject Id: \t 19 \tShape:  (51088, 1)\n",
            "20\n"
          ]
        },
        {
          "name": "stderr",
          "output_type": "stream",
          "text": [
            "\r 54%|█████▍    | 39/72 [00:16<00:13,  2.41it/s]"
          ]
        },
        {
          "name": "stdout",
          "output_type": "stream",
          "text": [
            "\tSubject Id: \t 20 \tShape:  (65349, 1)\n",
            "20\n"
          ]
        },
        {
          "name": "stderr",
          "output_type": "stream",
          "text": [
            "\r 56%|█████▌    | 40/72 [00:17<00:13,  2.45it/s]"
          ]
        },
        {
          "name": "stdout",
          "output_type": "stream",
          "text": [
            "\tSubject Id: \t 20 \tShape:  (62504, 1)\n",
            "21\n"
          ]
        },
        {
          "name": "stderr",
          "output_type": "stream",
          "text": [
            "\r 57%|█████▋    | 41/72 [00:17<00:12,  2.46it/s]"
          ]
        },
        {
          "name": "stdout",
          "output_type": "stream",
          "text": [
            "\tSubject Id: \t 21 \tShape:  (62365, 1)\n",
            "21\n"
          ]
        },
        {
          "name": "stderr",
          "output_type": "stream",
          "text": [
            "\r 58%|█████▊    | 42/72 [00:17<00:12,  2.41it/s]"
          ]
        },
        {
          "name": "stdout",
          "output_type": "stream",
          "text": [
            "\tSubject Id: \t 21 \tShape:  (56882, 1)\n",
            "22\n"
          ]
        },
        {
          "name": "stderr",
          "output_type": "stream",
          "text": [
            "\r 60%|█████▉    | 43/72 [00:18<00:11,  2.48it/s]"
          ]
        },
        {
          "name": "stdout",
          "output_type": "stream",
          "text": [
            "\tSubject Id: \t 22 \tShape:  (61788, 1)\n",
            "22\n"
          ]
        },
        {
          "name": "stderr",
          "output_type": "stream",
          "text": [
            "\r 61%|██████    | 44/72 [00:18<00:11,  2.51it/s]"
          ]
        },
        {
          "name": "stdout",
          "output_type": "stream",
          "text": [
            "\tSubject Id: \t 22 \tShape:  (57841, 1)\n",
            "23\n"
          ]
        },
        {
          "name": "stderr",
          "output_type": "stream",
          "text": [
            "\r 62%|██████▎   | 45/72 [00:19<00:10,  2.49it/s]"
          ]
        },
        {
          "name": "stdout",
          "output_type": "stream",
          "text": [
            "\tSubject Id: \t 23 \tShape:  (60135, 1)\n",
            "23\n"
          ]
        },
        {
          "name": "stderr",
          "output_type": "stream",
          "text": [
            "\r 64%|██████▍   | 46/72 [00:19<00:10,  2.42it/s]"
          ]
        },
        {
          "name": "stdout",
          "output_type": "stream",
          "text": [
            "\tSubject Id: \t 23 \tShape:  (55484, 1)\n",
            "24\n"
          ]
        },
        {
          "name": "stderr",
          "output_type": "stream",
          "text": [
            "\r 65%|██████▌   | 47/72 [00:19<00:10,  2.35it/s]"
          ]
        },
        {
          "name": "stdout",
          "output_type": "stream",
          "text": [
            "\tSubject Id: \t 24 \tShape:  (61968, 1)\n",
            "24\n"
          ]
        },
        {
          "name": "stderr",
          "output_type": "stream",
          "text": [
            "\r 67%|██████▋   | 48/72 [00:20<00:10,  2.33it/s]"
          ]
        },
        {
          "name": "stdout",
          "output_type": "stream",
          "text": [
            "\tSubject Id: \t 24 \tShape:  (54972, 1)\n",
            "25\n"
          ]
        },
        {
          "name": "stderr",
          "output_type": "stream",
          "text": [
            "\r 68%|██████▊   | 49/72 [00:20<00:10,  2.10it/s]"
          ]
        },
        {
          "name": "stdout",
          "output_type": "stream",
          "text": [
            "\tSubject Id: \t 25 \tShape:  (62681, 1)\n",
            "25\n"
          ]
        },
        {
          "name": "stderr",
          "output_type": "stream",
          "text": [
            "\r 69%|██████▉   | 50/72 [00:21<00:10,  2.11it/s]"
          ]
        },
        {
          "name": "stdout",
          "output_type": "stream",
          "text": [
            "\tSubject Id: \t 25 \tShape:  (54066, 1)\n",
            "26\n"
          ]
        },
        {
          "name": "stderr",
          "output_type": "stream",
          "text": [
            "\r 71%|███████   | 51/72 [00:21<00:09,  2.15it/s]"
          ]
        },
        {
          "name": "stdout",
          "output_type": "stream",
          "text": [
            "\tSubject Id: \t 26 \tShape:  (56151, 1)\n",
            "26\n"
          ]
        },
        {
          "name": "stderr",
          "output_type": "stream",
          "text": [
            "\r 72%|███████▏  | 52/72 [00:22<00:09,  2.11it/s]"
          ]
        },
        {
          "name": "stdout",
          "output_type": "stream",
          "text": [
            "\tSubject Id: \t 26 \tShape:  (50003, 1)\n",
            "27\n"
          ]
        },
        {
          "name": "stderr",
          "output_type": "stream",
          "text": [
            "\r 74%|███████▎  | 53/72 [00:22<00:08,  2.12it/s]"
          ]
        },
        {
          "name": "stdout",
          "output_type": "stream",
          "text": [
            "\tSubject Id: \t 27 \tShape:  (56688, 1)\n",
            "27\n"
          ]
        },
        {
          "name": "stderr",
          "output_type": "stream",
          "text": [
            "\r 75%|███████▌  | 54/72 [00:23<00:08,  2.10it/s]"
          ]
        },
        {
          "name": "stdout",
          "output_type": "stream",
          "text": [
            "\tSubject Id: \t 27 \tShape:  (50111, 1)\n",
            "28\n"
          ]
        },
        {
          "name": "stderr",
          "output_type": "stream",
          "text": [
            "\r 76%|███████▋  | 55/72 [00:23<00:08,  1.96it/s]"
          ]
        },
        {
          "name": "stdout",
          "output_type": "stream",
          "text": [
            "\tSubject Id: \t 28 \tShape:  (50513, 1)\n",
            "28\n"
          ]
        },
        {
          "name": "stderr",
          "output_type": "stream",
          "text": [
            "\r 78%|███████▊  | 56/72 [00:24<00:07,  2.06it/s]"
          ]
        },
        {
          "name": "stdout",
          "output_type": "stream",
          "text": [
            "\tSubject Id: \t 28 \tShape:  (47253, 1)\n",
            "29\n"
          ]
        },
        {
          "name": "stderr",
          "output_type": "stream",
          "text": [
            "\r 79%|███████▉  | 57/72 [00:24<00:07,  2.03it/s]"
          ]
        },
        {
          "name": "stdout",
          "output_type": "stream",
          "text": [
            "\tSubject Id: \t 29 \tShape:  (53904, 1)\n",
            "29\n"
          ]
        },
        {
          "name": "stderr",
          "output_type": "stream",
          "text": [
            "\r 81%|████████  | 58/72 [00:25<00:06,  2.05it/s]"
          ]
        },
        {
          "name": "stdout",
          "output_type": "stream",
          "text": [
            "\tSubject Id: \t 29 \tShape:  (52083, 1)\n",
            "30\n"
          ]
        },
        {
          "name": "stderr",
          "output_type": "stream",
          "text": [
            "\r 82%|████████▏ | 59/72 [00:25<00:06,  2.07it/s]"
          ]
        },
        {
          "name": "stdout",
          "output_type": "stream",
          "text": [
            "\tSubject Id: \t 30 \tShape:  (77878, 1)\n",
            "30\n"
          ]
        },
        {
          "name": "stderr",
          "output_type": "stream",
          "text": [
            "\r 83%|████████▎ | 60/72 [00:26<00:05,  2.06it/s]"
          ]
        },
        {
          "name": "stdout",
          "output_type": "stream",
          "text": [
            "\tSubject Id: \t 30 \tShape:  (70683, 1)\n",
            "31\n"
          ]
        },
        {
          "name": "stderr",
          "output_type": "stream",
          "text": [
            "\r 85%|████████▍ | 61/72 [00:26<00:05,  2.13it/s]"
          ]
        },
        {
          "name": "stdout",
          "output_type": "stream",
          "text": [
            "\tSubject Id: \t 31 \tShape:  (44927, 1)\n",
            "31\n"
          ]
        },
        {
          "name": "stderr",
          "output_type": "stream",
          "text": [
            "\r 86%|████████▌ | 62/72 [00:27<00:04,  2.12it/s]"
          ]
        },
        {
          "name": "stdout",
          "output_type": "stream",
          "text": [
            "\tSubject Id: \t 31 \tShape:  (46096, 1)\n",
            "32\n"
          ]
        },
        {
          "name": "stderr",
          "output_type": "stream",
          "text": [
            "\r 88%|████████▊ | 63/72 [00:27<00:04,  2.16it/s]"
          ]
        },
        {
          "name": "stdout",
          "output_type": "stream",
          "text": [
            "\tSubject Id: \t 32 \tShape:  (62719, 1)\n",
            "32\n"
          ]
        },
        {
          "name": "stderr",
          "output_type": "stream",
          "text": [
            "\r 89%|████████▉ | 64/72 [00:28<00:03,  2.16it/s]"
          ]
        },
        {
          "name": "stdout",
          "output_type": "stream",
          "text": [
            "\tSubject Id: \t 32 \tShape:  (60211, 1)\n",
            "33\n"
          ]
        },
        {
          "name": "stderr",
          "output_type": "stream",
          "text": [
            "\r 90%|█████████ | 65/72 [00:28<00:03,  2.17it/s]"
          ]
        },
        {
          "name": "stdout",
          "output_type": "stream",
          "text": [
            "\tSubject Id: \t 33 \tShape:  (59017, 1)\n",
            "33\n"
          ]
        },
        {
          "name": "stderr",
          "output_type": "stream",
          "text": [
            "\r 92%|█████████▏| 66/72 [00:29<00:02,  2.17it/s]"
          ]
        },
        {
          "name": "stdout",
          "output_type": "stream",
          "text": [
            "\tSubject Id: \t 33 \tShape:  (53088, 1)\n",
            "34\n"
          ]
        },
        {
          "name": "stderr",
          "output_type": "stream",
          "text": [
            "\r 93%|█████████▎| 67/72 [00:29<00:02,  2.08it/s]"
          ]
        },
        {
          "name": "stdout",
          "output_type": "stream",
          "text": [
            "\tSubject Id: \t 34 \tShape:  (79765, 1)\n",
            "34\n"
          ]
        },
        {
          "name": "stderr",
          "output_type": "stream",
          "text": [
            "\r 94%|█████████▍| 68/72 [00:30<00:01,  2.07it/s]"
          ]
        },
        {
          "name": "stdout",
          "output_type": "stream",
          "text": [
            "\tSubject Id: \t 34 \tShape:  (51438, 1)\n",
            "35\n"
          ]
        },
        {
          "name": "stderr",
          "output_type": "stream",
          "text": [
            "\r 96%|█████████▌| 69/72 [00:30<00:01,  2.16it/s]"
          ]
        },
        {
          "name": "stdout",
          "output_type": "stream",
          "text": [
            "\tSubject Id: \t 35 \tShape:  (50417, 1)\n",
            "35\n"
          ]
        },
        {
          "name": "stderr",
          "output_type": "stream",
          "text": [
            "\r 97%|█████████▋| 70/72 [00:30<00:00,  2.18it/s]"
          ]
        },
        {
          "name": "stdout",
          "output_type": "stream",
          "text": [
            "\tSubject Id: \t 35 \tShape:  (49084, 1)\n",
            "36\n"
          ]
        },
        {
          "name": "stderr",
          "output_type": "stream",
          "text": [
            "\r 99%|█████████▊| 71/72 [00:31<00:00,  2.13it/s]"
          ]
        },
        {
          "name": "stdout",
          "output_type": "stream",
          "text": [
            "\tSubject Id: \t 36 \tShape:  (52390, 1)\n",
            "36\n"
          ]
        },
        {
          "name": "stderr",
          "output_type": "stream",
          "text": [
            "100%|██████████| 72/72 [00:31<00:00,  2.26it/s]"
          ]
        },
        {
          "name": "stdout",
          "output_type": "stream",
          "text": [
            "\tSubject Id: \t 36 \tShape:  (49364, 1)\n",
            "Total Records:  (4237908, 11)\n"
          ]
        },
        {
          "name": "stderr",
          "output_type": "stream",
          "text": [
            "\n"
          ]
        }
      ],
      "source": [
        "df_time_series = pd.DataFrame()\n",
        "for id, file in enumerate(tqdm(sorted(files_path))):\n",
        "    print(file.split('/')[-2])\n",
        "    sub = int(file.split('/')[-2])\n",
        "    data = pd.read_csv(file, sep='\\t')\n",
        "    subject_id = np.ones([len(data),1], dtype=np.int16)*sub\n",
        "    print('\\tSubject Id: \\t', sub, '\\tShape: ', subject_id.shape)\n",
        "    # Add the subject into the data\n",
        "    data['subject_id'] = subject_id\n",
        "    df_time_series = pd.concat([df_time_series, data], axis=0, ignore_index=True, copy=True)\n",
        "    # if id%2 == 1: \n",
        "    #     all_train = pd.concat([all_train, data], axis=0, ignore_index=True, copy=True)\n",
        "    # else:\n",
        "    #     all_test = pd.concat([all_test, data], axis=0, ignore_index=True, copy=True)\n",
        "\n",
        "print('Total Records: ', df_time_series.shape)"
      ]
    },
    {
      "cell_type": "code",
      "execution_count": null,
      "metadata": {
        "id": "gPu2xfryYAWm"
      },
      "outputs": [],
      "source": [
        "df_time_series.drop(index=list(df_time_series[df_time_series['class'] == 0].index),inplace=True)"
      ]
    },
    {
      "cell_type": "code",
      "execution_count": null,
      "metadata": {
        "id": "0TaPCiA-YAUA"
      },
      "outputs": [],
      "source": [
        "## Categorizing unique signals. Takes 5 mins. Could not figure out a way to optimize. Suggestions welcome\n",
        "def enumerateSignals(df):\n",
        "  signal_number_array = np.zeros(df.shape[0])\n",
        "  signal_number = 0\n",
        "  for index in range(df.shape[0]-1):\n",
        "    signal_number_array[index] = signal_number\n",
        "    if (df.iloc[index,-2] == df.iloc[index+1,-2]) and (df.iloc[index,-1] == df.iloc[index+1,-1]):\n",
        "      continue\n",
        "    else:\n",
        "      signal_number += 1\n",
        "  signal_number_array[-1] = signal_number_array[-2]\n",
        "  return signal_number_array"
      ]
    },
    {
      "cell_type": "code",
      "execution_count": null,
      "metadata": {
        "id": "MNscpj9VYARZ"
      },
      "outputs": [],
      "source": [
        "df_time_series.reset_index(drop=True,inplace=True)"
      ]
    },
    {
      "cell_type": "code",
      "execution_count": null,
      "metadata": {
        "colab": {
          "background_save": true
        },
        "id": "QBH_KzViYAO8"
      },
      "outputs": [],
      "source": [
        "df_time_series['signal_number'] = enumerateSignals(df_time_series.iloc[:,-2:])"
      ]
    },
    {
      "cell_type": "code",
      "execution_count": 13,
      "metadata": {
        "id": "FaptCuxBYAMk"
      },
      "outputs": [],
      "source": [
        "signalNumber_vs_class = {}\n",
        "signalNumber_vs_subjectId = {}\n",
        "def updateSignalNumberDicts(signalNumber,subjectId,targetClass):\n",
        "  signalNumber_vs_class[signalNumber] = targetClass\n",
        "  signalNumber_vs_subjectId[signalNumber] = subjectId"
      ]
    },
    {
      "cell_type": "code",
      "execution_count": 14,
      "metadata": {
        "id": "JJADtnJJYAKH",
        "colab": {
          "base_uri": "https://localhost:8080/",
          "height": 49
        },
        "outputId": "c25a9b4f-f2a9-448a-8b8c-6615785b9182"
      },
      "outputs": [
        {
          "output_type": "execute_result",
          "data": {
            "text/plain": [
              "Empty DataFrame\n",
              "Columns: []\n",
              "Index: []"
            ],
            "text/html": [
              "\n",
              "  <div id=\"df-125db4d8-71e9-41a8-a5b9-77e7d27a9506\">\n",
              "    <div class=\"colab-df-container\">\n",
              "      <div>\n",
              "<style scoped>\n",
              "    .dataframe tbody tr th:only-of-type {\n",
              "        vertical-align: middle;\n",
              "    }\n",
              "\n",
              "    .dataframe tbody tr th {\n",
              "        vertical-align: top;\n",
              "    }\n",
              "\n",
              "    .dataframe thead th {\n",
              "        text-align: right;\n",
              "    }\n",
              "</style>\n",
              "<table border=\"1\" class=\"dataframe\">\n",
              "  <thead>\n",
              "    <tr style=\"text-align: right;\">\n",
              "      <th></th>\n",
              "    </tr>\n",
              "  </thead>\n",
              "  <tbody>\n",
              "  </tbody>\n",
              "</table>\n",
              "</div>\n",
              "      <button class=\"colab-df-convert\" onclick=\"convertToInteractive('df-125db4d8-71e9-41a8-a5b9-77e7d27a9506')\"\n",
              "              title=\"Convert this dataframe to an interactive table.\"\n",
              "              style=\"display:none;\">\n",
              "        \n",
              "  <svg xmlns=\"http://www.w3.org/2000/svg\" height=\"24px\"viewBox=\"0 0 24 24\"\n",
              "       width=\"24px\">\n",
              "    <path d=\"M0 0h24v24H0V0z\" fill=\"none\"/>\n",
              "    <path d=\"M18.56 5.44l.94 2.06.94-2.06 2.06-.94-2.06-.94-.94-2.06-.94 2.06-2.06.94zm-11 1L8.5 8.5l.94-2.06 2.06-.94-2.06-.94L8.5 2.5l-.94 2.06-2.06.94zm10 10l.94 2.06.94-2.06 2.06-.94-2.06-.94-.94-2.06-.94 2.06-2.06.94z\"/><path d=\"M17.41 7.96l-1.37-1.37c-.4-.4-.92-.59-1.43-.59-.52 0-1.04.2-1.43.59L10.3 9.45l-7.72 7.72c-.78.78-.78 2.05 0 2.83L4 21.41c.39.39.9.59 1.41.59.51 0 1.02-.2 1.41-.59l7.78-7.78 2.81-2.81c.8-.78.8-2.07 0-2.86zM5.41 20L4 18.59l7.72-7.72 1.47 1.35L5.41 20z\"/>\n",
              "  </svg>\n",
              "      </button>\n",
              "      \n",
              "  <style>\n",
              "    .colab-df-container {\n",
              "      display:flex;\n",
              "      flex-wrap:wrap;\n",
              "      gap: 12px;\n",
              "    }\n",
              "\n",
              "    .colab-df-convert {\n",
              "      background-color: #E8F0FE;\n",
              "      border: none;\n",
              "      border-radius: 50%;\n",
              "      cursor: pointer;\n",
              "      display: none;\n",
              "      fill: #1967D2;\n",
              "      height: 32px;\n",
              "      padding: 0 0 0 0;\n",
              "      width: 32px;\n",
              "    }\n",
              "\n",
              "    .colab-df-convert:hover {\n",
              "      background-color: #E2EBFA;\n",
              "      box-shadow: 0px 1px 2px rgba(60, 64, 67, 0.3), 0px 1px 3px 1px rgba(60, 64, 67, 0.15);\n",
              "      fill: #174EA6;\n",
              "    }\n",
              "\n",
              "    [theme=dark] .colab-df-convert {\n",
              "      background-color: #3B4455;\n",
              "      fill: #D2E3FC;\n",
              "    }\n",
              "\n",
              "    [theme=dark] .colab-df-convert:hover {\n",
              "      background-color: #434B5C;\n",
              "      box-shadow: 0px 1px 3px 1px rgba(0, 0, 0, 0.15);\n",
              "      filter: drop-shadow(0px 1px 2px rgba(0, 0, 0, 0.3));\n",
              "      fill: #FFFFFF;\n",
              "    }\n",
              "  </style>\n",
              "\n",
              "      <script>\n",
              "        const buttonEl =\n",
              "          document.querySelector('#df-125db4d8-71e9-41a8-a5b9-77e7d27a9506 button.colab-df-convert');\n",
              "        buttonEl.style.display =\n",
              "          google.colab.kernel.accessAllowed ? 'block' : 'none';\n",
              "\n",
              "        async function convertToInteractive(key) {\n",
              "          const element = document.querySelector('#df-125db4d8-71e9-41a8-a5b9-77e7d27a9506');\n",
              "          const dataTable =\n",
              "            await google.colab.kernel.invokeFunction('convertToInteractive',\n",
              "                                                     [key], {});\n",
              "          if (!dataTable) return;\n",
              "\n",
              "          const docLinkHtml = 'Like what you see? Visit the ' +\n",
              "            '<a target=\"_blank\" href=https://colab.research.google.com/notebooks/data_table.ipynb>data table notebook</a>'\n",
              "            + ' to learn more about interactive tables.';\n",
              "          element.innerHTML = '';\n",
              "          dataTable['output_type'] = 'display_data';\n",
              "          await google.colab.output.renderOutput(dataTable, element);\n",
              "          const docLink = document.createElement('div');\n",
              "          docLink.innerHTML = docLinkHtml;\n",
              "          element.appendChild(docLink);\n",
              "        }\n",
              "      </script>\n",
              "    </div>\n",
              "  </div>\n",
              "  "
            ]
          },
          "metadata": {},
          "execution_count": 14
        }
      ],
      "source": [
        "df_time_series.groupby(by='signal_number').apply(lambda group : updateSignalNumberDicts(group.iloc[0,-1],group.iloc[0,-2],group.iloc[0,-3]))"
      ]
    },
    {
      "cell_type": "markdown",
      "metadata": {
        "id": "WV6WLkGtZlLi"
      },
      "source": [
        "## Creating Train, Validation and Test set"
      ]
    },
    {
      "cell_type": "code",
      "execution_count": 51,
      "metadata": {
        "id": "1RFt2_ssYAHv"
      },
      "outputs": [],
      "source": [
        "X = df_time_series.drop('class', axis=1)\n",
        "y = df_time_series['class']\n",
        "X_train,X_validation,y_train,y_validation = train_test_split(X,y,test_size=0.3,random_state=1024,shuffle=False)"
      ]
    },
    {
      "cell_type": "code",
      "execution_count": 52,
      "metadata": {
        "id": "_GBXXh4cYAFK"
      },
      "outputs": [],
      "source": [
        "X_validation,X_test,y_validation,y_test = train_test_split(X_validation,y_validation,test_size=0.3,random_state=1024,shuffle=False)"
      ]
    },
    {
      "cell_type": "code",
      "execution_count": 53,
      "metadata": {
        "id": "v0J6RVsAYACl",
        "colab": {
          "base_uri": "https://localhost:8080/"
        },
        "outputId": "3a6a2d6f-720c-4166-8c10-38327897b646"
      },
      "outputs": [
        {
          "output_type": "execute_result",
          "data": {
            "text/plain": [
              "(1059173, 11)"
            ]
          },
          "metadata": {},
          "execution_count": 53
        }
      ],
      "source": [
        "X_train = pd.concat((X_train,X_validation[X_validation.signal_number == 602]),axis=0)\n",
        "X_train.shape"
      ]
    },
    {
      "cell_type": "code",
      "execution_count": 54,
      "metadata": {
        "id": "c9YQGRuaX__x",
        "colab": {
          "base_uri": "https://localhost:8080/"
        },
        "outputId": "a3099ea7-1f6c-4764-b460-d41ca9e101a5"
      },
      "outputs": [
        {
          "output_type": "execute_result",
          "data": {
            "text/plain": [
              "(1059173,)"
            ]
          },
          "metadata": {},
          "execution_count": 54
        }
      ],
      "source": [
        "y_train = pd.concat((y_train,y_validation[X_validation.signal_number == 602]))\n",
        "y_train.shape"
      ]
    },
    {
      "cell_type": "code",
      "execution_count": 55,
      "metadata": {
        "id": "9qZjuDEXX_9b"
      },
      "outputs": [],
      "source": [
        "y_validation.drop(index=list(X_validation[X_validation.signal_number == 602].index),inplace=True)\n",
        "X_validation.drop(index=list(X_validation[X_validation.signal_number == 602].index),inplace=True)"
      ]
    },
    {
      "cell_type": "code",
      "execution_count": 56,
      "metadata": {
        "id": "yM53_9t7ZfFa",
        "colab": {
          "base_uri": "https://localhost:8080/"
        },
        "outputId": "5edb61ab-a998-4ca3-d87d-ae8c49a9ea45"
      },
      "outputs": [
        {
          "output_type": "execute_result",
          "data": {
            "text/plain": [
              "(318061, 11)"
            ]
          },
          "metadata": {},
          "execution_count": 56
        }
      ],
      "source": [
        "X_validation = pd.concat((X_validation,X_test[X_test.signal_number == 790]),axis=0)\n",
        "X_validation.shape"
      ]
    },
    {
      "cell_type": "code",
      "execution_count": 57,
      "metadata": {
        "id": "gIfv4-t2ZfDC",
        "colab": {
          "base_uri": "https://localhost:8080/"
        },
        "outputId": "178f3ec5-b76c-434f-f24f-8fe635fc6a19"
      },
      "outputs": [
        {
          "output_type": "execute_result",
          "data": {
            "text/plain": [
              "(318061,)"
            ]
          },
          "metadata": {},
          "execution_count": 57
        }
      ],
      "source": [
        "y_validation = pd.concat((y_validation,y_test[X_test.signal_number == 790]),axis=0)\n",
        "y_validation.shape"
      ]
    },
    {
      "cell_type": "code",
      "execution_count": 58,
      "metadata": {
        "id": "SxtcFjCeZfAu"
      },
      "outputs": [],
      "source": [
        "y_test.drop(index=list(y_test[X_test.signal_number == 790].index),inplace=True)\n",
        "X_test.drop(index=list(X_test[X_test.signal_number == 790].index),inplace=True)"
      ]
    },
    {
      "cell_type": "markdown",
      "metadata": {
        "id": "Q1mTvulwZ7c4"
      },
      "source": [
        "## Acording to paper, data should be normalized before extracting catch22"
      ]
    },
    {
      "cell_type": "code",
      "execution_count": 60,
      "metadata": {
        "id": "0n9426kdZe-j"
      },
      "outputs": [],
      "source": [
        "def normalizeTrainData(df):\n",
        "  mean = np.mean(df,axis=0)\n",
        "  std = np.std(df,axis=0)\n",
        "  return (df - mean)/std,mean,std"
      ]
    },
    {
      "cell_type": "code",
      "execution_count": 59,
      "metadata": {
        "id": "Kqv86NJuZe7_"
      },
      "outputs": [],
      "source": [
        "X_train.iloc[:,1:9],trainMean,trainStd = normalizeTrainData(X_train.iloc[:,1:9])"
      ]
    },
    {
      "cell_type": "code",
      "execution_count": 61,
      "metadata": {
        "id": "WqbvQFJ8asNU"
      },
      "outputs": [],
      "source": [
        "def normalizeTestData(df,trainingMean,trainingStd):\n",
        "  return (df - trainingMean)/trainingStd"
      ]
    },
    {
      "cell_type": "code",
      "execution_count": 66,
      "metadata": {
        "id": "2Rx8QD0Xa47b"
      },
      "outputs": [],
      "source": [
        "X_validation.iloc[:,1:9] = normalizeTestData(X_validation.iloc[:,1:9],trainMean,trainStd)\n",
        "X_test.iloc[:,1:9] = normalizeTestData(X_test.iloc[:,1:9],trainMean,trainStd)"
      ]
    },
    {
      "cell_type": "code",
      "execution_count": 67,
      "metadata": {
        "id": "ed2KuQ1vZe5q"
      },
      "outputs": [],
      "source": [
        "def createCatch22Features(df,interval):\n",
        "  lastIndex = df.shape[0]  - (df.shape[0]%interval)\n",
        "  \n",
        "  \n",
        "  # catch_22_features = ['DN_HistogramMode_5', 'DN_HistogramMode_10', 'CO_f1ecac', 'CO_FirstMin_ac', 'CO_HistogramAMI_even_2_5', 'CO_trev_1_num',\n",
        "  #                  'MD_hrv_classic_pnn40', 'SB_BinaryStats_mean_longstretch1', 'SB_TransitionMatrix_3ac_sumdiagcov', 'PD_PeriodicityWang_th0_01',\n",
        "  #                  'CO_Embed2_Dist_tau_d_expfit_meandiff', 'IN_AutoMutualInfoStats_40_gaussian_fmmi', 'FC_LocalSimple_mean1_tauresrat',\n",
        "  #                  'DN_OutlierInclude_p_001_mdrmd', 'DN_OutlierInclude_n_001_mdrmd', 'SP_Summaries_welch_rect_area_5_1',\n",
        "  #                  'SB_BinaryStats_diff_longstretch0', 'SB_MotifThree_quantile_hh', 'SC_FluctAnal_2_rsrangefit_50_1_logi_prop_r1',\n",
        "  #                  'SC_FluctAnal_2_dfa_50_1_2_logi_prop_r1', 'SP_Summaries_welch_rect_centroid', 'FC_LocalSimple_mean3_stderr']\n",
        "  \n",
        "  df_final = pd.DataFrame()\n",
        "  \n",
        "  for channel in range(1,9):\n",
        "    channelCatch22List = []\n",
        "    for startIndex in np.arange(0,df.shape[0],interval):\n",
        "      if startIndex == lastIndex:\n",
        "        channelFeatures = pycatch22.catch22_all(df.iloc[startIndex:,channel])\n",
        "      else:\n",
        "        channelFeatures = pycatch22.catch22_all(df.iloc[startIndex:(startIndex+interval),channel])\n",
        "      channelFeaturesDict = dict(zip(channelFeatures['names'], channelFeatures['values']))\n",
        "      channelCatch22Dict = {f'{feature}_channel_{channel}':channelFeaturesDict[feature] for feature in channelFeaturesDict.keys()}\n",
        "      channelCatch22List.append(channelCatch22Dict)\n",
        "    df_channel = pd.DataFrame(channelCatch22List)\n",
        "    df_final = pd.concat((df_final,df_channel),axis=1)\n",
        "      \n",
        "  return df_final"
      ]
    },
    {
      "cell_type": "code",
      "execution_count": 68,
      "metadata": {
        "id": "2zmw-dAnZe3U"
      },
      "outputs": [],
      "source": [
        "def groupBySignals(signalNumber,group,intervalSize):\n",
        "  df_subjectId_interval = createCatch22Features(group,intervalSize)\n",
        "  ones = np.ones(df_subjectId_interval.shape[0])\n",
        "  df_subjectId_interval['intervalSize'] = ones * intervalSize\n",
        "  df_subjectId_interval['subjectId'] = ones * signalNumber_vs_subjectId[signalNumber]\n",
        "  y_temp = pd.Series(ones * signalNumber_vs_class[signalNumber])\n",
        "  return df_subjectId_interval,y_temp"
      ]
    },
    {
      "cell_type": "code",
      "execution_count": 69,
      "metadata": {
        "id": "pUsloi4NZe1N"
      },
      "outputs": [],
      "source": [
        "## Some issue with signal 180. If not excluded the runtime will crash\n",
        "groups = X_train[(X_train.signal_number != 180)].groupby(by='signal_number')\n",
        "X_train_features = pd.DataFrame()\n",
        "y_train_features = pd.Series(dtype=np.float16)\n",
        "intervalSize = 512\n",
        "for signalNumber,group in groups:\n",
        "  dfSubjectIdInterval,yTemp = groupBySignals(signalNumber,group,intervalSize)\n",
        "  X_train_features = pd.concat((X_train_features,dfSubjectIdInterval),axis=0,ignore_index=True)\n",
        "  y_train_features = pd.concat((y_train_features,yTemp),ignore_index=True)"
      ]
    },
    {
      "cell_type": "code",
      "execution_count": 70,
      "metadata": {
        "id": "qIrm6m-rZeym"
      },
      "outputs": [],
      "source": [
        "groups = X_validation.groupby(by='signal_number')\n",
        "X_validation_features = pd.DataFrame()\n",
        "y_validation_features = pd.Series(dtype=np.float16)\n",
        "intervalSize = 512\n",
        "for signalNumber,group in groups:\n",
        "  dfSubjectIdInterval,yTemp = groupBySignals(signalNumber,group,intervalSize)\n",
        "  X_validation_features = pd.concat((X_validation_features,dfSubjectIdInterval),axis=0,ignore_index=True)\n",
        "  y_validation_features = pd.concat((y_validation_features,yTemp),ignore_index=True)"
      ]
    },
    {
      "cell_type": "code",
      "execution_count": 71,
      "metadata": {
        "id": "WedMwvEoZev-"
      },
      "outputs": [],
      "source": [
        "groups = X_test.groupby(by='signal_number')\n",
        "X_test_features = pd.DataFrame()\n",
        "y_test_features = pd.Series(dtype=np.float16)\n",
        "intervalSize = 512\n",
        "for signalNumber,group in groups:\n",
        "  dfSubjectIdInterval,yTemp = groupBySignals(signalNumber,group,intervalSize)\n",
        "  X_test_features = pd.concat((X_test_features,dfSubjectIdInterval),axis=0,ignore_index=True)\n",
        "  y_test_features = pd.concat((y_test_features,yTemp),ignore_index=True)"
      ]
    },
    {
      "cell_type": "code",
      "execution_count": 72,
      "metadata": {
        "id": "OJWl_oerbV3W"
      },
      "outputs": [],
      "source": [
        "y_train_features.drop(index=list(X_train_features[X_train_features.DN_HistogramMode_5_channel_1.isna()].index),inplace=True)\n",
        "X_train_features.drop(index=list(X_train_features[X_train_features.DN_HistogramMode_5_channel_1.isna()].index),inplace=True)"
      ]
    },
    {
      "cell_type": "code",
      "execution_count": 73,
      "metadata": {
        "id": "85Z7AtNEbVuu"
      },
      "outputs": [],
      "source": [
        "y_train_features.drop(index=list(X_train_features[X_train_features.SC_FluctAnal_2_dfa_50_1_2_logi_prop_r1_channel_8.isna()].index),inplace=True)\n",
        "X_train_features.drop(index=list(X_train_features[X_train_features.SC_FluctAnal_2_dfa_50_1_2_logi_prop_r1_channel_8.isna()].index),inplace=True)"
      ]
    },
    {
      "cell_type": "code",
      "execution_count": 74,
      "metadata": {
        "id": "Az7oz8-rbVsY"
      },
      "outputs": [],
      "source": [
        "y_train_features.drop(index=list(X_train_features[X_train_features.SB_TransitionMatrix_3ac_sumdiagcov_channel_1.isna()].index),inplace=True)\n",
        "X_train_features.drop(index=list(X_train_features[X_train_features.SB_TransitionMatrix_3ac_sumdiagcov_channel_1.isna()].index),inplace=True)"
      ]
    },
    {
      "cell_type": "code",
      "execution_count": 75,
      "metadata": {
        "id": "Adi4m76ubVqD"
      },
      "outputs": [],
      "source": [
        "y_validation_features.drop(index=list(X_validation_features[X_validation_features.DN_HistogramMode_5_channel_1.isna()].index),inplace=True)\n",
        "X_validation_features.drop(index=list(X_validation_features[X_validation_features.DN_HistogramMode_5_channel_1.isna()].index),inplace=True)\n",
        "y_validation_features.drop(index=list(X_validation_features[X_validation_features.SC_FluctAnal_2_dfa_50_1_2_logi_prop_r1_channel_8.isna()].index),inplace=True)\n",
        "X_validation_features.drop(index=list(X_validation_features[X_validation_features.SC_FluctAnal_2_dfa_50_1_2_logi_prop_r1_channel_8.isna()].index),inplace=True)"
      ]
    },
    {
      "cell_type": "markdown",
      "source": [
        "## MODEL BUILDING"
      ],
      "metadata": {
        "id": "JmpUc51MfsI1"
      }
    },
    {
      "cell_type": "code",
      "execution_count": 76,
      "metadata": {
        "id": "x9KbQUqpbVnq"
      },
      "outputs": [],
      "source": [
        "from sklearn.svm import SVC\n",
        "clf = SVC(kernel='linear')\n",
        "svm_model = clf.fit(X_train_features.iloc[:,:-2].values,y_train_features.values)"
      ]
    },
    {
      "cell_type": "code",
      "execution_count": 77,
      "metadata": {
        "id": "Rk8zRL2xbVlS"
      },
      "outputs": [],
      "source": [
        "def getAccuracy(pred,actual):\n",
        "  correctClassifications = 0\n",
        "  for i in range(len(pred)):\n",
        "    if pred[i] == actual[i]:\n",
        "      correctClassifications += 1\n",
        "  return (correctClassifications/len(pred)) * 100"
      ]
    },
    {
      "cell_type": "code",
      "execution_count": 78,
      "metadata": {
        "id": "fMV6RSxhbr9E"
      },
      "outputs": [],
      "source": [
        "prediction_train = svm_model.predict(X_train_features.iloc[:,:-2].values)\n",
        "prediction_validation = svm_model.predict(X_validation_features.iloc[:,:-2].values)"
      ]
    },
    {
      "cell_type": "code",
      "execution_count": 79,
      "metadata": {
        "id": "v4v1Ag00bxNA",
        "colab": {
          "base_uri": "https://localhost:8080/"
        },
        "outputId": "9b865d7f-c754-4066-e657-8b13072d78f9"
      },
      "outputs": [
        {
          "output_type": "execute_result",
          "data": {
            "text/plain": [
              "55.74395930479017"
            ]
          },
          "metadata": {},
          "execution_count": 79
        }
      ],
      "source": [
        "getAccuracy(prediction_train,y_train_features.values)"
      ]
    },
    {
      "cell_type": "code",
      "execution_count": 80,
      "metadata": {
        "id": "JJ5H-XPtbxK4",
        "colab": {
          "base_uri": "https://localhost:8080/"
        },
        "outputId": "cbf4ea05-b97f-408b-f111-51af1c97679e"
      },
      "outputs": [
        {
          "output_type": "execute_result",
          "data": {
            "text/plain": [
              "32.81907433380084"
            ]
          },
          "metadata": {},
          "execution_count": 80
        }
      ],
      "source": [
        "getAccuracy(prediction_validation,y_validation_features.values)"
      ]
    }
  ],
  "metadata": {
    "colab": {
      "provenance": []
    },
    "kernelspec": {
      "display_name": "Python 3",
      "name": "python3"
    },
    "language_info": {
      "name": "python"
    }
  },
  "nbformat": 4,
  "nbformat_minor": 0
}