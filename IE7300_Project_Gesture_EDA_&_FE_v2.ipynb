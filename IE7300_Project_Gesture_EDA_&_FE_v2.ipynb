{
  "nbformat": 4,
  "nbformat_minor": 0,
  "metadata": {
    "colab": {
      "provenance": []
    },
    "kernelspec": {
      "name": "python3",
      "display_name": "Python 3"
    },
    "language_info": {
      "name": "python"
    }
  },
  "cells": [
    {
      "cell_type": "markdown",
      "source": [
        "# Hand Gesture Classification using EMG"
      ],
      "metadata": {
        "id": "jffiwhsnKA-c"
      }
    },
    {
      "cell_type": "markdown",
      "source": [
        "**EMG Pattern Classification**\n",
        "\n",
        "For recording patterns, the author used a MYO Thalmic bracelet worn on a user’s forearm, and a PC with a Bluetooth receiver. The bracelet is equipped with **eight sensors** equally spaced around the forearm that simultaneously acquire myographic signals. The signals are sent through a Bluetooth interface to a PC. \n",
        "\n",
        "\n",
        "    Author: Debanjan Saha\n",
        "    College: Northeastern University\n",
        "    Group: Project Group 7\n",
        "    Batch: Wednesday\n",
        "    Course: IE 7300\n",
        "    Professor: Ramin M.\n",
        "\n",
        "This dataset contains raw EMG data for **36** subjects while they performed series of static hand gestures.The subject performs two series, each of which consists of **six (seven) basic gestures**. Each gesture was **performed for 3 seconds** with a **pause** of **3 seconds between gestures**.\n",
        "\n",
        "Relevant Paper:\n",
        "Lobov S., Krilova N., Kastalskiy I., Kazantsev V., Makarov V.A. Latent Factors Limiting the Performance of sEMG-Interfaces. Sensors. 2018;18(4):1122. doi: 10.3390/s18041122\n",
        "\n"
      ],
      "metadata": {
        "id": "oQf5rTD_KGcV"
      }
    },
    {
      "cell_type": "code",
      "source": [
        "!pip install nolds\n",
        "# !pip install pyeeg"
      ],
      "metadata": {
        "colab": {
          "base_uri": "https://localhost:8080/"
        },
        "id": "IKBvS_5bciqR",
        "outputId": "07b757ec-c4d6-4ce0-ac3e-fd1935dab333"
      },
      "execution_count": 1,
      "outputs": [
        {
          "output_type": "stream",
          "name": "stdout",
          "text": [
            "Looking in indexes: https://pypi.org/simple, https://us-python.pkg.dev/colab-wheels/public/simple/\n",
            "Requirement already satisfied: nolds in /usr/local/lib/python3.9/dist-packages (0.5.2)\n",
            "Requirement already satisfied: numpy in /usr/local/lib/python3.9/dist-packages (from nolds) (1.22.4)\n",
            "Requirement already satisfied: future in /usr/local/lib/python3.9/dist-packages (from nolds) (0.18.3)\n",
            "Requirement already satisfied: setuptools in /usr/local/lib/python3.9/dist-packages (from nolds) (67.6.0)\n"
          ]
        }
      ]
    },
    {
      "cell_type": "code",
      "execution_count": 2,
      "metadata": {
        "id": "LYeKgruYNCwZ"
      },
      "outputs": [],
      "source": [
        "import warnings\n",
        "import os\n",
        "from tqdm import tqdm\n",
        "import numpy as np\n",
        "import pandas as pd\n",
        "import matplotlib.pyplot as plt\n",
        "import seaborn as sns\n",
        "import pywt\n",
        "import librosa\n",
        "import nolds\n",
        "# import pyeeg\n",
        "sns.set_style('darkgrid')\n",
        "pd.set_option('display.max_columns', 100)\n",
        "pd.set_option('display.max_colwidth', 500)"
      ]
    },
    {
      "cell_type": "code",
      "source": [
        "from sklearn.model_selection import train_test_split, StratifiedKFold, cross_val_score, GridSearchCV\n",
        "from scipy import stats"
      ],
      "metadata": {
        "id": "7ZvXfNnxqtrj"
      },
      "execution_count": 3,
      "outputs": []
    },
    {
      "cell_type": "code",
      "source": [
        "from google.colab import drive, files\n",
        "drive.mount('/content/drive', force_remount=True)"
      ],
      "metadata": {
        "colab": {
          "base_uri": "https://localhost:8080/"
        },
        "id": "TsjauunTNVla",
        "outputId": "b30a8074-bebf-4120-fefb-5e049e4087e5"
      },
      "execution_count": 4,
      "outputs": [
        {
          "output_type": "stream",
          "name": "stdout",
          "text": [
            "Mounted at /content/drive\n"
          ]
        }
      ]
    },
    {
      "cell_type": "code",
      "source": [
        "%cd '/content/drive/MyDrive/Northeastern/Projects/IE7300 Project/EMG_data_for_gestures-master'\n",
        "!ls -lrt"
      ],
      "metadata": {
        "colab": {
          "base_uri": "https://localhost:8080/"
        },
        "id": "cao_hlh6Nb_y",
        "outputId": "77f1db55-ccce-4c39-b68a-489101ffdb86"
      },
      "execution_count": 5,
      "outputs": [
        {
          "output_type": "stream",
          "name": "stdout",
          "text": [
            "/content/drive/MyDrive/Northeastern/Projects/IE7300 Project/EMG_data_for_gestures-master\n",
            "total 146\n",
            "-rw------- 1 root root 1453 Dec  7  2018 README.txt\n",
            "drwx------ 2 root root 4096 Mar 23 20:40 10\n",
            "drwx------ 2 root root 4096 Mar 23 20:40 09\n",
            "drwx------ 2 root root 4096 Mar 23 20:40 08\n",
            "drwx------ 2 root root 4096 Mar 23 20:40 07\n",
            "drwx------ 2 root root 4096 Mar 23 20:40 06\n",
            "drwx------ 2 root root 4096 Mar 23 20:40 05\n",
            "drwx------ 2 root root 4096 Mar 23 20:40 04\n",
            "drwx------ 2 root root 4096 Mar 23 20:40 03\n",
            "drwx------ 2 root root 4096 Mar 23 20:40 02\n",
            "drwx------ 2 root root 4096 Mar 23 20:40 01\n",
            "drwx------ 2 root root 4096 Mar 23 20:40 20\n",
            "drwx------ 2 root root 4096 Mar 23 20:40 19\n",
            "drwx------ 2 root root 4096 Mar 23 20:40 18\n",
            "drwx------ 2 root root 4096 Mar 23 20:40 17\n",
            "drwx------ 2 root root 4096 Mar 23 20:40 16\n",
            "drwx------ 2 root root 4096 Mar 23 20:40 15\n",
            "drwx------ 2 root root 4096 Mar 23 20:40 14\n",
            "drwx------ 2 root root 4096 Mar 23 20:40 13\n",
            "drwx------ 2 root root 4096 Mar 23 20:40 12\n",
            "drwx------ 2 root root 4096 Mar 23 20:40 11\n",
            "drwx------ 2 root root 4096 Mar 23 20:40 30\n",
            "drwx------ 2 root root 4096 Mar 23 20:40 29\n",
            "drwx------ 2 root root 4096 Mar 23 20:40 28\n",
            "drwx------ 2 root root 4096 Mar 23 20:40 27\n",
            "drwx------ 2 root root 4096 Mar 23 20:40 26\n",
            "drwx------ 2 root root 4096 Mar 23 20:40 25\n",
            "drwx------ 2 root root 4096 Mar 23 20:40 24\n",
            "drwx------ 2 root root 4096 Mar 23 20:40 23\n",
            "drwx------ 2 root root 4096 Mar 23 20:40 22\n",
            "drwx------ 2 root root 4096 Mar 23 20:40 21\n",
            "drwx------ 2 root root 4096 Mar 23 20:40 36\n",
            "drwx------ 2 root root 4096 Mar 23 20:40 35\n",
            "drwx------ 2 root root 4096 Mar 23 20:40 34\n",
            "drwx------ 2 root root 4096 Mar 23 20:40 33\n",
            "drwx------ 2 root root 4096 Mar 23 20:40 32\n",
            "drwx------ 2 root root 4096 Mar 23 20:40 31\n"
          ]
        }
      ]
    },
    {
      "cell_type": "markdown",
      "source": [
        "## Read Data"
      ],
      "metadata": {
        "id": "G_Y7sT28MuiX"
      }
    },
    {
      "cell_type": "code",
      "source": [
        "# List out all the available files in the project's environment\n",
        "files_path = set()\n",
        "for dirname, _, filenames in os.walk('/content/drive/MyDrive/Northeastern/Projects/IE7300 Project/EMG_data_for_gestures-master/'):\n",
        "    for filename in filenames:\n",
        "        f_path = os.path.join(dirname, filename)\n",
        "        files_path.add(f_path)"
      ],
      "metadata": {
        "id": "lJzsxaEMOb1X"
      },
      "execution_count": 6,
      "outputs": []
    },
    {
      "cell_type": "code",
      "source": [
        "files_path.discard('/content/drive/MyDrive/Northeastern/Projects/IE7300 Project/EMG_data_for_gestures-master/README.txt')\n",
        "files_path"
      ],
      "metadata": {
        "colab": {
          "base_uri": "https://localhost:8080/"
        },
        "id": "7c76SzOZPYvZ",
        "outputId": "5a1f3ef1-4b0d-4993-9ccd-f23e05ec71a0"
      },
      "execution_count": 7,
      "outputs": [
        {
          "output_type": "execute_result",
          "data": {
            "text/plain": [
              "{'/content/drive/MyDrive/Northeastern/Projects/IE7300 Project/EMG_data_for_gestures-master/01/1_raw_data_13-12_22.03.16.txt',\n",
              " '/content/drive/MyDrive/Northeastern/Projects/IE7300 Project/EMG_data_for_gestures-master/01/2_raw_data_13-13_22.03.16.txt',\n",
              " '/content/drive/MyDrive/Northeastern/Projects/IE7300 Project/EMG_data_for_gestures-master/02/1_raw_data_14-19_22.03.16.txt',\n",
              " '/content/drive/MyDrive/Northeastern/Projects/IE7300 Project/EMG_data_for_gestures-master/02/2_raw_data_14-21_22.03.16.txt',\n",
              " '/content/drive/MyDrive/Northeastern/Projects/IE7300 Project/EMG_data_for_gestures-master/03/1_raw_data_09-32_11.04.16.txt',\n",
              " '/content/drive/MyDrive/Northeastern/Projects/IE7300 Project/EMG_data_for_gestures-master/03/2_raw_data_09-34_11.04.16.txt',\n",
              " '/content/drive/MyDrive/Northeastern/Projects/IE7300 Project/EMG_data_for_gestures-master/04/1_raw_data_18-02_24.04.16.txt',\n",
              " '/content/drive/MyDrive/Northeastern/Projects/IE7300 Project/EMG_data_for_gestures-master/04/2_raw_data_18-03_24.04.16.txt',\n",
              " '/content/drive/MyDrive/Northeastern/Projects/IE7300 Project/EMG_data_for_gestures-master/05/1_raw_data_10-28_30.03.16.txt',\n",
              " '/content/drive/MyDrive/Northeastern/Projects/IE7300 Project/EMG_data_for_gestures-master/05/2_raw_data_10-29_30.03.16.txt',\n",
              " '/content/drive/MyDrive/Northeastern/Projects/IE7300 Project/EMG_data_for_gestures-master/06/1_raw_data_10-38_11.04.16.txt',\n",
              " '/content/drive/MyDrive/Northeastern/Projects/IE7300 Project/EMG_data_for_gestures-master/06/2_raw_data_10-40_11.04.16.txt',\n",
              " '/content/drive/MyDrive/Northeastern/Projects/IE7300 Project/EMG_data_for_gestures-master/07/1_raw_data_18-48_22.03.16.txt',\n",
              " '/content/drive/MyDrive/Northeastern/Projects/IE7300 Project/EMG_data_for_gestures-master/07/2_raw_data_18-50_22.03.16.txt',\n",
              " '/content/drive/MyDrive/Northeastern/Projects/IE7300 Project/EMG_data_for_gestures-master/08/1_raw_data_12-14_23.03.16.txt',\n",
              " '/content/drive/MyDrive/Northeastern/Projects/IE7300 Project/EMG_data_for_gestures-master/08/2_raw_data_12-16_23.03.16.txt',\n",
              " '/content/drive/MyDrive/Northeastern/Projects/IE7300 Project/EMG_data_for_gestures-master/09/1_raw_data_12-41_23.03.16.txt',\n",
              " '/content/drive/MyDrive/Northeastern/Projects/IE7300 Project/EMG_data_for_gestures-master/09/2_raw_data_12-43_23.03.16.txt',\n",
              " '/content/drive/MyDrive/Northeastern/Projects/IE7300 Project/EMG_data_for_gestures-master/10/1_raw_data_11-08_21.03.16.txt',\n",
              " '/content/drive/MyDrive/Northeastern/Projects/IE7300 Project/EMG_data_for_gestures-master/10/2_raw_data_11-10_21.03.16.txt',\n",
              " '/content/drive/MyDrive/Northeastern/Projects/IE7300 Project/EMG_data_for_gestures-master/11/1_raw_data_13-11_18.03.16.txt',\n",
              " '/content/drive/MyDrive/Northeastern/Projects/IE7300 Project/EMG_data_for_gestures-master/11/2_raw_data_13-13_18.03.16.txt',\n",
              " '/content/drive/MyDrive/Northeastern/Projects/IE7300 Project/EMG_data_for_gestures-master/12/1_raw_data_11-35_28.03.16.txt',\n",
              " '/content/drive/MyDrive/Northeastern/Projects/IE7300 Project/EMG_data_for_gestures-master/12/2_raw_data_11-36_28.03.16.txt',\n",
              " '/content/drive/MyDrive/Northeastern/Projects/IE7300 Project/EMG_data_for_gestures-master/13/1_raw_data_13-26_21.03.16.txt',\n",
              " '/content/drive/MyDrive/Northeastern/Projects/IE7300 Project/EMG_data_for_gestures-master/13/2_raw_data_13-29_21.03.16.txt',\n",
              " '/content/drive/MyDrive/Northeastern/Projects/IE7300 Project/EMG_data_for_gestures-master/14/1_raw_data_09-50_15.04.16.txt',\n",
              " '/content/drive/MyDrive/Northeastern/Projects/IE7300 Project/EMG_data_for_gestures-master/14/2_raw_data_09-51_15.04.16.txt',\n",
              " '/content/drive/MyDrive/Northeastern/Projects/IE7300 Project/EMG_data_for_gestures-master/15/1_raw_data_08-49_13.04.16.txt',\n",
              " '/content/drive/MyDrive/Northeastern/Projects/IE7300 Project/EMG_data_for_gestures-master/15/2_raw_data_08-51_13.04.16.txt',\n",
              " '/content/drive/MyDrive/Northeastern/Projects/IE7300 Project/EMG_data_for_gestures-master/16/1_raw_data_12-12_25.04.16.txt',\n",
              " '/content/drive/MyDrive/Northeastern/Projects/IE7300 Project/EMG_data_for_gestures-master/16/2_raw_data_12-14_25.04.16.txt',\n",
              " '/content/drive/MyDrive/Northeastern/Projects/IE7300 Project/EMG_data_for_gestures-master/17/1_raw_data_11-19_23.03.16.txt',\n",
              " '/content/drive/MyDrive/Northeastern/Projects/IE7300 Project/EMG_data_for_gestures-master/17/2_raw_data_11-20_23.03.16.txt',\n",
              " '/content/drive/MyDrive/Northeastern/Projects/IE7300 Project/EMG_data_for_gestures-master/18/1_raw_data_12-35_21.03.16.txt',\n",
              " '/content/drive/MyDrive/Northeastern/Projects/IE7300 Project/EMG_data_for_gestures-master/18/2_raw_data_12-37_21.03.16.txt',\n",
              " '/content/drive/MyDrive/Northeastern/Projects/IE7300 Project/EMG_data_for_gestures-master/19/1_raw_data_12-10_26.04.16.txt',\n",
              " '/content/drive/MyDrive/Northeastern/Projects/IE7300 Project/EMG_data_for_gestures-master/19/2_raw_data_12-11_26.04.16.txt',\n",
              " '/content/drive/MyDrive/Northeastern/Projects/IE7300 Project/EMG_data_for_gestures-master/20/1_raw_data_11-41_22.03.16.txt',\n",
              " '/content/drive/MyDrive/Northeastern/Projects/IE7300 Project/EMG_data_for_gestures-master/20/2_raw_data_11-43_22.03.16.txt',\n",
              " '/content/drive/MyDrive/Northeastern/Projects/IE7300 Project/EMG_data_for_gestures-master/21/1_raw_data_20-28_24.04.16.txt',\n",
              " '/content/drive/MyDrive/Northeastern/Projects/IE7300 Project/EMG_data_for_gestures-master/21/2_raw_data_20-30_24.04.16.txt',\n",
              " '/content/drive/MyDrive/Northeastern/Projects/IE7300 Project/EMG_data_for_gestures-master/22/1_raw_data_12-37_28.03.16.txt',\n",
              " '/content/drive/MyDrive/Northeastern/Projects/IE7300 Project/EMG_data_for_gestures-master/22/2_raw_data_12-39_28.03.16.txt',\n",
              " '/content/drive/MyDrive/Northeastern/Projects/IE7300 Project/EMG_data_for_gestures-master/23/1_raw_data_13-18_05.04.16.txt',\n",
              " '/content/drive/MyDrive/Northeastern/Projects/IE7300 Project/EMG_data_for_gestures-master/23/2_raw_data_13-19_05.04.16.txt',\n",
              " '/content/drive/MyDrive/Northeastern/Projects/IE7300 Project/EMG_data_for_gestures-master/24/1_raw_data_10-16_12.04.16.txt',\n",
              " '/content/drive/MyDrive/Northeastern/Projects/IE7300 Project/EMG_data_for_gestures-master/24/2_raw_data_10-17_12.04.16.txt',\n",
              " '/content/drive/MyDrive/Northeastern/Projects/IE7300 Project/EMG_data_for_gestures-master/25/1_raw_data_14-51_24.04.16.txt',\n",
              " '/content/drive/MyDrive/Northeastern/Projects/IE7300 Project/EMG_data_for_gestures-master/25/2_raw_data_14-53_24.04.16.txt',\n",
              " '/content/drive/MyDrive/Northeastern/Projects/IE7300 Project/EMG_data_for_gestures-master/26/1_raw_data_10-22_29.03.16.txt',\n",
              " '/content/drive/MyDrive/Northeastern/Projects/IE7300 Project/EMG_data_for_gestures-master/26/2_raw_data_10-23_29.03.16.txt',\n",
              " '/content/drive/MyDrive/Northeastern/Projects/IE7300 Project/EMG_data_for_gestures-master/27/1_raw_data_12-19_06.04.16.txt',\n",
              " '/content/drive/MyDrive/Northeastern/Projects/IE7300 Project/EMG_data_for_gestures-master/27/2_raw_data_12-20_06.04.16.txt',\n",
              " '/content/drive/MyDrive/Northeastern/Projects/IE7300 Project/EMG_data_for_gestures-master/28/1_raw_data_12-10_15.04.16.txt',\n",
              " '/content/drive/MyDrive/Northeastern/Projects/IE7300 Project/EMG_data_for_gestures-master/28/2_raw_data_12-11_15.04.16.txt',\n",
              " '/content/drive/MyDrive/Northeastern/Projects/IE7300 Project/EMG_data_for_gestures-master/29/1_raw_data_10-17_15.04.16.txt',\n",
              " '/content/drive/MyDrive/Northeastern/Projects/IE7300 Project/EMG_data_for_gestures-master/29/2_raw_data_10-18_15.04.16.txt',\n",
              " '/content/drive/MyDrive/Northeastern/Projects/IE7300 Project/EMG_data_for_gestures-master/30/1_raw_data_09-49_21.03.16.txt',\n",
              " '/content/drive/MyDrive/Northeastern/Projects/IE7300 Project/EMG_data_for_gestures-master/30/2_raw_data_09-50_21.03.16.txt',\n",
              " '/content/drive/MyDrive/Northeastern/Projects/IE7300 Project/EMG_data_for_gestures-master/31/1_raw_data_11-15_11.04.16.txt',\n",
              " '/content/drive/MyDrive/Northeastern/Projects/IE7300 Project/EMG_data_for_gestures-master/31/2_raw_data_11-16_11.04.16.txt',\n",
              " '/content/drive/MyDrive/Northeastern/Projects/IE7300 Project/EMG_data_for_gestures-master/32/1_raw_data_12-04_27.04.16.txt',\n",
              " '/content/drive/MyDrive/Northeastern/Projects/IE7300 Project/EMG_data_for_gestures-master/32/2_raw_data_12-06_27.04.16.txt',\n",
              " '/content/drive/MyDrive/Northeastern/Projects/IE7300 Project/EMG_data_for_gestures-master/33/1_raw_data_09-49_12.04.16.txt',\n",
              " '/content/drive/MyDrive/Northeastern/Projects/IE7300 Project/EMG_data_for_gestures-master/33/2_raw_data_09-50_12.04.16.txt',\n",
              " '/content/drive/MyDrive/Northeastern/Projects/IE7300 Project/EMG_data_for_gestures-master/34/1_raw_data_10-51_07.04.16.txt',\n",
              " '/content/drive/MyDrive/Northeastern/Projects/IE7300 Project/EMG_data_for_gestures-master/34/2_raw_data_10-53_07.04.16.txt',\n",
              " '/content/drive/MyDrive/Northeastern/Projects/IE7300 Project/EMG_data_for_gestures-master/35/1_raw_data_10-03_13.04.16.txt',\n",
              " '/content/drive/MyDrive/Northeastern/Projects/IE7300 Project/EMG_data_for_gestures-master/35/2_raw_data_10-05_13.04.16.txt',\n",
              " '/content/drive/MyDrive/Northeastern/Projects/IE7300 Project/EMG_data_for_gestures-master/36/1_raw_data_13-03_15.04.16.txt',\n",
              " '/content/drive/MyDrive/Northeastern/Projects/IE7300 Project/EMG_data_for_gestures-master/36/2_raw_data_13-04_15.04.16.txt'}"
            ]
          },
          "metadata": {},
          "execution_count": 7
        }
      ]
    },
    {
      "cell_type": "code",
      "source": [
        "all_data = pd.DataFrame()\n",
        "for id, file in enumerate(tqdm(sorted(files_path))):\n",
        "    # if id == 1: \n",
        "    sub = int(file.split('/')[-2])\n",
        "    data = pd.read_csv(file, sep='\\t')\n",
        "    subject_id = np.ones([len(data),1], dtype=np.int16)*sub\n",
        "    print('\\tSubject Id: \\t', sub, '\\tShape: ', subject_id.shape)\n",
        "    # Add the subject into the data\n",
        "    data['subject_id'] = subject_id\n",
        "    all_data = pd.concat([all_data, data], axis=0, ignore_index=True, copy=True)\n",
        "print('Total Records: ', all_data.shape)"
      ],
      "metadata": {
        "colab": {
          "base_uri": "https://localhost:8080/"
        },
        "id": "GxrIMx18Qnb8",
        "outputId": "86225a9b-1522-4189-83f3-eb3d909a4d8b"
      },
      "execution_count": 24,
      "outputs": [
        {
          "output_type": "stream",
          "name": "stderr",
          "text": [
            "  3%|▎         | 2/72 [00:00<00:05, 13.74it/s]"
          ]
        },
        {
          "output_type": "stream",
          "name": "stdout",
          "text": [
            "\tSubject Id: \t 1 \tShape:  (63196, 1)\n",
            "\tSubject Id: \t 1 \tShape:  (57974, 1)\n",
            "\tSubject Id: \t 2 \tShape:  (72322, 1)\n"
          ]
        },
        {
          "output_type": "stream",
          "name": "stderr",
          "text": [
            "  8%|▊         | 6/72 [00:00<00:05, 12.48it/s]"
          ]
        },
        {
          "output_type": "stream",
          "name": "stdout",
          "text": [
            "\tSubject Id: \t 2 \tShape:  (64104, 1)\n",
            "\tSubject Id: \t 3 \tShape:  (56568, 1)\n",
            "\tSubject Id: \t 3 \tShape:  (49217, 1)\n"
          ]
        },
        {
          "output_type": "stream",
          "name": "stderr",
          "text": [
            "\r 11%|█         | 8/72 [00:00<00:05, 12.59it/s]"
          ]
        },
        {
          "output_type": "stream",
          "name": "stdout",
          "text": [
            "\tSubject Id: \t 4 \tShape:  (59107, 1)\n",
            "\tSubject Id: \t 4 \tShape:  (55091, 1)\n",
            "\tSubject Id: \t 5 \tShape:  (57118, 1)\n"
          ]
        },
        {
          "output_type": "stream",
          "name": "stderr",
          "text": [
            " 17%|█▋        | 12/72 [00:00<00:04, 12.74it/s]"
          ]
        },
        {
          "output_type": "stream",
          "name": "stdout",
          "text": [
            "\tSubject Id: \t 5 \tShape:  (50130, 1)\n",
            "\tSubject Id: \t 6 \tShape:  (51078, 1)\n",
            "\tSubject Id: \t 6 \tShape:  (48541, 1)\n"
          ]
        },
        {
          "output_type": "stream",
          "name": "stderr",
          "text": [
            "\r 19%|█▉        | 14/72 [00:01<00:05, 11.44it/s]"
          ]
        },
        {
          "output_type": "stream",
          "name": "stdout",
          "text": [
            "\tSubject Id: \t 7 \tShape:  (68697, 1)\n",
            "\tSubject Id: \t 7 \tShape:  (63943, 1)\n",
            "\tSubject Id: \t 8 \tShape:  (60280, 1)\n"
          ]
        },
        {
          "output_type": "stream",
          "name": "stderr",
          "text": [
            "\r 22%|██▏       | 16/72 [00:01<00:05, 10.59it/s]"
          ]
        },
        {
          "output_type": "stream",
          "name": "stdout",
          "text": [
            "\tSubject Id: \t 8 \tShape:  (57668, 1)\n",
            "\tSubject Id: \t 9 \tShape:  (62770, 1)\n"
          ]
        },
        {
          "output_type": "stream",
          "name": "stderr",
          "text": [
            "\r 25%|██▌       | 18/72 [00:01<00:05, 10.15it/s]"
          ]
        },
        {
          "output_type": "stream",
          "name": "stdout",
          "text": [
            "\tSubject Id: \t 9 \tShape:  (64877, 1)\n",
            "\tSubject Id: \t 10 \tShape:  (61641, 1)\n"
          ]
        },
        {
          "output_type": "stream",
          "name": "stderr",
          "text": [
            " 29%|██▉       | 21/72 [00:01<00:05,  9.19it/s]"
          ]
        },
        {
          "output_type": "stream",
          "name": "stdout",
          "text": [
            "\tSubject Id: \t 10 \tShape:  (61448, 1)\n",
            "\tSubject Id: \t 11 \tShape:  (74681, 1)\n"
          ]
        },
        {
          "output_type": "stream",
          "name": "stderr",
          "text": [
            " 32%|███▏      | 23/72 [00:02<00:05,  8.76it/s]"
          ]
        },
        {
          "output_type": "stream",
          "name": "stdout",
          "text": [
            "\tSubject Id: \t 11 \tShape:  (72645, 1)\n",
            "\tSubject Id: \t 12 \tShape:  (65920, 1)\n"
          ]
        },
        {
          "output_type": "stream",
          "name": "stderr",
          "text": [
            " 35%|███▍      | 25/72 [00:02<00:05,  8.44it/s]"
          ]
        },
        {
          "output_type": "stream",
          "name": "stdout",
          "text": [
            "\tSubject Id: \t 12 \tShape:  (62631, 1)\n",
            "\tSubject Id: \t 13 \tShape:  (75676, 1)\n"
          ]
        },
        {
          "output_type": "stream",
          "name": "stderr",
          "text": [
            " 38%|███▊      | 27/72 [00:02<00:05,  8.37it/s]"
          ]
        },
        {
          "output_type": "stream",
          "name": "stdout",
          "text": [
            "\tSubject Id: \t 13 \tShape:  (77564, 1)\n",
            "\tSubject Id: \t 14 \tShape:  (52821, 1)\n"
          ]
        },
        {
          "output_type": "stream",
          "name": "stderr",
          "text": [
            " 40%|████      | 29/72 [00:02<00:04,  8.81it/s]"
          ]
        },
        {
          "output_type": "stream",
          "name": "stdout",
          "text": [
            "\tSubject Id: \t 14 \tShape:  (48182, 1)\n",
            "\tSubject Id: \t 15 \tShape:  (53553, 1)\n"
          ]
        },
        {
          "output_type": "stream",
          "name": "stderr",
          "text": [
            " 43%|████▎     | 31/72 [00:03<00:04,  8.83it/s]"
          ]
        },
        {
          "output_type": "stream",
          "name": "stdout",
          "text": [
            "\tSubject Id: \t 15 \tShape:  (51843, 1)\n",
            "\tSubject Id: \t 16 \tShape:  (55489, 1)\n"
          ]
        },
        {
          "output_type": "stream",
          "name": "stderr",
          "text": [
            " 46%|████▌     | 33/72 [00:03<00:04,  8.34it/s]"
          ]
        },
        {
          "output_type": "stream",
          "name": "stdout",
          "text": [
            "\tSubject Id: \t 16 \tShape:  (50012, 1)\n",
            "\tSubject Id: \t 17 \tShape:  (65227, 1)\n"
          ]
        },
        {
          "output_type": "stream",
          "name": "stderr",
          "text": [
            " 49%|████▊     | 35/72 [00:03<00:04,  7.79it/s]"
          ]
        },
        {
          "output_type": "stream",
          "name": "stdout",
          "text": [
            "\tSubject Id: \t 17 \tShape:  (66858, 1)\n",
            "\tSubject Id: \t 18 \tShape:  (62354, 1)\n"
          ]
        },
        {
          "output_type": "stream",
          "name": "stderr",
          "text": [
            " 51%|█████▏    | 37/72 [00:03<00:04,  7.61it/s]"
          ]
        },
        {
          "output_type": "stream",
          "name": "stdout",
          "text": [
            "\tSubject Id: \t 18 \tShape:  (66958, 1)\n",
            "\tSubject Id: \t 19 \tShape:  (58818, 1)\n"
          ]
        },
        {
          "output_type": "stream",
          "name": "stderr",
          "text": [
            " 54%|█████▍    | 39/72 [00:04<00:04,  7.55it/s]"
          ]
        },
        {
          "output_type": "stream",
          "name": "stdout",
          "text": [
            "\tSubject Id: \t 19 \tShape:  (51088, 1)\n",
            "\tSubject Id: \t 20 \tShape:  (65349, 1)\n"
          ]
        },
        {
          "output_type": "stream",
          "name": "stderr",
          "text": [
            " 57%|█████▋    | 41/72 [00:04<00:04,  7.39it/s]"
          ]
        },
        {
          "output_type": "stream",
          "name": "stdout",
          "text": [
            "\tSubject Id: \t 20 \tShape:  (62504, 1)\n",
            "\tSubject Id: \t 21 \tShape:  (62365, 1)\n"
          ]
        },
        {
          "output_type": "stream",
          "name": "stderr",
          "text": [
            " 60%|█████▉    | 43/72 [00:04<00:03,  7.44it/s]"
          ]
        },
        {
          "output_type": "stream",
          "name": "stdout",
          "text": [
            "\tSubject Id: \t 21 \tShape:  (56882, 1)\n",
            "\tSubject Id: \t 22 \tShape:  (61788, 1)\n"
          ]
        },
        {
          "output_type": "stream",
          "name": "stderr",
          "text": [
            "\r 61%|██████    | 44/72 [00:04<00:03,  7.40it/s]"
          ]
        },
        {
          "output_type": "stream",
          "name": "stdout",
          "text": [
            "\tSubject Id: \t 22 \tShape:  (57841, 1)\n",
            "\tSubject Id: \t 23 \tShape:  (60135, 1)\n"
          ]
        },
        {
          "output_type": "stream",
          "name": "stderr",
          "text": [
            " 64%|██████▍   | 46/72 [00:05<00:03,  7.15it/s]"
          ]
        },
        {
          "output_type": "stream",
          "name": "stdout",
          "text": [
            "\tSubject Id: \t 23 \tShape:  (55484, 1)\n",
            "\tSubject Id: \t 24 \tShape:  (61968, 1)\n"
          ]
        },
        {
          "output_type": "stream",
          "name": "stderr",
          "text": [
            " 67%|██████▋   | 48/72 [00:05<00:03,  6.75it/s]"
          ]
        },
        {
          "output_type": "stream",
          "name": "stdout",
          "text": [
            "\tSubject Id: \t 24 \tShape:  (54972, 1)\n",
            "\tSubject Id: \t 25 \tShape:  (62681, 1)\n"
          ]
        },
        {
          "output_type": "stream",
          "name": "stderr",
          "text": [
            " 69%|██████▉   | 50/72 [00:05<00:03,  6.56it/s]"
          ]
        },
        {
          "output_type": "stream",
          "name": "stdout",
          "text": [
            "\tSubject Id: \t 25 \tShape:  (54066, 1)\n",
            "\tSubject Id: \t 26 \tShape:  (56151, 1)\n"
          ]
        },
        {
          "output_type": "stream",
          "name": "stderr",
          "text": [
            " 72%|███████▏  | 52/72 [00:06<00:03,  6.21it/s]"
          ]
        },
        {
          "output_type": "stream",
          "name": "stdout",
          "text": [
            "\tSubject Id: \t 26 \tShape:  (50003, 1)\n",
            "\tSubject Id: \t 27 \tShape:  (56688, 1)\n"
          ]
        },
        {
          "output_type": "stream",
          "name": "stderr",
          "text": [
            " 75%|███████▌  | 54/72 [00:06<00:03,  5.86it/s]"
          ]
        },
        {
          "output_type": "stream",
          "name": "stdout",
          "text": [
            "\tSubject Id: \t 27 \tShape:  (50111, 1)\n",
            "\tSubject Id: \t 28 \tShape:  (50513, 1)\n"
          ]
        },
        {
          "output_type": "stream",
          "name": "stderr",
          "text": [
            " 78%|███████▊  | 56/72 [00:06<00:02,  6.04it/s]"
          ]
        },
        {
          "output_type": "stream",
          "name": "stdout",
          "text": [
            "\tSubject Id: \t 28 \tShape:  (47253, 1)\n",
            "\tSubject Id: \t 29 \tShape:  (53904, 1)\n"
          ]
        },
        {
          "output_type": "stream",
          "name": "stderr",
          "text": [
            " 81%|████████  | 58/72 [00:07<00:02,  5.89it/s]"
          ]
        },
        {
          "output_type": "stream",
          "name": "stdout",
          "text": [
            "\tSubject Id: \t 29 \tShape:  (52083, 1)\n"
          ]
        },
        {
          "output_type": "stream",
          "name": "stderr",
          "text": [
            "\r 82%|████████▏ | 59/72 [00:07<00:02,  5.60it/s]"
          ]
        },
        {
          "output_type": "stream",
          "name": "stdout",
          "text": [
            "\tSubject Id: \t 30 \tShape:  (77878, 1)\n",
            "\tSubject Id: \t 30 \tShape:  (70683, 1)\n"
          ]
        },
        {
          "output_type": "stream",
          "name": "stderr",
          "text": [
            " 85%|████████▍ | 61/72 [00:07<00:02,  5.38it/s]"
          ]
        },
        {
          "output_type": "stream",
          "name": "stdout",
          "text": [
            "\tSubject Id: \t 31 \tShape:  (44927, 1)\n",
            "\tSubject Id: \t 31 \tShape:  (46096, 1)\n"
          ]
        },
        {
          "output_type": "stream",
          "name": "stderr",
          "text": [
            " 88%|████████▊ | 63/72 [00:08<00:01,  5.33it/s]"
          ]
        },
        {
          "output_type": "stream",
          "name": "stdout",
          "text": [
            "\tSubject Id: \t 32 \tShape:  (62719, 1)\n"
          ]
        },
        {
          "output_type": "stream",
          "name": "stderr",
          "text": [
            "\r 89%|████████▉ | 64/72 [00:08<00:01,  5.24it/s]"
          ]
        },
        {
          "output_type": "stream",
          "name": "stdout",
          "text": [
            "\tSubject Id: \t 32 \tShape:  (60211, 1)\n",
            "\tSubject Id: \t 33 \tShape:  (59017, 1)\n"
          ]
        },
        {
          "output_type": "stream",
          "name": "stderr",
          "text": [
            " 92%|█████████▏| 66/72 [00:08<00:01,  5.11it/s]"
          ]
        },
        {
          "output_type": "stream",
          "name": "stdout",
          "text": [
            "\tSubject Id: \t 33 \tShape:  (53088, 1)\n"
          ]
        },
        {
          "output_type": "stream",
          "name": "stderr",
          "text": [
            "\r 93%|█████████▎| 67/72 [00:08<00:01,  4.63it/s]"
          ]
        },
        {
          "output_type": "stream",
          "name": "stdout",
          "text": [
            "\tSubject Id: \t 34 \tShape:  (79765, 1)\n"
          ]
        },
        {
          "output_type": "stream",
          "name": "stderr",
          "text": [
            "\r 94%|█████████▍| 68/72 [00:09<00:00,  4.55it/s]"
          ]
        },
        {
          "output_type": "stream",
          "name": "stdout",
          "text": [
            "\tSubject Id: \t 34 \tShape:  (51438, 1)\n"
          ]
        },
        {
          "output_type": "stream",
          "name": "stderr",
          "text": [
            "\r 96%|█████████▌| 69/72 [00:09<00:00,  4.48it/s]"
          ]
        },
        {
          "output_type": "stream",
          "name": "stdout",
          "text": [
            "\tSubject Id: \t 35 \tShape:  (50417, 1)\n"
          ]
        },
        {
          "output_type": "stream",
          "name": "stderr",
          "text": [
            "\r 97%|█████████▋| 70/72 [00:09<00:00,  4.39it/s]"
          ]
        },
        {
          "output_type": "stream",
          "name": "stdout",
          "text": [
            "\tSubject Id: \t 35 \tShape:  (49084, 1)\n"
          ]
        },
        {
          "output_type": "stream",
          "name": "stderr",
          "text": [
            "\r 99%|█████████▊| 71/72 [00:09<00:00,  4.41it/s]"
          ]
        },
        {
          "output_type": "stream",
          "name": "stdout",
          "text": [
            "\tSubject Id: \t 36 \tShape:  (52390, 1)\n"
          ]
        },
        {
          "output_type": "stream",
          "name": "stderr",
          "text": [
            "100%|██████████| 72/72 [00:10<00:00,  7.08it/s]"
          ]
        },
        {
          "output_type": "stream",
          "name": "stdout",
          "text": [
            "\tSubject Id: \t 36 \tShape:  (49364, 1)\n",
            "Total Records:  (4237908, 11)\n"
          ]
        },
        {
          "output_type": "stream",
          "name": "stderr",
          "text": [
            "\n"
          ]
        }
      ]
    },
    {
      "cell_type": "code",
      "source": [
        "all_data.head()"
      ],
      "metadata": {
        "colab": {
          "base_uri": "https://localhost:8080/",
          "height": 206
        },
        "id": "2SW-c25PRJM1",
        "outputId": "6bd546fc-84bb-49d2-eafd-de3bdb9414fd"
      },
      "execution_count": 25,
      "outputs": [
        {
          "output_type": "execute_result",
          "data": {
            "text/plain": [
              "   time  channel1  channel2  channel3  channel4  channel5  channel6  channel7  \\\n",
              "0     1   0.00001  -0.00002  -0.00001  -0.00003   0.00000  -0.00001   0.00000   \n",
              "1     5   0.00001  -0.00002  -0.00001  -0.00003   0.00000  -0.00001   0.00000   \n",
              "2     6  -0.00001   0.00001   0.00002   0.00000   0.00001  -0.00002  -0.00001   \n",
              "3     7  -0.00001   0.00001   0.00002   0.00000   0.00001  -0.00002  -0.00001   \n",
              "4     8  -0.00001   0.00001   0.00002   0.00000   0.00001  -0.00002  -0.00001   \n",
              "\n",
              "   channel8  class  subject_id  \n",
              "0  -0.00001    0.0           1  \n",
              "1  -0.00001    0.0           1  \n",
              "2   0.00001    0.0           1  \n",
              "3   0.00001    0.0           1  \n",
              "4   0.00001    0.0           1  "
            ],
            "text/html": [
              "\n",
              "  <div id=\"df-d88de4bb-f782-4e1b-af88-cb2b3dfc5dbb\">\n",
              "    <div class=\"colab-df-container\">\n",
              "      <div>\n",
              "<style scoped>\n",
              "    .dataframe tbody tr th:only-of-type {\n",
              "        vertical-align: middle;\n",
              "    }\n",
              "\n",
              "    .dataframe tbody tr th {\n",
              "        vertical-align: top;\n",
              "    }\n",
              "\n",
              "    .dataframe thead th {\n",
              "        text-align: right;\n",
              "    }\n",
              "</style>\n",
              "<table border=\"1\" class=\"dataframe\">\n",
              "  <thead>\n",
              "    <tr style=\"text-align: right;\">\n",
              "      <th></th>\n",
              "      <th>time</th>\n",
              "      <th>channel1</th>\n",
              "      <th>channel2</th>\n",
              "      <th>channel3</th>\n",
              "      <th>channel4</th>\n",
              "      <th>channel5</th>\n",
              "      <th>channel6</th>\n",
              "      <th>channel7</th>\n",
              "      <th>channel8</th>\n",
              "      <th>class</th>\n",
              "      <th>subject_id</th>\n",
              "    </tr>\n",
              "  </thead>\n",
              "  <tbody>\n",
              "    <tr>\n",
              "      <th>0</th>\n",
              "      <td>1</td>\n",
              "      <td>0.00001</td>\n",
              "      <td>-0.00002</td>\n",
              "      <td>-0.00001</td>\n",
              "      <td>-0.00003</td>\n",
              "      <td>0.00000</td>\n",
              "      <td>-0.00001</td>\n",
              "      <td>0.00000</td>\n",
              "      <td>-0.00001</td>\n",
              "      <td>0.0</td>\n",
              "      <td>1</td>\n",
              "    </tr>\n",
              "    <tr>\n",
              "      <th>1</th>\n",
              "      <td>5</td>\n",
              "      <td>0.00001</td>\n",
              "      <td>-0.00002</td>\n",
              "      <td>-0.00001</td>\n",
              "      <td>-0.00003</td>\n",
              "      <td>0.00000</td>\n",
              "      <td>-0.00001</td>\n",
              "      <td>0.00000</td>\n",
              "      <td>-0.00001</td>\n",
              "      <td>0.0</td>\n",
              "      <td>1</td>\n",
              "    </tr>\n",
              "    <tr>\n",
              "      <th>2</th>\n",
              "      <td>6</td>\n",
              "      <td>-0.00001</td>\n",
              "      <td>0.00001</td>\n",
              "      <td>0.00002</td>\n",
              "      <td>0.00000</td>\n",
              "      <td>0.00001</td>\n",
              "      <td>-0.00002</td>\n",
              "      <td>-0.00001</td>\n",
              "      <td>0.00001</td>\n",
              "      <td>0.0</td>\n",
              "      <td>1</td>\n",
              "    </tr>\n",
              "    <tr>\n",
              "      <th>3</th>\n",
              "      <td>7</td>\n",
              "      <td>-0.00001</td>\n",
              "      <td>0.00001</td>\n",
              "      <td>0.00002</td>\n",
              "      <td>0.00000</td>\n",
              "      <td>0.00001</td>\n",
              "      <td>-0.00002</td>\n",
              "      <td>-0.00001</td>\n",
              "      <td>0.00001</td>\n",
              "      <td>0.0</td>\n",
              "      <td>1</td>\n",
              "    </tr>\n",
              "    <tr>\n",
              "      <th>4</th>\n",
              "      <td>8</td>\n",
              "      <td>-0.00001</td>\n",
              "      <td>0.00001</td>\n",
              "      <td>0.00002</td>\n",
              "      <td>0.00000</td>\n",
              "      <td>0.00001</td>\n",
              "      <td>-0.00002</td>\n",
              "      <td>-0.00001</td>\n",
              "      <td>0.00001</td>\n",
              "      <td>0.0</td>\n",
              "      <td>1</td>\n",
              "    </tr>\n",
              "  </tbody>\n",
              "</table>\n",
              "</div>\n",
              "      <button class=\"colab-df-convert\" onclick=\"convertToInteractive('df-d88de4bb-f782-4e1b-af88-cb2b3dfc5dbb')\"\n",
              "              title=\"Convert this dataframe to an interactive table.\"\n",
              "              style=\"display:none;\">\n",
              "        \n",
              "  <svg xmlns=\"http://www.w3.org/2000/svg\" height=\"24px\"viewBox=\"0 0 24 24\"\n",
              "       width=\"24px\">\n",
              "    <path d=\"M0 0h24v24H0V0z\" fill=\"none\"/>\n",
              "    <path d=\"M18.56 5.44l.94 2.06.94-2.06 2.06-.94-2.06-.94-.94-2.06-.94 2.06-2.06.94zm-11 1L8.5 8.5l.94-2.06 2.06-.94-2.06-.94L8.5 2.5l-.94 2.06-2.06.94zm10 10l.94 2.06.94-2.06 2.06-.94-2.06-.94-.94-2.06-.94 2.06-2.06.94z\"/><path d=\"M17.41 7.96l-1.37-1.37c-.4-.4-.92-.59-1.43-.59-.52 0-1.04.2-1.43.59L10.3 9.45l-7.72 7.72c-.78.78-.78 2.05 0 2.83L4 21.41c.39.39.9.59 1.41.59.51 0 1.02-.2 1.41-.59l7.78-7.78 2.81-2.81c.8-.78.8-2.07 0-2.86zM5.41 20L4 18.59l7.72-7.72 1.47 1.35L5.41 20z\"/>\n",
              "  </svg>\n",
              "      </button>\n",
              "      \n",
              "  <style>\n",
              "    .colab-df-container {\n",
              "      display:flex;\n",
              "      flex-wrap:wrap;\n",
              "      gap: 12px;\n",
              "    }\n",
              "\n",
              "    .colab-df-convert {\n",
              "      background-color: #E8F0FE;\n",
              "      border: none;\n",
              "      border-radius: 50%;\n",
              "      cursor: pointer;\n",
              "      display: none;\n",
              "      fill: #1967D2;\n",
              "      height: 32px;\n",
              "      padding: 0 0 0 0;\n",
              "      width: 32px;\n",
              "    }\n",
              "\n",
              "    .colab-df-convert:hover {\n",
              "      background-color: #E2EBFA;\n",
              "      box-shadow: 0px 1px 2px rgba(60, 64, 67, 0.3), 0px 1px 3px 1px rgba(60, 64, 67, 0.15);\n",
              "      fill: #174EA6;\n",
              "    }\n",
              "\n",
              "    [theme=dark] .colab-df-convert {\n",
              "      background-color: #3B4455;\n",
              "      fill: #D2E3FC;\n",
              "    }\n",
              "\n",
              "    [theme=dark] .colab-df-convert:hover {\n",
              "      background-color: #434B5C;\n",
              "      box-shadow: 0px 1px 3px 1px rgba(0, 0, 0, 0.15);\n",
              "      filter: drop-shadow(0px 1px 2px rgba(0, 0, 0, 0.3));\n",
              "      fill: #FFFFFF;\n",
              "    }\n",
              "  </style>\n",
              "\n",
              "      <script>\n",
              "        const buttonEl =\n",
              "          document.querySelector('#df-d88de4bb-f782-4e1b-af88-cb2b3dfc5dbb button.colab-df-convert');\n",
              "        buttonEl.style.display =\n",
              "          google.colab.kernel.accessAllowed ? 'block' : 'none';\n",
              "\n",
              "        async function convertToInteractive(key) {\n",
              "          const element = document.querySelector('#df-d88de4bb-f782-4e1b-af88-cb2b3dfc5dbb');\n",
              "          const dataTable =\n",
              "            await google.colab.kernel.invokeFunction('convertToInteractive',\n",
              "                                                     [key], {});\n",
              "          if (!dataTable) return;\n",
              "\n",
              "          const docLinkHtml = 'Like what you see? Visit the ' +\n",
              "            '<a target=\"_blank\" href=https://colab.research.google.com/notebooks/data_table.ipynb>data table notebook</a>'\n",
              "            + ' to learn more about interactive tables.';\n",
              "          element.innerHTML = '';\n",
              "          dataTable['output_type'] = 'display_data';\n",
              "          await google.colab.output.renderOutput(dataTable, element);\n",
              "          const docLink = document.createElement('div');\n",
              "          docLink.innerHTML = docLinkHtml;\n",
              "          element.appendChild(docLink);\n",
              "        }\n",
              "      </script>\n",
              "    </div>\n",
              "  </div>\n",
              "  "
            ]
          },
          "metadata": {},
          "execution_count": 25
        }
      ]
    },
    {
      "cell_type": "code",
      "source": [
        "# Check for missing values\n",
        "print(all_data.isnull().sum())"
      ],
      "metadata": {
        "colab": {
          "base_uri": "https://localhost:8080/"
        },
        "id": "6Vs5Ede0VQnL",
        "outputId": "4fd2d0b2-0f22-4b34-8fc6-7ea11583243a"
      },
      "execution_count": 26,
      "outputs": [
        {
          "output_type": "stream",
          "name": "stdout",
          "text": [
            "time          0\n",
            "channel1      0\n",
            "channel2      0\n",
            "channel3      0\n",
            "channel4      0\n",
            "channel5      0\n",
            "channel6      0\n",
            "channel7      0\n",
            "channel8      0\n",
            "class         1\n",
            "subject_id    0\n",
            "dtype: int64\n"
          ]
        }
      ]
    },
    {
      "cell_type": "code",
      "source": [
        "# Fill missing value with 0\n",
        "all_data = all_data.fillna(0)"
      ],
      "metadata": {
        "id": "samjTVoO8PQJ"
      },
      "execution_count": 29,
      "outputs": []
    },
    {
      "cell_type": "code",
      "source": [
        "# Check for missing values\n",
        "print(all_data.isnull().sum())"
      ],
      "metadata": {
        "colab": {
          "base_uri": "https://localhost:8080/"
        },
        "id": "L09UeF90zYvy",
        "outputId": "bee12fa2-864f-4d3a-c8db-d8383fa73a33"
      },
      "execution_count": 30,
      "outputs": [
        {
          "output_type": "stream",
          "name": "stdout",
          "text": [
            "time          0\n",
            "channel1      0\n",
            "channel2      0\n",
            "channel3      0\n",
            "channel4      0\n",
            "channel5      0\n",
            "channel6      0\n",
            "channel7      0\n",
            "channel8      0\n",
            "class         0\n",
            "subject_id    0\n",
            "dtype: int64\n"
          ]
        }
      ]
    },
    {
      "cell_type": "code",
      "source": [
        "# Check for outliers\n",
        "print(data.describe())"
      ],
      "metadata": {
        "colab": {
          "base_uri": "https://localhost:8080/"
        },
        "id": "0jvaJl3GaQu5",
        "outputId": "bc5e9c1f-783d-4542-934b-da43e82097fc"
      },
      "execution_count": 31,
      "outputs": [
        {
          "output_type": "stream",
          "name": "stdout",
          "text": [
            "               time      channel1      channel2      channel3      channel4  \\\n",
            "count  49364.000000  49364.000000  49364.000000  49364.000000  49364.000000   \n",
            "mean   25498.984847     -0.000008     -0.000010     -0.000009     -0.000006   \n",
            "std    14697.197774      0.000156      0.000068      0.000070      0.000133   \n",
            "min        1.000000     -0.001280     -0.000590     -0.000530     -0.001080   \n",
            "25%    12773.750000     -0.000030     -0.000030     -0.000040     -0.000050   \n",
            "50%    25514.500000     -0.000010     -0.000010     -0.000010     -0.000010   \n",
            "75%    38218.250000      0.000010      0.000010      0.000020      0.000030   \n",
            "max    50966.000000      0.001190      0.000430      0.000480      0.000870   \n",
            "\n",
            "           channel5      channel6      channel7      channel8         class  \\\n",
            "count  49364.000000  49364.000000  49364.000000  49364.000000  49364.000000   \n",
            "mean      -0.000013     -0.000008     -0.000008     -0.000008      1.260109   \n",
            "std        0.000210      0.000100      0.000088      0.000093      1.976516   \n",
            "min       -0.001280     -0.000750     -0.000960     -0.000940      0.000000   \n",
            "25%       -0.000070     -0.000050     -0.000030     -0.000030      0.000000   \n",
            "50%       -0.000010     -0.000010     -0.000010     -0.000010      0.000000   \n",
            "75%        0.000040      0.000020      0.000010      0.000010      2.000000   \n",
            "max        0.001270      0.000900      0.000760      0.000630      6.000000   \n",
            "\n",
            "       subject_id  \n",
            "count     49364.0  \n",
            "mean         36.0  \n",
            "std           0.0  \n",
            "min          36.0  \n",
            "25%          36.0  \n",
            "50%          36.0  \n",
            "75%          36.0  \n",
            "max          36.0  \n"
          ]
        }
      ]
    },
    {
      "cell_type": "code",
      "source": [
        "all_data.info()"
      ],
      "metadata": {
        "colab": {
          "base_uri": "https://localhost:8080/"
        },
        "id": "V76mIQLh8i02",
        "outputId": "f3c7a44d-cfa7-47cc-e82a-12c0d50aa02a"
      },
      "execution_count": 32,
      "outputs": [
        {
          "output_type": "stream",
          "name": "stdout",
          "text": [
            "<class 'pandas.core.frame.DataFrame'>\n",
            "RangeIndex: 4237908 entries, 0 to 4237907\n",
            "Data columns (total 11 columns):\n",
            " #   Column      Dtype  \n",
            "---  ------      -----  \n",
            " 0   time        int64  \n",
            " 1   channel1    float64\n",
            " 2   channel2    float64\n",
            " 3   channel3    float64\n",
            " 4   channel4    float64\n",
            " 5   channel5    float64\n",
            " 6   channel6    float64\n",
            " 7   channel7    float64\n",
            " 8   channel8    float64\n",
            " 9   class       float64\n",
            " 10  subject_id  int16  \n",
            "dtypes: float64(9), int16(1), int64(1)\n",
            "memory usage: 331.4 MB\n"
          ]
        }
      ]
    },
    {
      "cell_type": "markdown",
      "source": [
        "## Data Description\n",
        "The data has the target variable `class` which can have values from 1 to 7, whereas, the data `class = 0` is unmarked data, which we have to classify to the learned gestures.\n",
        "\n",
        "Here are the following gesture descriptions:\n",
        "0. unmarked data,\n",
        "1. hand at rest, \n",
        "2. hand clenched in a fist, \n",
        "3. wrist flexion,\n",
        "4. wrist extension,\n",
        "5. radial deviations,\n",
        "6. ulnar deviations,\n",
        "7. extended palm (the gesture was not performed by all subjects).\n",
        "\n",
        "The data contains gesture class marked as 0 as an unsupervised classification problem. So, we shall be using the labeled data for our analysis.\n",
        "So we can split the data into training and testing sets based on this `class` column, where all data for class = 0 will be our holdout data, and the labeled data will be for classes = 1,2,3,4,5,6, and 7.\n",
        "\n"
      ],
      "metadata": {
        "id": "AuSTjn1JG9mQ"
      }
    },
    {
      "cell_type": "markdown",
      "source": [
        "### Holdout Data"
      ],
      "metadata": {
        "id": "8RVyVYOC3pTo"
      }
    },
    {
      "cell_type": "code",
      "source": [
        "holdout_data = all_data.loc[all_data['class'] == 0]\n",
        "holdout_data = holdout_data.reset_index(drop=True)"
      ],
      "metadata": {
        "id": "cK6jCmApD6Il"
      },
      "execution_count": 33,
      "outputs": []
    },
    {
      "cell_type": "code",
      "source": [
        "holdout_data"
      ],
      "metadata": {
        "colab": {
          "base_uri": "https://localhost:8080/",
          "height": 424
        },
        "id": "1ktTPov2EJbr",
        "outputId": "9553a148-4164-4b27-8beb-9c21b4213337"
      },
      "execution_count": 34,
      "outputs": [
        {
          "output_type": "execute_result",
          "data": {
            "text/plain": [
              "          time  channel1  channel2  channel3  channel4  channel5  channel6  \\\n",
              "0            1   0.00001  -0.00002  -0.00001  -0.00003   0.00000  -0.00001   \n",
              "1            5   0.00001  -0.00002  -0.00001  -0.00003   0.00000  -0.00001   \n",
              "2            6  -0.00001   0.00001   0.00002   0.00000   0.00001  -0.00002   \n",
              "3            7  -0.00001   0.00001   0.00002   0.00000   0.00001  -0.00002   \n",
              "4            8  -0.00001   0.00001   0.00002   0.00000   0.00001  -0.00002   \n",
              "...        ...       ...       ...       ...       ...       ...       ...   \n",
              "2725153  50962   0.00001  -0.00001  -0.00002  -0.00004  -0.00012   0.00000   \n",
              "2725154  50963   0.00001  -0.00001  -0.00002  -0.00004  -0.00012   0.00000   \n",
              "2725155  50964   0.00001  -0.00001  -0.00002  -0.00004  -0.00012   0.00000   \n",
              "2725156  50965   0.00001  -0.00001  -0.00002  -0.00004  -0.00012   0.00000   \n",
              "2725157  50966   0.00001  -0.00001  -0.00002  -0.00004  -0.00012   0.00000   \n",
              "\n",
              "         channel7  channel8  class  subject_id  \n",
              "0         0.00000  -0.00001    0.0           1  \n",
              "1         0.00000  -0.00001    0.0           1  \n",
              "2        -0.00001   0.00001    0.0           1  \n",
              "3        -0.00001   0.00001    0.0           1  \n",
              "4        -0.00001   0.00001    0.0           1  \n",
              "...           ...       ...    ...         ...  \n",
              "2725153   0.00002   0.00002    0.0          36  \n",
              "2725154   0.00002   0.00002    0.0          36  \n",
              "2725155   0.00002   0.00002    0.0          36  \n",
              "2725156   0.00002   0.00002    0.0          36  \n",
              "2725157   0.00002   0.00002    0.0          36  \n",
              "\n",
              "[2725158 rows x 11 columns]"
            ],
            "text/html": [
              "\n",
              "  <div id=\"df-bd38ba1e-5671-4b4c-80f1-50da0041d488\">\n",
              "    <div class=\"colab-df-container\">\n",
              "      <div>\n",
              "<style scoped>\n",
              "    .dataframe tbody tr th:only-of-type {\n",
              "        vertical-align: middle;\n",
              "    }\n",
              "\n",
              "    .dataframe tbody tr th {\n",
              "        vertical-align: top;\n",
              "    }\n",
              "\n",
              "    .dataframe thead th {\n",
              "        text-align: right;\n",
              "    }\n",
              "</style>\n",
              "<table border=\"1\" class=\"dataframe\">\n",
              "  <thead>\n",
              "    <tr style=\"text-align: right;\">\n",
              "      <th></th>\n",
              "      <th>time</th>\n",
              "      <th>channel1</th>\n",
              "      <th>channel2</th>\n",
              "      <th>channel3</th>\n",
              "      <th>channel4</th>\n",
              "      <th>channel5</th>\n",
              "      <th>channel6</th>\n",
              "      <th>channel7</th>\n",
              "      <th>channel8</th>\n",
              "      <th>class</th>\n",
              "      <th>subject_id</th>\n",
              "    </tr>\n",
              "  </thead>\n",
              "  <tbody>\n",
              "    <tr>\n",
              "      <th>0</th>\n",
              "      <td>1</td>\n",
              "      <td>0.00001</td>\n",
              "      <td>-0.00002</td>\n",
              "      <td>-0.00001</td>\n",
              "      <td>-0.00003</td>\n",
              "      <td>0.00000</td>\n",
              "      <td>-0.00001</td>\n",
              "      <td>0.00000</td>\n",
              "      <td>-0.00001</td>\n",
              "      <td>0.0</td>\n",
              "      <td>1</td>\n",
              "    </tr>\n",
              "    <tr>\n",
              "      <th>1</th>\n",
              "      <td>5</td>\n",
              "      <td>0.00001</td>\n",
              "      <td>-0.00002</td>\n",
              "      <td>-0.00001</td>\n",
              "      <td>-0.00003</td>\n",
              "      <td>0.00000</td>\n",
              "      <td>-0.00001</td>\n",
              "      <td>0.00000</td>\n",
              "      <td>-0.00001</td>\n",
              "      <td>0.0</td>\n",
              "      <td>1</td>\n",
              "    </tr>\n",
              "    <tr>\n",
              "      <th>2</th>\n",
              "      <td>6</td>\n",
              "      <td>-0.00001</td>\n",
              "      <td>0.00001</td>\n",
              "      <td>0.00002</td>\n",
              "      <td>0.00000</td>\n",
              "      <td>0.00001</td>\n",
              "      <td>-0.00002</td>\n",
              "      <td>-0.00001</td>\n",
              "      <td>0.00001</td>\n",
              "      <td>0.0</td>\n",
              "      <td>1</td>\n",
              "    </tr>\n",
              "    <tr>\n",
              "      <th>3</th>\n",
              "      <td>7</td>\n",
              "      <td>-0.00001</td>\n",
              "      <td>0.00001</td>\n",
              "      <td>0.00002</td>\n",
              "      <td>0.00000</td>\n",
              "      <td>0.00001</td>\n",
              "      <td>-0.00002</td>\n",
              "      <td>-0.00001</td>\n",
              "      <td>0.00001</td>\n",
              "      <td>0.0</td>\n",
              "      <td>1</td>\n",
              "    </tr>\n",
              "    <tr>\n",
              "      <th>4</th>\n",
              "      <td>8</td>\n",
              "      <td>-0.00001</td>\n",
              "      <td>0.00001</td>\n",
              "      <td>0.00002</td>\n",
              "      <td>0.00000</td>\n",
              "      <td>0.00001</td>\n",
              "      <td>-0.00002</td>\n",
              "      <td>-0.00001</td>\n",
              "      <td>0.00001</td>\n",
              "      <td>0.0</td>\n",
              "      <td>1</td>\n",
              "    </tr>\n",
              "    <tr>\n",
              "      <th>...</th>\n",
              "      <td>...</td>\n",
              "      <td>...</td>\n",
              "      <td>...</td>\n",
              "      <td>...</td>\n",
              "      <td>...</td>\n",
              "      <td>...</td>\n",
              "      <td>...</td>\n",
              "      <td>...</td>\n",
              "      <td>...</td>\n",
              "      <td>...</td>\n",
              "      <td>...</td>\n",
              "    </tr>\n",
              "    <tr>\n",
              "      <th>2725153</th>\n",
              "      <td>50962</td>\n",
              "      <td>0.00001</td>\n",
              "      <td>-0.00001</td>\n",
              "      <td>-0.00002</td>\n",
              "      <td>-0.00004</td>\n",
              "      <td>-0.00012</td>\n",
              "      <td>0.00000</td>\n",
              "      <td>0.00002</td>\n",
              "      <td>0.00002</td>\n",
              "      <td>0.0</td>\n",
              "      <td>36</td>\n",
              "    </tr>\n",
              "    <tr>\n",
              "      <th>2725154</th>\n",
              "      <td>50963</td>\n",
              "      <td>0.00001</td>\n",
              "      <td>-0.00001</td>\n",
              "      <td>-0.00002</td>\n",
              "      <td>-0.00004</td>\n",
              "      <td>-0.00012</td>\n",
              "      <td>0.00000</td>\n",
              "      <td>0.00002</td>\n",
              "      <td>0.00002</td>\n",
              "      <td>0.0</td>\n",
              "      <td>36</td>\n",
              "    </tr>\n",
              "    <tr>\n",
              "      <th>2725155</th>\n",
              "      <td>50964</td>\n",
              "      <td>0.00001</td>\n",
              "      <td>-0.00001</td>\n",
              "      <td>-0.00002</td>\n",
              "      <td>-0.00004</td>\n",
              "      <td>-0.00012</td>\n",
              "      <td>0.00000</td>\n",
              "      <td>0.00002</td>\n",
              "      <td>0.00002</td>\n",
              "      <td>0.0</td>\n",
              "      <td>36</td>\n",
              "    </tr>\n",
              "    <tr>\n",
              "      <th>2725156</th>\n",
              "      <td>50965</td>\n",
              "      <td>0.00001</td>\n",
              "      <td>-0.00001</td>\n",
              "      <td>-0.00002</td>\n",
              "      <td>-0.00004</td>\n",
              "      <td>-0.00012</td>\n",
              "      <td>0.00000</td>\n",
              "      <td>0.00002</td>\n",
              "      <td>0.00002</td>\n",
              "      <td>0.0</td>\n",
              "      <td>36</td>\n",
              "    </tr>\n",
              "    <tr>\n",
              "      <th>2725157</th>\n",
              "      <td>50966</td>\n",
              "      <td>0.00001</td>\n",
              "      <td>-0.00001</td>\n",
              "      <td>-0.00002</td>\n",
              "      <td>-0.00004</td>\n",
              "      <td>-0.00012</td>\n",
              "      <td>0.00000</td>\n",
              "      <td>0.00002</td>\n",
              "      <td>0.00002</td>\n",
              "      <td>0.0</td>\n",
              "      <td>36</td>\n",
              "    </tr>\n",
              "  </tbody>\n",
              "</table>\n",
              "<p>2725158 rows × 11 columns</p>\n",
              "</div>\n",
              "      <button class=\"colab-df-convert\" onclick=\"convertToInteractive('df-bd38ba1e-5671-4b4c-80f1-50da0041d488')\"\n",
              "              title=\"Convert this dataframe to an interactive table.\"\n",
              "              style=\"display:none;\">\n",
              "        \n",
              "  <svg xmlns=\"http://www.w3.org/2000/svg\" height=\"24px\"viewBox=\"0 0 24 24\"\n",
              "       width=\"24px\">\n",
              "    <path d=\"M0 0h24v24H0V0z\" fill=\"none\"/>\n",
              "    <path d=\"M18.56 5.44l.94 2.06.94-2.06 2.06-.94-2.06-.94-.94-2.06-.94 2.06-2.06.94zm-11 1L8.5 8.5l.94-2.06 2.06-.94-2.06-.94L8.5 2.5l-.94 2.06-2.06.94zm10 10l.94 2.06.94-2.06 2.06-.94-2.06-.94-.94-2.06-.94 2.06-2.06.94z\"/><path d=\"M17.41 7.96l-1.37-1.37c-.4-.4-.92-.59-1.43-.59-.52 0-1.04.2-1.43.59L10.3 9.45l-7.72 7.72c-.78.78-.78 2.05 0 2.83L4 21.41c.39.39.9.59 1.41.59.51 0 1.02-.2 1.41-.59l7.78-7.78 2.81-2.81c.8-.78.8-2.07 0-2.86zM5.41 20L4 18.59l7.72-7.72 1.47 1.35L5.41 20z\"/>\n",
              "  </svg>\n",
              "      </button>\n",
              "      \n",
              "  <style>\n",
              "    .colab-df-container {\n",
              "      display:flex;\n",
              "      flex-wrap:wrap;\n",
              "      gap: 12px;\n",
              "    }\n",
              "\n",
              "    .colab-df-convert {\n",
              "      background-color: #E8F0FE;\n",
              "      border: none;\n",
              "      border-radius: 50%;\n",
              "      cursor: pointer;\n",
              "      display: none;\n",
              "      fill: #1967D2;\n",
              "      height: 32px;\n",
              "      padding: 0 0 0 0;\n",
              "      width: 32px;\n",
              "    }\n",
              "\n",
              "    .colab-df-convert:hover {\n",
              "      background-color: #E2EBFA;\n",
              "      box-shadow: 0px 1px 2px rgba(60, 64, 67, 0.3), 0px 1px 3px 1px rgba(60, 64, 67, 0.15);\n",
              "      fill: #174EA6;\n",
              "    }\n",
              "\n",
              "    [theme=dark] .colab-df-convert {\n",
              "      background-color: #3B4455;\n",
              "      fill: #D2E3FC;\n",
              "    }\n",
              "\n",
              "    [theme=dark] .colab-df-convert:hover {\n",
              "      background-color: #434B5C;\n",
              "      box-shadow: 0px 1px 3px 1px rgba(0, 0, 0, 0.15);\n",
              "      filter: drop-shadow(0px 1px 2px rgba(0, 0, 0, 0.3));\n",
              "      fill: #FFFFFF;\n",
              "    }\n",
              "  </style>\n",
              "\n",
              "      <script>\n",
              "        const buttonEl =\n",
              "          document.querySelector('#df-bd38ba1e-5671-4b4c-80f1-50da0041d488 button.colab-df-convert');\n",
              "        buttonEl.style.display =\n",
              "          google.colab.kernel.accessAllowed ? 'block' : 'none';\n",
              "\n",
              "        async function convertToInteractive(key) {\n",
              "          const element = document.querySelector('#df-bd38ba1e-5671-4b4c-80f1-50da0041d488');\n",
              "          const dataTable =\n",
              "            await google.colab.kernel.invokeFunction('convertToInteractive',\n",
              "                                                     [key], {});\n",
              "          if (!dataTable) return;\n",
              "\n",
              "          const docLinkHtml = 'Like what you see? Visit the ' +\n",
              "            '<a target=\"_blank\" href=https://colab.research.google.com/notebooks/data_table.ipynb>data table notebook</a>'\n",
              "            + ' to learn more about interactive tables.';\n",
              "          element.innerHTML = '';\n",
              "          dataTable['output_type'] = 'display_data';\n",
              "          await google.colab.output.renderOutput(dataTable, element);\n",
              "          const docLink = document.createElement('div');\n",
              "          docLink.innerHTML = docLinkHtml;\n",
              "          element.appendChild(docLink);\n",
              "        }\n",
              "      </script>\n",
              "    </div>\n",
              "  </div>\n",
              "  "
            ]
          },
          "metadata": {},
          "execution_count": 34
        }
      ]
    },
    {
      "cell_type": "code",
      "source": [
        "# Plot Holdout data\n",
        "plt.figure(figsize=(25,8))\n",
        "plt.plot(holdout_data[holdout_data['class'] == 0].iloc[:, 1:8].mean(axis=1))\n",
        "\n",
        "# Add a legend and set the title and axis labels\n",
        "plt.title('Holdout Data')\n",
        "plt.xlabel('Time (ms)')\n",
        "plt.ylabel('EMG Signal')\n",
        "# Show the plot\n",
        "plt.show()"
      ],
      "metadata": {
        "colab": {
          "base_uri": "https://localhost:8080/",
          "height": 390
        },
        "id": "JCj5_R6ndnAZ",
        "outputId": "72c77e7d-7f15-4fa4-dd74-b5c1e7dde8d2"
      },
      "execution_count": 66,
      "outputs": [
        {
          "output_type": "display_data",
          "data": {
            "text/plain": [
              "<Figure size 1800x576 with 1 Axes>"
            ],
            "image/png": "[encoded data removed]"
          },
          "metadata": {}
        }
      ]
    },
    {
      "cell_type": "markdown",
      "source": [
        "### Labeled Data"
      ],
      "metadata": {
        "id": "v07DNXlM3v0r"
      }
    },
    {
      "cell_type": "code",
      "source": [
        "labeled_data = all_data.loc[all_data['class'] != 0]\n",
        "labeled_data = labeled_data.reset_index(drop=True)"
      ],
      "metadata": {
        "id": "UM4Tr9kEGNqw"
      },
      "execution_count": 35,
      "outputs": []
    },
    {
      "cell_type": "code",
      "source": [
        "labeled_data"
      ],
      "metadata": {
        "colab": {
          "base_uri": "https://localhost:8080/",
          "height": 424
        },
        "id": "qPgB3GoKGU5O",
        "outputId": "9c4009e4-b0b9-4eba-9b23-f17613fa2716"
      },
      "execution_count": 36,
      "outputs": [
        {
          "output_type": "execute_result",
          "data": {
            "text/plain": [
              "          time  channel1  channel2  channel3  channel4  channel5  channel6  \\\n",
              "0         2400  -0.00001   0.00000  -0.00001   0.00000   0.00000  -0.00001   \n",
              "1         2401  -0.00001  -0.00002   0.00000  -0.00001  -0.00001  -0.00001   \n",
              "2         2402  -0.00001  -0.00002   0.00000  -0.00001  -0.00001  -0.00001   \n",
              "3         2403  -0.00001  -0.00002   0.00000  -0.00001  -0.00001  -0.00001   \n",
              "4         2404  -0.00001  -0.00002   0.00000  -0.00001  -0.00001  -0.00001   \n",
              "...        ...       ...       ...       ...       ...       ...       ...   \n",
              "1512745  50226   0.00009   0.00001   0.00003   0.00001  -0.00003  -0.00008   \n",
              "1512746  50227   0.00009   0.00001   0.00003   0.00001  -0.00003  -0.00008   \n",
              "1512747  50228   0.00009   0.00001   0.00003   0.00001  -0.00003  -0.00008   \n",
              "1512748  50229   0.00014   0.00003  -0.00001   0.00001  -0.00012   0.00006   \n",
              "1512749  50230   0.00014   0.00003  -0.00001   0.00001  -0.00012   0.00006   \n",
              "\n",
              "         channel7  channel8  class  subject_id  \n",
              "0        -0.00001   0.00001    1.0           1  \n",
              "1        -0.00003  -0.00002    1.0           1  \n",
              "2        -0.00003  -0.00002    1.0           1  \n",
              "3        -0.00003  -0.00002    1.0           1  \n",
              "4        -0.00003  -0.00002    1.0           1  \n",
              "...           ...       ...    ...         ...  \n",
              "1512745   0.00004   0.00000    6.0          36  \n",
              "1512746   0.00004   0.00000    6.0          36  \n",
              "1512747   0.00004   0.00000    6.0          36  \n",
              "1512748  -0.00007  -0.00013    6.0          36  \n",
              "1512749  -0.00007  -0.00013    6.0          36  \n",
              "\n",
              "[1512750 rows x 11 columns]"
            ],
            "text/html": [
              "\n",
              "  <div id=\"df-d33fe552-5452-43b2-8bb3-812a25336eef\">\n",
              "    <div class=\"colab-df-container\">\n",
              "      <div>\n",
              "<style scoped>\n",
              "    .dataframe tbody tr th:only-of-type {\n",
              "        vertical-align: middle;\n",
              "    }\n",
              "\n",
              "    .dataframe tbody tr th {\n",
              "        vertical-align: top;\n",
              "    }\n",
              "\n",
              "    .dataframe thead th {\n",
              "        text-align: right;\n",
              "    }\n",
              "</style>\n",
              "<table border=\"1\" class=\"dataframe\">\n",
              "  <thead>\n",
              "    <tr style=\"text-align: right;\">\n",
              "      <th></th>\n",
              "      <th>time</th>\n",
              "      <th>channel1</th>\n",
              "      <th>channel2</th>\n",
              "      <th>channel3</th>\n",
              "      <th>channel4</th>\n",
              "      <th>channel5</th>\n",
              "      <th>channel6</th>\n",
              "      <th>channel7</th>\n",
              "      <th>channel8</th>\n",
              "      <th>class</th>\n",
              "      <th>subject_id</th>\n",
              "    </tr>\n",
              "  </thead>\n",
              "  <tbody>\n",
              "    <tr>\n",
              "      <th>0</th>\n",
              "      <td>2400</td>\n",
              "      <td>-0.00001</td>\n",
              "      <td>0.00000</td>\n",
              "      <td>-0.00001</td>\n",
              "      <td>0.00000</td>\n",
              "      <td>0.00000</td>\n",
              "      <td>-0.00001</td>\n",
              "      <td>-0.00001</td>\n",
              "      <td>0.00001</td>\n",
              "      <td>1.0</td>\n",
              "      <td>1</td>\n",
              "    </tr>\n",
              "    <tr>\n",
              "      <th>1</th>\n",
              "      <td>2401</td>\n",
              "      <td>-0.00001</td>\n",
              "      <td>-0.00002</td>\n",
              "      <td>0.00000</td>\n",
              "      <td>-0.00001</td>\n",
              "      <td>-0.00001</td>\n",
              "      <td>-0.00001</td>\n",
              "      <td>-0.00003</td>\n",
              "      <td>-0.00002</td>\n",
              "      <td>1.0</td>\n",
              "      <td>1</td>\n",
              "    </tr>\n",
              "    <tr>\n",
              "      <th>2</th>\n",
              "      <td>2402</td>\n",
              "      <td>-0.00001</td>\n",
              "      <td>-0.00002</td>\n",
              "      <td>0.00000</td>\n",
              "      <td>-0.00001</td>\n",
              "      <td>-0.00001</td>\n",
              "      <td>-0.00001</td>\n",
              "      <td>-0.00003</td>\n",
              "      <td>-0.00002</td>\n",
              "      <td>1.0</td>\n",
              "      <td>1</td>\n",
              "    </tr>\n",
              "    <tr>\n",
              "      <th>3</th>\n",
              "      <td>2403</td>\n",
              "      <td>-0.00001</td>\n",
              "      <td>-0.00002</td>\n",
              "      <td>0.00000</td>\n",
              "      <td>-0.00001</td>\n",
              "      <td>-0.00001</td>\n",
              "      <td>-0.00001</td>\n",
              "      <td>-0.00003</td>\n",
              "      <td>-0.00002</td>\n",
              "      <td>1.0</td>\n",
              "      <td>1</td>\n",
              "    </tr>\n",
              "    <tr>\n",
              "      <th>4</th>\n",
              "      <td>2404</td>\n",
              "      <td>-0.00001</td>\n",
              "      <td>-0.00002</td>\n",
              "      <td>0.00000</td>\n",
              "      <td>-0.00001</td>\n",
              "      <td>-0.00001</td>\n",
              "      <td>-0.00001</td>\n",
              "      <td>-0.00003</td>\n",
              "      <td>-0.00002</td>\n",
              "      <td>1.0</td>\n",
              "      <td>1</td>\n",
              "    </tr>\n",
              "    <tr>\n",
              "      <th>...</th>\n",
              "      <td>...</td>\n",
              "      <td>...</td>\n",
              "      <td>...</td>\n",
              "      <td>...</td>\n",
              "      <td>...</td>\n",
              "      <td>...</td>\n",
              "      <td>...</td>\n",
              "      <td>...</td>\n",
              "      <td>...</td>\n",
              "      <td>...</td>\n",
              "      <td>...</td>\n",
              "    </tr>\n",
              "    <tr>\n",
              "      <th>1512745</th>\n",
              "      <td>50226</td>\n",
              "      <td>0.00009</td>\n",
              "      <td>0.00001</td>\n",
              "      <td>0.00003</td>\n",
              "      <td>0.00001</td>\n",
              "      <td>-0.00003</td>\n",
              "      <td>-0.00008</td>\n",
              "      <td>0.00004</td>\n",
              "      <td>0.00000</td>\n",
              "      <td>6.0</td>\n",
              "      <td>36</td>\n",
              "    </tr>\n",
              "    <tr>\n",
              "      <th>1512746</th>\n",
              "      <td>50227</td>\n",
              "      <td>0.00009</td>\n",
              "      <td>0.00001</td>\n",
              "      <td>0.00003</td>\n",
              "      <td>0.00001</td>\n",
              "      <td>-0.00003</td>\n",
              "      <td>-0.00008</td>\n",
              "      <td>0.00004</td>\n",
              "      <td>0.00000</td>\n",
              "      <td>6.0</td>\n",
              "      <td>36</td>\n",
              "    </tr>\n",
              "    <tr>\n",
              "      <th>1512747</th>\n",
              "      <td>50228</td>\n",
              "      <td>0.00009</td>\n",
              "      <td>0.00001</td>\n",
              "      <td>0.00003</td>\n",
              "      <td>0.00001</td>\n",
              "      <td>-0.00003</td>\n",
              "      <td>-0.00008</td>\n",
              "      <td>0.00004</td>\n",
              "      <td>0.00000</td>\n",
              "      <td>6.0</td>\n",
              "      <td>36</td>\n",
              "    </tr>\n",
              "    <tr>\n",
              "      <th>1512748</th>\n",
              "      <td>50229</td>\n",
              "      <td>0.00014</td>\n",
              "      <td>0.00003</td>\n",
              "      <td>-0.00001</td>\n",
              "      <td>0.00001</td>\n",
              "      <td>-0.00012</td>\n",
              "      <td>0.00006</td>\n",
              "      <td>-0.00007</td>\n",
              "      <td>-0.00013</td>\n",
              "      <td>6.0</td>\n",
              "      <td>36</td>\n",
              "    </tr>\n",
              "    <tr>\n",
              "      <th>1512749</th>\n",
              "      <td>50230</td>\n",
              "      <td>0.00014</td>\n",
              "      <td>0.00003</td>\n",
              "      <td>-0.00001</td>\n",
              "      <td>0.00001</td>\n",
              "      <td>-0.00012</td>\n",
              "      <td>0.00006</td>\n",
              "      <td>-0.00007</td>\n",
              "      <td>-0.00013</td>\n",
              "      <td>6.0</td>\n",
              "      <td>36</td>\n",
              "    </tr>\n",
              "  </tbody>\n",
              "</table>\n",
              "<p>1512750 rows × 11 columns</p>\n",
              "</div>\n",
              "      <button class=\"colab-df-convert\" onclick=\"convertToInteractive('df-d33fe552-5452-43b2-8bb3-812a25336eef')\"\n",
              "              title=\"Convert this dataframe to an interactive table.\"\n",
              "              style=\"display:none;\">\n",
              "        \n",
              "  <svg xmlns=\"http://www.w3.org/2000/svg\" height=\"24px\"viewBox=\"0 0 24 24\"\n",
              "       width=\"24px\">\n",
              "    <path d=\"M0 0h24v24H0V0z\" fill=\"none\"/>\n",
              "    <path d=\"M18.56 5.44l.94 2.06.94-2.06 2.06-.94-2.06-.94-.94-2.06-.94 2.06-2.06.94zm-11 1L8.5 8.5l.94-2.06 2.06-.94-2.06-.94L8.5 2.5l-.94 2.06-2.06.94zm10 10l.94 2.06.94-2.06 2.06-.94-2.06-.94-.94-2.06-.94 2.06-2.06.94z\"/><path d=\"M17.41 7.96l-1.37-1.37c-.4-.4-.92-.59-1.43-.59-.52 0-1.04.2-1.43.59L10.3 9.45l-7.72 7.72c-.78.78-.78 2.05 0 2.83L4 21.41c.39.39.9.59 1.41.59.51 0 1.02-.2 1.41-.59l7.78-7.78 2.81-2.81c.8-.78.8-2.07 0-2.86zM5.41 20L4 18.59l7.72-7.72 1.47 1.35L5.41 20z\"/>\n",
              "  </svg>\n",
              "      </button>\n",
              "      \n",
              "  <style>\n",
              "    .colab-df-container {\n",
              "      display:flex;\n",
              "      flex-wrap:wrap;\n",
              "      gap: 12px;\n",
              "    }\n",
              "\n",
              "    .colab-df-convert {\n",
              "      background-color: #E8F0FE;\n",
              "      border: none;\n",
              "      border-radius: 50%;\n",
              "      cursor: pointer;\n",
              "      display: none;\n",
              "      fill: #1967D2;\n",
              "      height: 32px;\n",
              "      padding: 0 0 0 0;\n",
              "      width: 32px;\n",
              "    }\n",
              "\n",
              "    .colab-df-convert:hover {\n",
              "      background-color: #E2EBFA;\n",
              "      box-shadow: 0px 1px 2px rgba(60, 64, 67, 0.3), 0px 1px 3px 1px rgba(60, 64, 67, 0.15);\n",
              "      fill: #174EA6;\n",
              "    }\n",
              "\n",
              "    [theme=dark] .colab-df-convert {\n",
              "      background-color: #3B4455;\n",
              "      fill: #D2E3FC;\n",
              "    }\n",
              "\n",
              "    [theme=dark] .colab-df-convert:hover {\n",
              "      background-color: #434B5C;\n",
              "      box-shadow: 0px 1px 3px 1px rgba(0, 0, 0, 0.15);\n",
              "      filter: drop-shadow(0px 1px 2px rgba(0, 0, 0, 0.3));\n",
              "      fill: #FFFFFF;\n",
              "    }\n",
              "  </style>\n",
              "\n",
              "      <script>\n",
              "        const buttonEl =\n",
              "          document.querySelector('#df-d33fe552-5452-43b2-8bb3-812a25336eef button.colab-df-convert');\n",
              "        buttonEl.style.display =\n",
              "          google.colab.kernel.accessAllowed ? 'block' : 'none';\n",
              "\n",
              "        async function convertToInteractive(key) {\n",
              "          const element = document.querySelector('#df-d33fe552-5452-43b2-8bb3-812a25336eef');\n",
              "          const dataTable =\n",
              "            await google.colab.kernel.invokeFunction('convertToInteractive',\n",
              "                                                     [key], {});\n",
              "          if (!dataTable) return;\n",
              "\n",
              "          const docLinkHtml = 'Like what you see? Visit the ' +\n",
              "            '<a target=\"_blank\" href=https://colab.research.google.com/notebooks/data_table.ipynb>data table notebook</a>'\n",
              "            + ' to learn more about interactive tables.';\n",
              "          element.innerHTML = '';\n",
              "          dataTable['output_type'] = 'display_data';\n",
              "          await google.colab.output.renderOutput(dataTable, element);\n",
              "          const docLink = document.createElement('div');\n",
              "          docLink.innerHTML = docLinkHtml;\n",
              "          element.appendChild(docLink);\n",
              "        }\n",
              "      </script>\n",
              "    </div>\n",
              "  </div>\n",
              "  "
            ]
          },
          "metadata": {},
          "execution_count": 36
        }
      ]
    },
    {
      "cell_type": "markdown",
      "source": [
        "#### Plot Labeled Data"
      ],
      "metadata": {
        "id": "wi61M_rjIQ6l"
      }
    },
    {
      "cell_type": "code",
      "source": [
        "# Create a dictionary of gestures and their corresponding colors\n",
        "gesture_colors = {1: 'blue', 2: 'orange', 3: 'green', 4: 'red', 5: 'purple', 6: 'brown', 7: 'pink'}\n",
        "\n",
        "plt.figure(figsize=(25,8))\n",
        "# Iterate through each gesture and plot it with a different color\n",
        "for gesture in gesture_colors:\n",
        "    gesture_data = labeled_data[labeled_data['class'] == gesture].iloc[:, 1:8].mean(axis=1)\n",
        "    plt.plot(gesture_data, color=gesture_colors[gesture], label=f'Gesture {gesture}')\n",
        "\n",
        "# Add a legend and set the title and axis labels\n",
        "plt.title('Labeled EMG Patterns for Hand Gestures')\n",
        "plt.xlabel('Time (ms)')\n",
        "plt.ylabel('EMG Signal')\n",
        "plt.legend()\n",
        "\n",
        "# Show the plot\n",
        "plt.show()"
      ],
      "metadata": {
        "colab": {
          "base_uri": "https://localhost:8080/",
          "height": 389
        },
        "id": "KHF1clFTdPKv",
        "outputId": "36f73ef8-26b5-4c36-9ec1-af022acd82a0"
      },
      "execution_count": 67,
      "outputs": [
        {
          "output_type": "display_data",
          "data": {
            "text/plain": [
              "<Figure size 1800x576 with 1 Axes>"
            ],
            "image/png": "[encoded data removed]"
          },
          "metadata": {}
        }
      ]
    },
    {
      "cell_type": "code",
      "source": [
        "labeled_data['class'].unique()"
      ],
      "metadata": {
        "colab": {
          "base_uri": "https://localhost:8080/"
        },
        "id": "KtZLv9yp2eAp",
        "outputId": "9c880294-e6a1-4e4f-a320-b52e91b8bc6b"
      },
      "execution_count": 68,
      "outputs": [
        {
          "output_type": "execute_result",
          "data": {
            "text/plain": [
              "array([1., 2., 3., 4., 5., 6., 7.])"
            ]
          },
          "metadata": {},
          "execution_count": 68
        }
      ]
    },
    {
      "cell_type": "code",
      "source": [
        "labeled_data.isna().sum()"
      ],
      "metadata": {
        "colab": {
          "base_uri": "https://localhost:8080/"
        },
        "id": "AKRWaORzxlQc",
        "outputId": "0b5705ec-1687-4d2e-bf4b-b57cbd5ef3f4"
      },
      "execution_count": 69,
      "outputs": [
        {
          "output_type": "execute_result",
          "data": {
            "text/plain": [
              "time          0\n",
              "channel1      0\n",
              "channel2      0\n",
              "channel3      0\n",
              "channel4      0\n",
              "channel5      0\n",
              "channel6      0\n",
              "channel7      0\n",
              "channel8      0\n",
              "class         0\n",
              "subject_id    0\n",
              "dtype: int64"
            ]
          },
          "metadata": {},
          "execution_count": 69
        }
      ]
    },
    {
      "cell_type": "markdown",
      "source": [
        "### Train Test Split\n",
        "\n",
        "Now we will split the labeled data into a partition of train-validation-test split of 70%-10%-20%. We have over 1.5M data records as labeled so, our test set will contain 300K records. We shall also use stratified sampling based on class in all the datasets.\n",
        "\n",
        "We shall be using the **train_test_split()** function available in **sklearn** library for this purpose.\n",
        "\n"
      ],
      "metadata": {
        "id": "5UxvUam_3l8L"
      }
    },
    {
      "cell_type": "code",
      "source": [
        "features = labeled_data.drop('class', axis=1)\n",
        "targets = labeled_data['class']\n",
        "X_train, X_test, y_train, y_test = train_test_split(features, targets, test_size=0.20, random_state=42, stratify=targets)\n",
        "X_train, X_val, y_train, y_val = train_test_split(features, targets, test_size=0.10, random_state=42, stratify=targets)"
      ],
      "metadata": {
        "id": "fcnR_p1Uu3xS"
      },
      "execution_count": 70,
      "outputs": []
    },
    {
      "cell_type": "code",
      "source": [
        "print('DATA SPLITS \\n1. Train: {} \\n2. Validation: {} \\n3. Test: {}'.format(X_train.shape, X_val.shape, X_test.shape))"
      ],
      "metadata": {
        "colab": {
          "base_uri": "https://localhost:8080/"
        },
        "id": "9IV3yNZnx_Wa",
        "outputId": "6d688f26-2e63-4bac-8059-2d92f27b1922"
      },
      "execution_count": 71,
      "outputs": [
        {
          "output_type": "stream",
          "name": "stdout",
          "text": [
            "DATA SPLITS \n",
            "1. Train: (1361475, 10) \n",
            "2. Validation: (151275, 10) \n",
            "3. Test: (302550, 10)\n"
          ]
        }
      ]
    },
    {
      "cell_type": "code",
      "source": [
        "X_train.head()"
      ],
      "metadata": {
        "colab": {
          "base_uri": "https://localhost:8080/",
          "height": 206
        },
        "id": "wzxa7ZdR1L3K",
        "outputId": "5fe33097-6e5f-4199-985e-18f004095b3c"
      },
      "execution_count": 72,
      "outputs": [
        {
          "output_type": "execute_result",
          "data": {
            "text/plain": [
              "          time  channel1  channel2  channel3  channel4  channel5  channel6  \\\n",
              "1095307  41546   0.00000  -0.00001   0.00004   0.00018   0.00026   0.00012   \n",
              "889230   40309  -0.00018   0.00004   0.00017   0.00019   0.00061   0.00007   \n",
              "278884   34899  -0.00005  -0.00005   0.00001   0.00005  -0.00002   0.00002   \n",
              "730379   16604  -0.00003  -0.00007  -0.00022  -0.00045   0.00008  -0.00005   \n",
              "422986   43969  -0.00069   0.00003   0.00030   0.00088   0.00031  -0.00018   \n",
              "\n",
              "         channel7  channel8  subject_id  \n",
              "1095307   0.00005  -0.00001          26  \n",
              "889230    0.00017   0.00024          21  \n",
              "278884    0.00002   0.00002           7  \n",
              "730379    0.00002   0.00000          18  \n",
              "422986    0.00057   0.00038          11  "
            ],
            "text/html": [
              "\n",
              "  <div id=\"df-5a8e3dd5-40d8-45bb-be6f-c5bb07abf4af\">\n",
              "    <div class=\"colab-df-container\">\n",
              "      <div>\n",
              "<style scoped>\n",
              "    .dataframe tbody tr th:only-of-type {\n",
              "        vertical-align: middle;\n",
              "    }\n",
              "\n",
              "    .dataframe tbody tr th {\n",
              "        vertical-align: top;\n",
              "    }\n",
              "\n",
              "    .dataframe thead th {\n",
              "        text-align: right;\n",
              "    }\n",
              "</style>\n",
              "<table border=\"1\" class=\"dataframe\">\n",
              "  <thead>\n",
              "    <tr style=\"text-align: right;\">\n",
              "      <th></th>\n",
              "      <th>time</th>\n",
              "      <th>channel1</th>\n",
              "      <th>channel2</th>\n",
              "      <th>channel3</th>\n",
              "      <th>channel4</th>\n",
              "      <th>channel5</th>\n",
              "      <th>channel6</th>\n",
              "      <th>channel7</th>\n",
              "      <th>channel8</th>\n",
              "      <th>subject_id</th>\n",
              "    </tr>\n",
              "  </thead>\n",
              "  <tbody>\n",
              "    <tr>\n",
              "      <th>1095307</th>\n",
              "      <td>41546</td>\n",
              "      <td>0.00000</td>\n",
              "      <td>-0.00001</td>\n",
              "      <td>0.00004</td>\n",
              "      <td>0.00018</td>\n",
              "      <td>0.00026</td>\n",
              "      <td>0.00012</td>\n",
              "      <td>0.00005</td>\n",
              "      <td>-0.00001</td>\n",
              "      <td>26</td>\n",
              "    </tr>\n",
              "    <tr>\n",
              "      <th>889230</th>\n",
              "      <td>40309</td>\n",
              "      <td>-0.00018</td>\n",
              "      <td>0.00004</td>\n",
              "      <td>0.00017</td>\n",
              "      <td>0.00019</td>\n",
              "      <td>0.00061</td>\n",
              "      <td>0.00007</td>\n",
              "      <td>0.00017</td>\n",
              "      <td>0.00024</td>\n",
              "      <td>21</td>\n",
              "    </tr>\n",
              "    <tr>\n",
              "      <th>278884</th>\n",
              "      <td>34899</td>\n",
              "      <td>-0.00005</td>\n",
              "      <td>-0.00005</td>\n",
              "      <td>0.00001</td>\n",
              "      <td>0.00005</td>\n",
              "      <td>-0.00002</td>\n",
              "      <td>0.00002</td>\n",
              "      <td>0.00002</td>\n",
              "      <td>0.00002</td>\n",
              "      <td>7</td>\n",
              "    </tr>\n",
              "    <tr>\n",
              "      <th>730379</th>\n",
              "      <td>16604</td>\n",
              "      <td>-0.00003</td>\n",
              "      <td>-0.00007</td>\n",
              "      <td>-0.00022</td>\n",
              "      <td>-0.00045</td>\n",
              "      <td>0.00008</td>\n",
              "      <td>-0.00005</td>\n",
              "      <td>0.00002</td>\n",
              "      <td>0.00000</td>\n",
              "      <td>18</td>\n",
              "    </tr>\n",
              "    <tr>\n",
              "      <th>422986</th>\n",
              "      <td>43969</td>\n",
              "      <td>-0.00069</td>\n",
              "      <td>0.00003</td>\n",
              "      <td>0.00030</td>\n",
              "      <td>0.00088</td>\n",
              "      <td>0.00031</td>\n",
              "      <td>-0.00018</td>\n",
              "      <td>0.00057</td>\n",
              "      <td>0.00038</td>\n",
              "      <td>11</td>\n",
              "    </tr>\n",
              "  </tbody>\n",
              "</table>\n",
              "</div>\n",
              "      <button class=\"colab-df-convert\" onclick=\"convertToInteractive('df-5a8e3dd5-40d8-45bb-be6f-c5bb07abf4af')\"\n",
              "              title=\"Convert this dataframe to an interactive table.\"\n",
              "              style=\"display:none;\">\n",
              "        \n",
              "  <svg xmlns=\"http://www.w3.org/2000/svg\" height=\"24px\"viewBox=\"0 0 24 24\"\n",
              "       width=\"24px\">\n",
              "    <path d=\"M0 0h24v24H0V0z\" fill=\"none\"/>\n",
              "    <path d=\"M18.56 5.44l.94 2.06.94-2.06 2.06-.94-2.06-.94-.94-2.06-.94 2.06-2.06.94zm-11 1L8.5 8.5l.94-2.06 2.06-.94-2.06-.94L8.5 2.5l-.94 2.06-2.06.94zm10 10l.94 2.06.94-2.06 2.06-.94-2.06-.94-.94-2.06-.94 2.06-2.06.94z\"/><path d=\"M17.41 7.96l-1.37-1.37c-.4-.4-.92-.59-1.43-.59-.52 0-1.04.2-1.43.59L10.3 9.45l-7.72 7.72c-.78.78-.78 2.05 0 2.83L4 21.41c.39.39.9.59 1.41.59.51 0 1.02-.2 1.41-.59l7.78-7.78 2.81-2.81c.8-.78.8-2.07 0-2.86zM5.41 20L4 18.59l7.72-7.72 1.47 1.35L5.41 20z\"/>\n",
              "  </svg>\n",
              "      </button>\n",
              "      \n",
              "  <style>\n",
              "    .colab-df-container {\n",
              "      display:flex;\n",
              "      flex-wrap:wrap;\n",
              "      gap: 12px;\n",
              "    }\n",
              "\n",
              "    .colab-df-convert {\n",
              "      background-color: #E8F0FE;\n",
              "      border: none;\n",
              "      border-radius: 50%;\n",
              "      cursor: pointer;\n",
              "      display: none;\n",
              "      fill: #1967D2;\n",
              "      height: 32px;\n",
              "      padding: 0 0 0 0;\n",
              "      width: 32px;\n",
              "    }\n",
              "\n",
              "    .colab-df-convert:hover {\n",
              "      background-color: #E2EBFA;\n",
              "      box-shadow: 0px 1px 2px rgba(60, 64, 67, 0.3), 0px 1px 3px 1px rgba(60, 64, 67, 0.15);\n",
              "      fill: #174EA6;\n",
              "    }\n",
              "\n",
              "    [theme=dark] .colab-df-convert {\n",
              "      background-color: #3B4455;\n",
              "      fill: #D2E3FC;\n",
              "    }\n",
              "\n",
              "    [theme=dark] .colab-df-convert:hover {\n",
              "      background-color: #434B5C;\n",
              "      box-shadow: 0px 1px 3px 1px rgba(0, 0, 0, 0.15);\n",
              "      filter: drop-shadow(0px 1px 2px rgba(0, 0, 0, 0.3));\n",
              "      fill: #FFFFFF;\n",
              "    }\n",
              "  </style>\n",
              "\n",
              "      <script>\n",
              "        const buttonEl =\n",
              "          document.querySelector('#df-5a8e3dd5-40d8-45bb-be6f-c5bb07abf4af button.colab-df-convert');\n",
              "        buttonEl.style.display =\n",
              "          google.colab.kernel.accessAllowed ? 'block' : 'none';\n",
              "\n",
              "        async function convertToInteractive(key) {\n",
              "          const element = document.querySelector('#df-5a8e3dd5-40d8-45bb-be6f-c5bb07abf4af');\n",
              "          const dataTable =\n",
              "            await google.colab.kernel.invokeFunction('convertToInteractive',\n",
              "                                                     [key], {});\n",
              "          if (!dataTable) return;\n",
              "\n",
              "          const docLinkHtml = 'Like what you see? Visit the ' +\n",
              "            '<a target=\"_blank\" href=https://colab.research.google.com/notebooks/data_table.ipynb>data table notebook</a>'\n",
              "            + ' to learn more about interactive tables.';\n",
              "          element.innerHTML = '';\n",
              "          dataTable['output_type'] = 'display_data';\n",
              "          await google.colab.output.renderOutput(dataTable, element);\n",
              "          const docLink = document.createElement('div');\n",
              "          docLink.innerHTML = docLinkHtml;\n",
              "          element.appendChild(docLink);\n",
              "        }\n",
              "      </script>\n",
              "    </div>\n",
              "  </div>\n",
              "  "
            ]
          },
          "metadata": {},
          "execution_count": 72
        }
      ]
    },
    {
      "cell_type": "markdown",
      "source": [
        "## Data Preprocessing"
      ],
      "metadata": {
        "id": "KRY2IhjuJ9KE"
      }
    },
    {
      "cell_type": "code",
      "source": [
        "## Insert Visualization Code"
      ],
      "metadata": {
        "id": "Jjabx0W8Iw5j"
      },
      "execution_count": 72,
      "outputs": []
    },
    {
      "cell_type": "code",
      "source": [
        "## Insert Other Code"
      ],
      "metadata": {
        "id": "-Bsycy1wMgan"
      },
      "execution_count": 72,
      "outputs": []
    },
    {
      "cell_type": "markdown",
      "source": [
        "## Feature Engineering"
      ],
      "metadata": {
        "id": "ret9iWAPqkq5"
      }
    },
    {
      "cell_type": "code",
      "source": [
        "def mean(X):\n",
        "    return np.mean(X, axis=1)\n",
        "def std(X):\n",
        "    return np.std(X, axis=1)\n",
        "def ptp(X):\n",
        "    return np.ptp(X, axis=1)\n",
        "def var(X):\n",
        "    return np.var(X, axis=1)\n",
        "def minim(X):\n",
        "    return np.min(X, axis=1)\n",
        "def maxim(X):\n",
        "    return np.max(X, axis=1)\n",
        "def argmin(X):\n",
        "    return np.argmin(X, axis=1)\n",
        "def argmax(X):\n",
        "    return np.argmax(X, axis=1)\n",
        "def rmse(X):\n",
        "    return np.sqrt(np.mean(X**2, axis=1))\n",
        "def abs_diff(X):\n",
        "    return np.sum(np.abs(np.diff(X, axis=1)),axis=1)\n",
        "def skewness(X):\n",
        "    return stats.skew(X, axis=1)\n",
        "def kurt(X):\n",
        "    return stats.kurtosis(X, axis=1)\n",
        "def entropy(X):\n",
        "    hist, _ = np.histogram(X, bins=256, density=True)\n",
        "    hist = hist[hist > 0]\n",
        "    result = -np.sum(hist * np.log2(hist))\n",
        "    return np.full(X.shape[0], result)\n",
        "def hyper_dimension(X):\n",
        "    n_samples, n_features = X.shape\n",
        "    result = np.sqrt(n_samples) * (n_features / np.sqrt(n_samples - 1))\n",
        "    return np.full(X.shape[0], result)\n",
        "def dwt_coeffs(X, wavelet='db4'):\n",
        "    coeffs = pywt.dwt(X, wavelet)\n",
        "    cA, cD = coeffs\n",
        "    return np.concatenate([cA.mean(axis=1), cD.mean(axis=1), cA.std(axis=1), cD.std(axis=1)])\n",
        "def spectrogram(X):\n",
        "    S = np.abs(librosa.stft(X))\n",
        "    return np.mean(librosa.power_to_db(S**2), axis=1)\n",
        "def mfcc(X, sr=22050, n_mfcc=20):\n",
        "    mfccs = librosa.feature.mfcc(y=X, sr=sr, n_mfcc=n_mfcc)\n",
        "    return np.mean(mfccs, axis=1)\n",
        "\n",
        "def scalogram(X, wavelet='morl'):\n",
        "    scales = np.arange(1, 129)\n",
        "    coefs, freqs = pywt.cwt(X, scales, wavelet)\n",
        "    return np.abs(coefs)\n",
        "def fractal_dimension(X):\n",
        "    return np.array([dfa(x) for x in X])\n",
        "def lyapunov_exponent(X):\n",
        "    return np.array([np.nan] * len(X))\n",
        "def corr_dim(X):\n",
        "    return np.array([nolds.corr_dim(X[i], emb_dim=4, rvals='default')[0] for i in range(X.shape[0])])\n",
        "\n",
        "def concat_features(X):\n",
        "    if X.ndim == 1:\n",
        "        X = X.reshape(-1, 1)\n",
        "    features = [mean(X),\n",
        "                std(X),\n",
        "                ptp(X),\n",
        "                var(X),\n",
        "                rmse(X),\n",
        "                abs_diff(X),\n",
        "                skewness(X),\n",
        "                kurt(X),\n",
        "                entropy(X),\n",
        "                ]\n",
        "    return np.vstack(features)\n",
        "\n",
        "                # minim(X),\n",
        "                # maxim(X),\n",
        "                # argmin(X),\n",
        "                # argmax(X),\n",
        "                # hyper_dimension(X),\n",
        "                # dwt_coeffs(X),\n",
        "                # mfcc(X),\n",
        "                # scalogram(X, wavelet='morl'),\n",
        "                # fractal_dimension(X),\n",
        "                # lyapunov_exponent(X),\n",
        "                # corr_dim(X),\n",
        "                "
      ],
      "metadata": {
        "id": "XX-SIFHxMgVT"
      },
      "execution_count": 116,
      "outputs": []
    },
    {
      "cell_type": "code",
      "source": [
        "X_train.shape"
      ],
      "metadata": {
        "colab": {
          "base_uri": "https://localhost:8080/"
        },
        "id": "Zq9BmNt1ukJC",
        "outputId": "aa059332-481a-4252-f526-816265c2808a"
      },
      "execution_count": 119,
      "outputs": [
        {
          "output_type": "execute_result",
          "data": {
            "text/plain": [
              "(1361475, 10)"
            ]
          },
          "metadata": {},
          "execution_count": 119
        }
      ]
    },
    {
      "cell_type": "code",
      "source": [
        "X_train.head()"
      ],
      "metadata": {
        "colab": {
          "base_uri": "https://localhost:8080/",
          "height": 206
        },
        "id": "reOkMgf4ABJ2",
        "outputId": "6cc3e149-ee0f-4980-8991-b90f7b198c88"
      },
      "execution_count": 120,
      "outputs": [
        {
          "output_type": "execute_result",
          "data": {
            "text/plain": [
              "          time  channel1  channel2  channel3  channel4  channel5  channel6  \\\n",
              "1095307  41546   0.00000  -0.00001   0.00004   0.00018   0.00026   0.00012   \n",
              "889230   40309  -0.00018   0.00004   0.00017   0.00019   0.00061   0.00007   \n",
              "278884   34899  -0.00005  -0.00005   0.00001   0.00005  -0.00002   0.00002   \n",
              "730379   16604  -0.00003  -0.00007  -0.00022  -0.00045   0.00008  -0.00005   \n",
              "422986   43969  -0.00069   0.00003   0.00030   0.00088   0.00031  -0.00018   \n",
              "\n",
              "         channel7  channel8  subject_id  \n",
              "1095307   0.00005  -0.00001          26  \n",
              "889230    0.00017   0.00024          21  \n",
              "278884    0.00002   0.00002           7  \n",
              "730379    0.00002   0.00000          18  \n",
              "422986    0.00057   0.00038          11  "
            ],
            "text/html": [
              "\n",
              "  <div id=\"df-be3df35e-3d91-4fd4-aa7b-440f2cf4c569\">\n",
              "    <div class=\"colab-df-container\">\n",
              "      <div>\n",
              "<style scoped>\n",
              "    .dataframe tbody tr th:only-of-type {\n",
              "        vertical-align: middle;\n",
              "    }\n",
              "\n",
              "    .dataframe tbody tr th {\n",
              "        vertical-align: top;\n",
              "    }\n",
              "\n",
              "    .dataframe thead th {\n",
              "        text-align: right;\n",
              "    }\n",
              "</style>\n",
              "<table border=\"1\" class=\"dataframe\">\n",
              "  <thead>\n",
              "    <tr style=\"text-align: right;\">\n",
              "      <th></th>\n",
              "      <th>time</th>\n",
              "      <th>channel1</th>\n",
              "      <th>channel2</th>\n",
              "      <th>channel3</th>\n",
              "      <th>channel4</th>\n",
              "      <th>channel5</th>\n",
              "      <th>channel6</th>\n",
              "      <th>channel7</th>\n",
              "      <th>channel8</th>\n",
              "      <th>subject_id</th>\n",
              "    </tr>\n",
              "  </thead>\n",
              "  <tbody>\n",
              "    <tr>\n",
              "      <th>1095307</th>\n",
              "      <td>41546</td>\n",
              "      <td>0.00000</td>\n",
              "      <td>-0.00001</td>\n",
              "      <td>0.00004</td>\n",
              "      <td>0.00018</td>\n",
              "      <td>0.00026</td>\n",
              "      <td>0.00012</td>\n",
              "      <td>0.00005</td>\n",
              "      <td>-0.00001</td>\n",
              "      <td>26</td>\n",
              "    </tr>\n",
              "    <tr>\n",
              "      <th>889230</th>\n",
              "      <td>40309</td>\n",
              "      <td>-0.00018</td>\n",
              "      <td>0.00004</td>\n",
              "      <td>0.00017</td>\n",
              "      <td>0.00019</td>\n",
              "      <td>0.00061</td>\n",
              "      <td>0.00007</td>\n",
              "      <td>0.00017</td>\n",
              "      <td>0.00024</td>\n",
              "      <td>21</td>\n",
              "    </tr>\n",
              "    <tr>\n",
              "      <th>278884</th>\n",
              "      <td>34899</td>\n",
              "      <td>-0.00005</td>\n",
              "      <td>-0.00005</td>\n",
              "      <td>0.00001</td>\n",
              "      <td>0.00005</td>\n",
              "      <td>-0.00002</td>\n",
              "      <td>0.00002</td>\n",
              "      <td>0.00002</td>\n",
              "      <td>0.00002</td>\n",
              "      <td>7</td>\n",
              "    </tr>\n",
              "    <tr>\n",
              "      <th>730379</th>\n",
              "      <td>16604</td>\n",
              "      <td>-0.00003</td>\n",
              "      <td>-0.00007</td>\n",
              "      <td>-0.00022</td>\n",
              "      <td>-0.00045</td>\n",
              "      <td>0.00008</td>\n",
              "      <td>-0.00005</td>\n",
              "      <td>0.00002</td>\n",
              "      <td>0.00000</td>\n",
              "      <td>18</td>\n",
              "    </tr>\n",
              "    <tr>\n",
              "      <th>422986</th>\n",
              "      <td>43969</td>\n",
              "      <td>-0.00069</td>\n",
              "      <td>0.00003</td>\n",
              "      <td>0.00030</td>\n",
              "      <td>0.00088</td>\n",
              "      <td>0.00031</td>\n",
              "      <td>-0.00018</td>\n",
              "      <td>0.00057</td>\n",
              "      <td>0.00038</td>\n",
              "      <td>11</td>\n",
              "    </tr>\n",
              "  </tbody>\n",
              "</table>\n",
              "</div>\n",
              "      <button class=\"colab-df-convert\" onclick=\"convertToInteractive('df-be3df35e-3d91-4fd4-aa7b-440f2cf4c569')\"\n",
              "              title=\"Convert this dataframe to an interactive table.\"\n",
              "              style=\"display:none;\">\n",
              "        \n",
              "  <svg xmlns=\"http://www.w3.org/2000/svg\" height=\"24px\"viewBox=\"0 0 24 24\"\n",
              "       width=\"24px\">\n",
              "    <path d=\"M0 0h24v24H0V0z\" fill=\"none\"/>\n",
              "    <path d=\"M18.56 5.44l.94 2.06.94-2.06 2.06-.94-2.06-.94-.94-2.06-.94 2.06-2.06.94zm-11 1L8.5 8.5l.94-2.06 2.06-.94-2.06-.94L8.5 2.5l-.94 2.06-2.06.94zm10 10l.94 2.06.94-2.06 2.06-.94-2.06-.94-.94-2.06-.94 2.06-2.06.94z\"/><path d=\"M17.41 7.96l-1.37-1.37c-.4-.4-.92-.59-1.43-.59-.52 0-1.04.2-1.43.59L10.3 9.45l-7.72 7.72c-.78.78-.78 2.05 0 2.83L4 21.41c.39.39.9.59 1.41.59.51 0 1.02-.2 1.41-.59l7.78-7.78 2.81-2.81c.8-.78.8-2.07 0-2.86zM5.41 20L4 18.59l7.72-7.72 1.47 1.35L5.41 20z\"/>\n",
              "  </svg>\n",
              "      </button>\n",
              "      \n",
              "  <style>\n",
              "    .colab-df-container {\n",
              "      display:flex;\n",
              "      flex-wrap:wrap;\n",
              "      gap: 12px;\n",
              "    }\n",
              "\n",
              "    .colab-df-convert {\n",
              "      background-color: #E8F0FE;\n",
              "      border: none;\n",
              "      border-radius: 50%;\n",
              "      cursor: pointer;\n",
              "      display: none;\n",
              "      fill: #1967D2;\n",
              "      height: 32px;\n",
              "      padding: 0 0 0 0;\n",
              "      width: 32px;\n",
              "    }\n",
              "\n",
              "    .colab-df-convert:hover {\n",
              "      background-color: #E2EBFA;\n",
              "      box-shadow: 0px 1px 2px rgba(60, 64, 67, 0.3), 0px 1px 3px 1px rgba(60, 64, 67, 0.15);\n",
              "      fill: #174EA6;\n",
              "    }\n",
              "\n",
              "    [theme=dark] .colab-df-convert {\n",
              "      background-color: #3B4455;\n",
              "      fill: #D2E3FC;\n",
              "    }\n",
              "\n",
              "    [theme=dark] .colab-df-convert:hover {\n",
              "      background-color: #434B5C;\n",
              "      box-shadow: 0px 1px 3px 1px rgba(0, 0, 0, 0.15);\n",
              "      filter: drop-shadow(0px 1px 2px rgba(0, 0, 0, 0.3));\n",
              "      fill: #FFFFFF;\n",
              "    }\n",
              "  </style>\n",
              "\n",
              "      <script>\n",
              "        const buttonEl =\n",
              "          document.querySelector('#df-be3df35e-3d91-4fd4-aa7b-440f2cf4c569 button.colab-df-convert');\n",
              "        buttonEl.style.display =\n",
              "          google.colab.kernel.accessAllowed ? 'block' : 'none';\n",
              "\n",
              "        async function convertToInteractive(key) {\n",
              "          const element = document.querySelector('#df-be3df35e-3d91-4fd4-aa7b-440f2cf4c569');\n",
              "          const dataTable =\n",
              "            await google.colab.kernel.invokeFunction('convertToInteractive',\n",
              "                                                     [key], {});\n",
              "          if (!dataTable) return;\n",
              "\n",
              "          const docLinkHtml = 'Like what you see? Visit the ' +\n",
              "            '<a target=\"_blank\" href=https://colab.research.google.com/notebooks/data_table.ipynb>data table notebook</a>'\n",
              "            + ' to learn more about interactive tables.';\n",
              "          element.innerHTML = '';\n",
              "          dataTable['output_type'] = 'display_data';\n",
              "          await google.colab.output.renderOutput(dataTable, element);\n",
              "          const docLink = document.createElement('div');\n",
              "          docLink.innerHTML = docLinkHtml;\n",
              "          element.appendChild(docLink);\n",
              "        }\n",
              "      </script>\n",
              "    </div>\n",
              "  </div>\n",
              "  "
            ]
          },
          "metadata": {},
          "execution_count": 120
        }
      ]
    },
    {
      "cell_type": "code",
      "source": [
        "# Extract features for each channel\n",
        "col_names = []\n",
        "channel_features = []\n",
        "for i in range(8):\n",
        "    X = X_train[f\"channel{i+1}\"].values\n",
        "    channel_features.append(concat_features(X).T)\n",
        "print(len(channel_features))    \n",
        "\n",
        "# Pad the shorter feature arrays with zeros\n",
        "max_rows = max(len(arr) for arr in channel_features)\n",
        "for i in range(8):\n",
        "    num_rows = len(channel_features[i])\n",
        "    if num_rows < max_rows:\n",
        "        num_cols = channel_features[i].shape[1]\n",
        "        padding = np.zeros((max_rows - num_rows, num_cols))\n",
        "        channel_features[i] = np.concatenate([channel_features[i], padding], axis=0)\n",
        "    col_names.append([f\"channel{i}_{feat}\" for feat in [\"mean\", \"std\", \"ptp\", \"var\", \"rmse\", \"abs_diff\", \"skewness\", \"kurt\", \"entropy\"]])\n",
        "    \n",
        "\n",
        "# Concatenate the features\n",
        "ffe_data = np.concatenate(channel_features, axis=1)\n",
        "all_chnls = [chnl for col in col_names for chnl in col]\n",
        "ffe_df = pd.DataFrame(ffe_data, columns=all_chnls)\n",
        "\n",
        "# Merge the feature dataframe with X_train\n",
        "merged_df = pd.concat([X_train.reset_index(drop=True), ffe_df], axis=1)\n",
        "print('Engineered Features: ', merged_df.shape)\n",
        "merged_df.head()"
      ],
      "metadata": {
        "colab": {
          "base_uri": "https://localhost:8080/",
          "height": 374
        },
        "id": "r5IQmpC3_x9j",
        "outputId": "d832d34f-bc94-485e-a1fb-4b3b7cf20e21"
      },
      "execution_count": 140,
      "outputs": [
        {
          "output_type": "stream",
          "name": "stderr",
          "text": [
            "<ipython-input-116-5db65aab0c04>:22: RuntimeWarning: Precision loss occurred in moment calculation due to catastrophic cancellation. This occurs when the data are nearly identical. Results may be unreliable.\n",
            "  return stats.skew(X, axis=1)\n",
            "<ipython-input-116-5db65aab0c04>:24: RuntimeWarning: Precision loss occurred in moment calculation due to catastrophic cancellation. This occurs when the data are nearly identical. Results may be unreliable.\n",
            "  return stats.kurtosis(X, axis=1)\n"
          ]
        },
        {
          "output_type": "stream",
          "name": "stdout",
          "text": [
            "8\n",
            "Engineered Features:  (1361475, 82)\n"
          ]
        },
        {
          "output_type": "execute_result",
          "data": {
            "text/plain": [
              "    time  channel1  channel2  channel3  channel4  channel5  channel6  \\\n",
              "0  41546   0.00000  -0.00001   0.00004   0.00018   0.00026   0.00012   \n",
              "1  40309  -0.00018   0.00004   0.00017   0.00019   0.00061   0.00007   \n",
              "2  34899  -0.00005  -0.00005   0.00001   0.00005  -0.00002   0.00002   \n",
              "3  16604  -0.00003  -0.00007  -0.00022  -0.00045   0.00008  -0.00005   \n",
              "4  43969  -0.00069   0.00003   0.00030   0.00088   0.00031  -0.00018   \n",
              "\n",
              "   channel7  channel8  subject_id  channel0_mean  channel0_std  channel0_ptp  \\\n",
              "0   0.00005  -0.00001          26        0.00000           0.0           0.0   \n",
              "1   0.00017   0.00024          21       -0.00018           0.0           0.0   \n",
              "2   0.00002   0.00002           7       -0.00005           0.0           0.0   \n",
              "3   0.00002   0.00000          18       -0.00003           0.0           0.0   \n",
              "4   0.00057   0.00038          11       -0.00069           0.0           0.0   \n",
              "\n",
              "   channel0_var  channel0_rmse  channel0_abs_diff  channel0_skewness  \\\n",
              "0           0.0        0.00000                0.0                NaN   \n",
              "1           0.0        0.00018                0.0                NaN   \n",
              "2           0.0        0.00005                0.0                NaN   \n",
              "3           0.0        0.00003                0.0                NaN   \n",
              "4           0.0        0.00069                0.0                NaN   \n",
              "\n",
              "   channel0_kurt  channel0_entropy  channel1_mean  channel1_std  channel1_ptp  \\\n",
              "0            NaN     -1.100594e+06       -0.00001           0.0           0.0   \n",
              "1            NaN     -1.100594e+06        0.00004           0.0           0.0   \n",
              "2            NaN     -1.100594e+06       -0.00005           0.0           0.0   \n",
              "3            NaN     -1.100594e+06       -0.00007           0.0           0.0   \n",
              "4            NaN     -1.100594e+06        0.00003           0.0           0.0   \n",
              "\n",
              "   channel1_var  channel1_rmse  channel1_abs_diff  channel1_skewness  \\\n",
              "0           0.0        0.00001                0.0                NaN   \n",
              "1           0.0        0.00004                0.0                NaN   \n",
              "2           0.0        0.00005                0.0                NaN   \n",
              "3           0.0        0.00007                0.0                NaN   \n",
              "4           0.0        0.00003                0.0                NaN   \n",
              "\n",
              "   channel1_kurt  channel1_entropy  channel2_mean  channel2_std  channel2_ptp  \\\n",
              "0            NaN     -1.146627e+06        0.00004           0.0           0.0   \n",
              "1            NaN     -1.146627e+06        0.00017           0.0           0.0   \n",
              "2            NaN     -1.146627e+06        0.00001           0.0           0.0   \n",
              "3            NaN     -1.146627e+06       -0.00022           0.0           0.0   \n",
              "4            NaN     -1.146627e+06        0.00030           0.0           0.0   \n",
              "\n",
              "   channel2_var  channel2_rmse  channel2_abs_diff  channel2_skewness  \\\n",
              "0           0.0        0.00004                0.0                NaN   \n",
              "1           0.0        0.00017                0.0                NaN   \n",
              "2           0.0        0.00001                0.0                NaN   \n",
              "3           0.0        0.00022                0.0                NaN   \n",
              "4           0.0        0.00030                0.0                NaN   \n",
              "\n",
              "   channel2_kurt  channel2_entropy  channel3_mean  channel3_std  channel3_ptp  \\\n",
              "0            NaN     -1.124805e+06        0.00018           0.0           0.0   \n",
              "1            NaN     -1.124805e+06        0.00019           0.0           0.0   \n",
              "2            NaN     -1.124805e+06        0.00005           0.0           0.0   \n",
              "3            NaN     -1.124805e+06       -0.00045           0.0           0.0   \n",
              "4            NaN     -1.124805e+06        0.00088           0.0           0.0   \n",
              "\n",
              "   channel3_var  channel3_rmse  channel3_abs_diff  channel3_skewness  \\\n",
              "0           0.0        0.00018                0.0                NaN   \n",
              "1           0.0        0.00019                0.0                NaN   \n",
              "2           0.0        0.00005                0.0                NaN   \n",
              "3           0.0        0.00045                0.0                NaN   \n",
              "4           0.0        0.00088                0.0                NaN   \n",
              "\n",
              "   channel3_kurt  channel3_entropy  channel4_mean  channel4_std  channel4_ptp  \\\n",
              "0            NaN     -1.035291e+06        0.00026           0.0           0.0   \n",
              "1            NaN     -1.035291e+06        0.00061           0.0           0.0   \n",
              "2            NaN     -1.035291e+06       -0.00002           0.0           0.0   \n",
              "3            NaN     -1.035291e+06        0.00008           0.0           0.0   \n",
              "4            NaN     -1.035291e+06        0.00031           0.0           0.0   \n",
              "\n",
              "   channel4_var  channel4_rmse  channel4_abs_diff  channel4_skewness  \\\n",
              "0           0.0        0.00026                0.0                NaN   \n",
              "1           0.0        0.00061                0.0                NaN   \n",
              "2           0.0        0.00002                0.0                NaN   \n",
              "3           0.0        0.00008                0.0                NaN   \n",
              "4           0.0        0.00031                0.0                NaN   \n",
              "\n",
              "   channel4_kurt  channel4_entropy  channel5_mean  channel5_std  channel5_ptp  \\\n",
              "0            NaN    -998506.797551        0.00012           0.0           0.0   \n",
              "1            NaN    -998506.797551        0.00007           0.0           0.0   \n",
              "2            NaN    -998506.797551        0.00002           0.0           0.0   \n",
              "3            NaN    -998506.797551       -0.00005           0.0           0.0   \n",
              "4            NaN    -998506.797551       -0.00018           0.0           0.0   \n",
              "\n",
              "   channel5_var  channel5_rmse  channel5_abs_diff  channel5_skewness  \\\n",
              "0           0.0        0.00012                0.0                NaN   \n",
              "1           0.0        0.00007                0.0                NaN   \n",
              "2           0.0        0.00002                0.0                NaN   \n",
              "3           0.0        0.00005                0.0                NaN   \n",
              "4           0.0        0.00018                0.0                NaN   \n",
              "\n",
              "   channel5_kurt  channel5_entropy  channel6_mean  channel6_std  channel6_ptp  \\\n",
              "0            NaN     -1.035706e+06        0.00005           0.0           0.0   \n",
              "1            NaN     -1.035706e+06        0.00017           0.0           0.0   \n",
              "2            NaN     -1.035706e+06        0.00002           0.0           0.0   \n",
              "3            NaN     -1.035706e+06        0.00002           0.0           0.0   \n",
              "4            NaN     -1.035706e+06        0.00057           0.0           0.0   \n",
              "\n",
              "   channel6_var  channel6_rmse  channel6_abs_diff  channel6_skewness  \\\n",
              "0           0.0        0.00005                0.0                NaN   \n",
              "1           0.0        0.00017                0.0                NaN   \n",
              "2           0.0        0.00002                0.0                NaN   \n",
              "3           0.0        0.00002                0.0                NaN   \n",
              "4           0.0        0.00057                0.0                NaN   \n",
              "\n",
              "   channel6_kurt  channel6_entropy  channel7_mean  channel7_std  channel7_ptp  \\\n",
              "0            NaN     -1.102190e+06       -0.00001           0.0           0.0   \n",
              "1            NaN     -1.102190e+06        0.00024           0.0           0.0   \n",
              "2            NaN     -1.102190e+06        0.00002           0.0           0.0   \n",
              "3            NaN     -1.102190e+06        0.00000           0.0           0.0   \n",
              "4            NaN     -1.102190e+06        0.00038           0.0           0.0   \n",
              "\n",
              "   channel7_var  channel7_rmse  channel7_abs_diff  channel7_skewness  \\\n",
              "0           0.0        0.00001                0.0                NaN   \n",
              "1           0.0        0.00024                0.0                NaN   \n",
              "2           0.0        0.00002                0.0                NaN   \n",
              "3           0.0        0.00000                0.0                NaN   \n",
              "4           0.0        0.00038                0.0                NaN   \n",
              "\n",
              "   channel7_kurt  channel7_entropy  \n",
              "0            NaN     -1.092464e+06  \n",
              "1            NaN     -1.092464e+06  \n",
              "2            NaN     -1.092464e+06  \n",
              "3            NaN     -1.092464e+06  \n",
              "4            NaN     -1.092464e+06  "
            ],
            "text/html": [
              "\n",
              "  <div id=\"df-8d3f2dd9-686b-4135-a9d5-52c066545277\">\n",
              "    <div class=\"colab-df-container\">\n",
              "      <div>\n",
              "<style scoped>\n",
              "    .dataframe tbody tr th:only-of-type {\n",
              "        vertical-align: middle;\n",
              "    }\n",
              "\n",
              "    .dataframe tbody tr th {\n",
              "        vertical-align: top;\n",
              "    }\n",
              "\n",
              "    .dataframe thead th {\n",
              "        text-align: right;\n",
              "    }\n",
              "</style>\n",
              "<table border=\"1\" class=\"dataframe\">\n",
              "  <thead>\n",
              "    <tr style=\"text-align: right;\">\n",
              "      <th></th>\n",
              "      <th>time</th>\n",
              "      <th>channel1</th>\n",
              "      <th>channel2</th>\n",
              "      <th>channel3</th>\n",
              "      <th>channel4</th>\n",
              "      <th>channel5</th>\n",
              "      <th>channel6</th>\n",
              "      <th>channel7</th>\n",
              "      <th>channel8</th>\n",
              "      <th>subject_id</th>\n",
              "      <th>channel0_mean</th>\n",
              "      <th>channel0_std</th>\n",
              "      <th>channel0_ptp</th>\n",
              "      <th>channel0_var</th>\n",
              "      <th>channel0_rmse</th>\n",
              "      <th>channel0_abs_diff</th>\n",
              "      <th>channel0_skewness</th>\n",
              "      <th>channel0_kurt</th>\n",
              "      <th>channel0_entropy</th>\n",
              "      <th>channel1_mean</th>\n",
              "      <th>channel1_std</th>\n",
              "      <th>channel1_ptp</th>\n",
              "      <th>channel1_var</th>\n",
              "      <th>channel1_rmse</th>\n",
              "      <th>channel1_abs_diff</th>\n",
              "      <th>channel1_skewness</th>\n",
              "      <th>channel1_kurt</th>\n",
              "      <th>channel1_entropy</th>\n",
              "      <th>channel2_mean</th>\n",
              "      <th>channel2_std</th>\n",
              "      <th>channel2_ptp</th>\n",
              "      <th>channel2_var</th>\n",
              "      <th>channel2_rmse</th>\n",
              "      <th>channel2_abs_diff</th>\n",
              "      <th>channel2_skewness</th>\n",
              "      <th>channel2_kurt</th>\n",
              "      <th>channel2_entropy</th>\n",
              "      <th>channel3_mean</th>\n",
              "      <th>channel3_std</th>\n",
              "      <th>channel3_ptp</th>\n",
              "      <th>channel3_var</th>\n",
              "      <th>channel3_rmse</th>\n",
              "      <th>channel3_abs_diff</th>\n",
              "      <th>channel3_skewness</th>\n",
              "      <th>channel3_kurt</th>\n",
              "      <th>channel3_entropy</th>\n",
              "      <th>channel4_mean</th>\n",
              "      <th>channel4_std</th>\n",
              "      <th>channel4_ptp</th>\n",
              "      <th>channel4_var</th>\n",
              "      <th>channel4_rmse</th>\n",
              "      <th>channel4_abs_diff</th>\n",
              "      <th>channel4_skewness</th>\n",
              "      <th>channel4_kurt</th>\n",
              "      <th>channel4_entropy</th>\n",
              "      <th>channel5_mean</th>\n",
              "      <th>channel5_std</th>\n",
              "      <th>channel5_ptp</th>\n",
              "      <th>channel5_var</th>\n",
              "      <th>channel5_rmse</th>\n",
              "      <th>channel5_abs_diff</th>\n",
              "      <th>channel5_skewness</th>\n",
              "      <th>channel5_kurt</th>\n",
              "      <th>channel5_entropy</th>\n",
              "      <th>channel6_mean</th>\n",
              "      <th>channel6_std</th>\n",
              "      <th>channel6_ptp</th>\n",
              "      <th>channel6_var</th>\n",
              "      <th>channel6_rmse</th>\n",
              "      <th>channel6_abs_diff</th>\n",
              "      <th>channel6_skewness</th>\n",
              "      <th>channel6_kurt</th>\n",
              "      <th>channel6_entropy</th>\n",
              "      <th>channel7_mean</th>\n",
              "      <th>channel7_std</th>\n",
              "      <th>channel7_ptp</th>\n",
              "      <th>channel7_var</th>\n",
              "      <th>channel7_rmse</th>\n",
              "      <th>channel7_abs_diff</th>\n",
              "      <th>channel7_skewness</th>\n",
              "      <th>channel7_kurt</th>\n",
              "      <th>channel7_entropy</th>\n",
              "    </tr>\n",
              "  </thead>\n",
              "  <tbody>\n",
              "    <tr>\n",
              "      <th>0</th>\n",
              "      <td>41546</td>\n",
              "      <td>0.00000</td>\n",
              "      <td>-0.00001</td>\n",
              "      <td>0.00004</td>\n",
              "      <td>0.00018</td>\n",
              "      <td>0.00026</td>\n",
              "      <td>0.00012</td>\n",
              "      <td>0.00005</td>\n",
              "      <td>-0.00001</td>\n",
              "      <td>26</td>\n",
              "      <td>0.00000</td>\n",
              "      <td>0.0</td>\n",
              "      <td>0.0</td>\n",
              "      <td>0.0</td>\n",
              "      <td>0.00000</td>\n",
              "      <td>0.0</td>\n",
              "      <td>NaN</td>\n",
              "      <td>NaN</td>\n",
              "      <td>-1.100594e+06</td>\n",
              "      <td>-0.00001</td>\n",
              "      <td>0.0</td>\n",
              "      <td>0.0</td>\n",
              "      <td>0.0</td>\n",
              "      <td>0.00001</td>\n",
              "      <td>0.0</td>\n",
              "      <td>NaN</td>\n",
              "      <td>NaN</td>\n",
              "      <td>-1.146627e+06</td>\n",
              "      <td>0.00004</td>\n",
              "      <td>0.0</td>\n",
              "      <td>0.0</td>\n",
              "      <td>0.0</td>\n",
              "      <td>0.00004</td>\n",
              "      <td>0.0</td>\n",
              "      <td>NaN</td>\n",
              "      <td>NaN</td>\n",
              "      <td>-1.124805e+06</td>\n",
              "      <td>0.00018</td>\n",
              "      <td>0.0</td>\n",
              "      <td>0.0</td>\n",
              "      <td>0.0</td>\n",
              "      <td>0.00018</td>\n",
              "      <td>0.0</td>\n",
              "      <td>NaN</td>\n",
              "      <td>NaN</td>\n",
              "      <td>-1.035291e+06</td>\n",
              "      <td>0.00026</td>\n",
              "      <td>0.0</td>\n",
              "      <td>0.0</td>\n",
              "      <td>0.0</td>\n",
              "      <td>0.00026</td>\n",
              "      <td>0.0</td>\n",
              "      <td>NaN</td>\n",
              "      <td>NaN</td>\n",
              "      <td>-998506.797551</td>\n",
              "      <td>0.00012</td>\n",
              "      <td>0.0</td>\n",
              "      <td>0.0</td>\n",
              "      <td>0.0</td>\n",
              "      <td>0.00012</td>\n",
              "      <td>0.0</td>\n",
              "      <td>NaN</td>\n",
              "      <td>NaN</td>\n",
              "      <td>-1.035706e+06</td>\n",
              "      <td>0.00005</td>\n",
              "      <td>0.0</td>\n",
              "      <td>0.0</td>\n",
              "      <td>0.0</td>\n",
              "      <td>0.00005</td>\n",
              "      <td>0.0</td>\n",
              "      <td>NaN</td>\n",
              "      <td>NaN</td>\n",
              "      <td>-1.102190e+06</td>\n",
              "      <td>-0.00001</td>\n",
              "      <td>0.0</td>\n",
              "      <td>0.0</td>\n",
              "      <td>0.0</td>\n",
              "      <td>0.00001</td>\n",
              "      <td>0.0</td>\n",
              "      <td>NaN</td>\n",
              "      <td>NaN</td>\n",
              "      <td>-1.092464e+06</td>\n",
              "    </tr>\n",
              "    <tr>\n",
              "      <th>1</th>\n",
              "      <td>40309</td>\n",
              "      <td>-0.00018</td>\n",
              "      <td>0.00004</td>\n",
              "      <td>0.00017</td>\n",
              "      <td>0.00019</td>\n",
              "      <td>0.00061</td>\n",
              "      <td>0.00007</td>\n",
              "      <td>0.00017</td>\n",
              "      <td>0.00024</td>\n",
              "      <td>21</td>\n",
              "      <td>-0.00018</td>\n",
              "      <td>0.0</td>\n",
              "      <td>0.0</td>\n",
              "      <td>0.0</td>\n",
              "      <td>0.00018</td>\n",
              "      <td>0.0</td>\n",
              "      <td>NaN</td>\n",
              "      <td>NaN</td>\n",
              "      <td>-1.100594e+06</td>\n",
              "      <td>0.00004</td>\n",
              "      <td>0.0</td>\n",
              "      <td>0.0</td>\n",
              "      <td>0.0</td>\n",
              "      <td>0.00004</td>\n",
              "      <td>0.0</td>\n",
              "      <td>NaN</td>\n",
              "      <td>NaN</td>\n",
              "      <td>-1.146627e+06</td>\n",
              "      <td>0.00017</td>\n",
              "      <td>0.0</td>\n",
              "      <td>0.0</td>\n",
              "      <td>0.0</td>\n",
              "      <td>0.00017</td>\n",
              "      <td>0.0</td>\n",
              "      <td>NaN</td>\n",
              "      <td>NaN</td>\n",
              "      <td>-1.124805e+06</td>\n",
              "      <td>0.00019</td>\n",
              "      <td>0.0</td>\n",
              "      <td>0.0</td>\n",
              "      <td>0.0</td>\n",
              "      <td>0.00019</td>\n",
              "      <td>0.0</td>\n",
              "      <td>NaN</td>\n",
              "      <td>NaN</td>\n",
              "      <td>-1.035291e+06</td>\n",
              "      <td>0.00061</td>\n",
              "      <td>0.0</td>\n",
              "      <td>0.0</td>\n",
              "      <td>0.0</td>\n",
              "      <td>0.00061</td>\n",
              "      <td>0.0</td>\n",
              "      <td>NaN</td>\n",
              "      <td>NaN</td>\n",
              "      <td>-998506.797551</td>\n",
              "      <td>0.00007</td>\n",
              "      <td>0.0</td>\n",
              "      <td>0.0</td>\n",
              "      <td>0.0</td>\n",
              "      <td>0.00007</td>\n",
              "      <td>0.0</td>\n",
              "      <td>NaN</td>\n",
              "      <td>NaN</td>\n",
              "      <td>-1.035706e+06</td>\n",
              "      <td>0.00017</td>\n",
              "      <td>0.0</td>\n",
              "      <td>0.0</td>\n",
              "      <td>0.0</td>\n",
              "      <td>0.00017</td>\n",
              "      <td>0.0</td>\n",
              "      <td>NaN</td>\n",
              "      <td>NaN</td>\n",
              "      <td>-1.102190e+06</td>\n",
              "      <td>0.00024</td>\n",
              "      <td>0.0</td>\n",
              "      <td>0.0</td>\n",
              "      <td>0.0</td>\n",
              "      <td>0.00024</td>\n",
              "      <td>0.0</td>\n",
              "      <td>NaN</td>\n",
              "      <td>NaN</td>\n",
              "      <td>-1.092464e+06</td>\n",
              "    </tr>\n",
              "    <tr>\n",
              "      <th>2</th>\n",
              "      <td>34899</td>\n",
              "      <td>-0.00005</td>\n",
              "      <td>-0.00005</td>\n",
              "      <td>0.00001</td>\n",
              "      <td>0.00005</td>\n",
              "      <td>-0.00002</td>\n",
              "      <td>0.00002</td>\n",
              "      <td>0.00002</td>\n",
              "      <td>0.00002</td>\n",
              "      <td>7</td>\n",
              "      <td>-0.00005</td>\n",
              "      <td>0.0</td>\n",
              "      <td>0.0</td>\n",
              "      <td>0.0</td>\n",
              "      <td>0.00005</td>\n",
              "      <td>0.0</td>\n",
              "      <td>NaN</td>\n",
              "      <td>NaN</td>\n",
              "      <td>-1.100594e+06</td>\n",
              "      <td>-0.00005</td>\n",
              "      <td>0.0</td>\n",
              "      <td>0.0</td>\n",
              "      <td>0.0</td>\n",
              "      <td>0.00005</td>\n",
              "      <td>0.0</td>\n",
              "      <td>NaN</td>\n",
              "      <td>NaN</td>\n",
              "      <td>-1.146627e+06</td>\n",
              "      <td>0.00001</td>\n",
              "      <td>0.0</td>\n",
              "      <td>0.0</td>\n",
              "      <td>0.0</td>\n",
              "      <td>0.00001</td>\n",
              "      <td>0.0</td>\n",
              "      <td>NaN</td>\n",
              "      <td>NaN</td>\n",
              "      <td>-1.124805e+06</td>\n",
              "      <td>0.00005</td>\n",
              "      <td>0.0</td>\n",
              "      <td>0.0</td>\n",
              "      <td>0.0</td>\n",
              "      <td>0.00005</td>\n",
              "      <td>0.0</td>\n",
              "      <td>NaN</td>\n",
              "      <td>NaN</td>\n",
              "      <td>-1.035291e+06</td>\n",
              "      <td>-0.00002</td>\n",
              "      <td>0.0</td>\n",
              "      <td>0.0</td>\n",
              "      <td>0.0</td>\n",
              "      <td>0.00002</td>\n",
              "      <td>0.0</td>\n",
              "      <td>NaN</td>\n",
              "      <td>NaN</td>\n",
              "      <td>-998506.797551</td>\n",
              "      <td>0.00002</td>\n",
              "      <td>0.0</td>\n",
              "      <td>0.0</td>\n",
              "      <td>0.0</td>\n",
              "      <td>0.00002</td>\n",
              "      <td>0.0</td>\n",
              "      <td>NaN</td>\n",
              "      <td>NaN</td>\n",
              "      <td>-1.035706e+06</td>\n",
              "      <td>0.00002</td>\n",
              "      <td>0.0</td>\n",
              "      <td>0.0</td>\n",
              "      <td>0.0</td>\n",
              "      <td>0.00002</td>\n",
              "      <td>0.0</td>\n",
              "      <td>NaN</td>\n",
              "      <td>NaN</td>\n",
              "      <td>-1.102190e+06</td>\n",
              "      <td>0.00002</td>\n",
              "      <td>0.0</td>\n",
              "      <td>0.0</td>\n",
              "      <td>0.0</td>\n",
              "      <td>0.00002</td>\n",
              "      <td>0.0</td>\n",
              "      <td>NaN</td>\n",
              "      <td>NaN</td>\n",
              "      <td>-1.092464e+06</td>\n",
              "    </tr>\n",
              "    <tr>\n",
              "      <th>3</th>\n",
              "      <td>16604</td>\n",
              "      <td>-0.00003</td>\n",
              "      <td>-0.00007</td>\n",
              "      <td>-0.00022</td>\n",
              "      <td>-0.00045</td>\n",
              "      <td>0.00008</td>\n",
              "      <td>-0.00005</td>\n",
              "      <td>0.00002</td>\n",
              "      <td>0.00000</td>\n",
              "      <td>18</td>\n",
              "      <td>-0.00003</td>\n",
              "      <td>0.0</td>\n",
              "      <td>0.0</td>\n",
              "      <td>0.0</td>\n",
              "      <td>0.00003</td>\n",
              "      <td>0.0</td>\n",
              "      <td>NaN</td>\n",
              "      <td>NaN</td>\n",
              "      <td>-1.100594e+06</td>\n",
              "      <td>-0.00007</td>\n",
              "      <td>0.0</td>\n",
              "      <td>0.0</td>\n",
              "      <td>0.0</td>\n",
              "      <td>0.00007</td>\n",
              "      <td>0.0</td>\n",
              "      <td>NaN</td>\n",
              "      <td>NaN</td>\n",
              "      <td>-1.146627e+06</td>\n",
              "      <td>-0.00022</td>\n",
              "      <td>0.0</td>\n",
              "      <td>0.0</td>\n",
              "      <td>0.0</td>\n",
              "      <td>0.00022</td>\n",
              "      <td>0.0</td>\n",
              "      <td>NaN</td>\n",
              "      <td>NaN</td>\n",
              "      <td>-1.124805e+06</td>\n",
              "      <td>-0.00045</td>\n",
              "      <td>0.0</td>\n",
              "      <td>0.0</td>\n",
              "      <td>0.0</td>\n",
              "      <td>0.00045</td>\n",
              "      <td>0.0</td>\n",
              "      <td>NaN</td>\n",
              "      <td>NaN</td>\n",
              "      <td>-1.035291e+06</td>\n",
              "      <td>0.00008</td>\n",
              "      <td>0.0</td>\n",
              "      <td>0.0</td>\n",
              "      <td>0.0</td>\n",
              "      <td>0.00008</td>\n",
              "      <td>0.0</td>\n",
              "      <td>NaN</td>\n",
              "      <td>NaN</td>\n",
              "      <td>-998506.797551</td>\n",
              "      <td>-0.00005</td>\n",
              "      <td>0.0</td>\n",
              "      <td>0.0</td>\n",
              "      <td>0.0</td>\n",
              "      <td>0.00005</td>\n",
              "      <td>0.0</td>\n",
              "      <td>NaN</td>\n",
              "      <td>NaN</td>\n",
              "      <td>-1.035706e+06</td>\n",
              "      <td>0.00002</td>\n",
              "      <td>0.0</td>\n",
              "      <td>0.0</td>\n",
              "      <td>0.0</td>\n",
              "      <td>0.00002</td>\n",
              "      <td>0.0</td>\n",
              "      <td>NaN</td>\n",
              "      <td>NaN</td>\n",
              "      <td>-1.102190e+06</td>\n",
              "      <td>0.00000</td>\n",
              "      <td>0.0</td>\n",
              "      <td>0.0</td>\n",
              "      <td>0.0</td>\n",
              "      <td>0.00000</td>\n",
              "      <td>0.0</td>\n",
              "      <td>NaN</td>\n",
              "      <td>NaN</td>\n",
              "      <td>-1.092464e+06</td>\n",
              "    </tr>\n",
              "    <tr>\n",
              "      <th>4</th>\n",
              "      <td>43969</td>\n",
              "      <td>-0.00069</td>\n",
              "      <td>0.00003</td>\n",
              "      <td>0.00030</td>\n",
              "      <td>0.00088</td>\n",
              "      <td>0.00031</td>\n",
              "      <td>-0.00018</td>\n",
              "      <td>0.00057</td>\n",
              "      <td>0.00038</td>\n",
              "      <td>11</td>\n",
              "      <td>-0.00069</td>\n",
              "      <td>0.0</td>\n",
              "      <td>0.0</td>\n",
              "      <td>0.0</td>\n",
              "      <td>0.00069</td>\n",
              "      <td>0.0</td>\n",
              "      <td>NaN</td>\n",
              "      <td>NaN</td>\n",
              "      <td>-1.100594e+06</td>\n",
              "      <td>0.00003</td>\n",
              "      <td>0.0</td>\n",
              "      <td>0.0</td>\n",
              "      <td>0.0</td>\n",
              "      <td>0.00003</td>\n",
              "      <td>0.0</td>\n",
              "      <td>NaN</td>\n",
              "      <td>NaN</td>\n",
              "      <td>-1.146627e+06</td>\n",
              "      <td>0.00030</td>\n",
              "      <td>0.0</td>\n",
              "      <td>0.0</td>\n",
              "      <td>0.0</td>\n",
              "      <td>0.00030</td>\n",
              "      <td>0.0</td>\n",
              "      <td>NaN</td>\n",
              "      <td>NaN</td>\n",
              "      <td>-1.124805e+06</td>\n",
              "      <td>0.00088</td>\n",
              "      <td>0.0</td>\n",
              "      <td>0.0</td>\n",
              "      <td>0.0</td>\n",
              "      <td>0.00088</td>\n",
              "      <td>0.0</td>\n",
              "      <td>NaN</td>\n",
              "      <td>NaN</td>\n",
              "      <td>-1.035291e+06</td>\n",
              "      <td>0.00031</td>\n",
              "      <td>0.0</td>\n",
              "      <td>0.0</td>\n",
              "      <td>0.0</td>\n",
              "      <td>0.00031</td>\n",
              "      <td>0.0</td>\n",
              "      <td>NaN</td>\n",
              "      <td>NaN</td>\n",
              "      <td>-998506.797551</td>\n",
              "      <td>-0.00018</td>\n",
              "      <td>0.0</td>\n",
              "      <td>0.0</td>\n",
              "      <td>0.0</td>\n",
              "      <td>0.00018</td>\n",
              "      <td>0.0</td>\n",
              "      <td>NaN</td>\n",
              "      <td>NaN</td>\n",
              "      <td>-1.035706e+06</td>\n",
              "      <td>0.00057</td>\n",
              "      <td>0.0</td>\n",
              "      <td>0.0</td>\n",
              "      <td>0.0</td>\n",
              "      <td>0.00057</td>\n",
              "      <td>0.0</td>\n",
              "      <td>NaN</td>\n",
              "      <td>NaN</td>\n",
              "      <td>-1.102190e+06</td>\n",
              "      <td>0.00038</td>\n",
              "      <td>0.0</td>\n",
              "      <td>0.0</td>\n",
              "      <td>0.0</td>\n",
              "      <td>0.00038</td>\n",
              "      <td>0.0</td>\n",
              "      <td>NaN</td>\n",
              "      <td>NaN</td>\n",
              "      <td>-1.092464e+06</td>\n",
              "    </tr>\n",
              "  </tbody>\n",
              "</table>\n",
              "</div>\n",
              "      <button class=\"colab-df-convert\" onclick=\"convertToInteractive('df-8d3f2dd9-686b-4135-a9d5-52c066545277')\"\n",
              "              title=\"Convert this dataframe to an interactive table.\"\n",
              "              style=\"display:none;\">\n",
              "        \n",
              "  <svg xmlns=\"http://www.w3.org/2000/svg\" height=\"24px\"viewBox=\"0 0 24 24\"\n",
              "       width=\"24px\">\n",
              "    <path d=\"M0 0h24v24H0V0z\" fill=\"none\"/>\n",
              "    <path d=\"M18.56 5.44l.94 2.06.94-2.06 2.06-.94-2.06-.94-.94-2.06-.94 2.06-2.06.94zm-11 1L8.5 8.5l.94-2.06 2.06-.94-2.06-.94L8.5 2.5l-.94 2.06-2.06.94zm10 10l.94 2.06.94-2.06 2.06-.94-2.06-.94-.94-2.06-.94 2.06-2.06.94z\"/><path d=\"M17.41 7.96l-1.37-1.37c-.4-.4-.92-.59-1.43-.59-.52 0-1.04.2-1.43.59L10.3 9.45l-7.72 7.72c-.78.78-.78 2.05 0 2.83L4 21.41c.39.39.9.59 1.41.59.51 0 1.02-.2 1.41-.59l7.78-7.78 2.81-2.81c.8-.78.8-2.07 0-2.86zM5.41 20L4 18.59l7.72-7.72 1.47 1.35L5.41 20z\"/>\n",
              "  </svg>\n",
              "      </button>\n",
              "      \n",
              "  <style>\n",
              "    .colab-df-container {\n",
              "      display:flex;\n",
              "      flex-wrap:wrap;\n",
              "      gap: 12px;\n",
              "    }\n",
              "\n",
              "    .colab-df-convert {\n",
              "      background-color: #E8F0FE;\n",
              "      border: none;\n",
              "      border-radius: 50%;\n",
              "      cursor: pointer;\n",
              "      display: none;\n",
              "      fill: #1967D2;\n",
              "      height: 32px;\n",
              "      padding: 0 0 0 0;\n",
              "      width: 32px;\n",
              "    }\n",
              "\n",
              "    .colab-df-convert:hover {\n",
              "      background-color: #E2EBFA;\n",
              "      box-shadow: 0px 1px 2px rgba(60, 64, 67, 0.3), 0px 1px 3px 1px rgba(60, 64, 67, 0.15);\n",
              "      fill: #174EA6;\n",
              "    }\n",
              "\n",
              "    [theme=dark] .colab-df-convert {\n",
              "      background-color: #3B4455;\n",
              "      fill: #D2E3FC;\n",
              "    }\n",
              "\n",
              "    [theme=dark] .colab-df-convert:hover {\n",
              "      background-color: #434B5C;\n",
              "      box-shadow: 0px 1px 3px 1px rgba(0, 0, 0, 0.15);\n",
              "      filter: drop-shadow(0px 1px 2px rgba(0, 0, 0, 0.3));\n",
              "      fill: #FFFFFF;\n",
              "    }\n",
              "  </style>\n",
              "\n",
              "      <script>\n",
              "        const buttonEl =\n",
              "          document.querySelector('#df-8d3f2dd9-686b-4135-a9d5-52c066545277 button.colab-df-convert');\n",
              "        buttonEl.style.display =\n",
              "          google.colab.kernel.accessAllowed ? 'block' : 'none';\n",
              "\n",
              "        async function convertToInteractive(key) {\n",
              "          const element = document.querySelector('#df-8d3f2dd9-686b-4135-a9d5-52c066545277');\n",
              "          const dataTable =\n",
              "            await google.colab.kernel.invokeFunction('convertToInteractive',\n",
              "                                                     [key], {});\n",
              "          if (!dataTable) return;\n",
              "\n",
              "          const docLinkHtml = 'Like what you see? Visit the ' +\n",
              "            '<a target=\"_blank\" href=https://colab.research.google.com/notebooks/data_table.ipynb>data table notebook</a>'\n",
              "            + ' to learn more about interactive tables.';\n",
              "          element.innerHTML = '';\n",
              "          dataTable['output_type'] = 'display_data';\n",
              "          await google.colab.output.renderOutput(dataTable, element);\n",
              "          const docLink = document.createElement('div');\n",
              "          docLink.innerHTML = docLinkHtml;\n",
              "          element.appendChild(docLink);\n",
              "        }\n",
              "      </script>\n",
              "    </div>\n",
              "  </div>\n",
              "  "
            ]
          },
          "metadata": {},
          "execution_count": 140
        }
      ]
    },
    {
      "cell_type": "code",
      "source": [
        "merged_df.to_csv('all_ext_features_data.csv', index=False)"
      ],
      "metadata": {
        "id": "E87addEVGxCl"
      },
      "execution_count": 143,
      "outputs": []
    }
  ]
}